{
  "nbformat": 4,
  "nbformat_minor": 0,
  "metadata": {
    "colab": {
      "name": "DA_2.ipynb",
      "provenance": []
    },
    "kernelspec": {
      "name": "python3",
      "display_name": "Python 3"
    },
    "language_info": {
      "name": "python"
    }
  },
  "cells": [
    {
      "cell_type": "code",
      "source": [
        ""
      ],
      "metadata": {
        "id": "xGC7Oj0BGubl"
      },
      "execution_count": null,
      "outputs": []
    },
    {
      "cell_type": "code",
      "source": [
        "!pip install scipy"
      ],
      "metadata": {
        "colab": {
          "base_uri": "https://localhost:8080/"
        },
        "id": "VB3DxK5etnpN",
        "outputId": "9b9cd860-20a5-4e36-a3ba-50048e09dcc8"
      },
      "execution_count": 1,
      "outputs": [
        {
          "output_type": "stream",
          "name": "stdout",
          "text": [
            "Requirement already satisfied: scipy in /usr/local/lib/python3.7/dist-packages (1.4.1)\n",
            "Requirement already satisfied: numpy>=1.13.3 in /usr/local/lib/python3.7/dist-packages (from scipy) (1.21.6)\n"
          ]
        }
      ]
    },
    {
      "cell_type": "code",
      "execution_count": 2,
      "metadata": {
        "id": "q_Omu0D9lftG"
      },
      "outputs": [],
      "source": [
        "import pandas as pd\n",
        "import seaborn as sns\n",
        "import plotly.express as px\n",
        "import plotly.figure_factory as ff"
      ]
    },
    {
      "cell_type": "code",
      "source": [
        "from google.colab import drive\n",
        "drive.mount('/content/drive')"
      ],
      "metadata": {
        "id": "Nw85-4D0ffAb"
      },
      "execution_count": null,
      "outputs": []
    },
    {
      "cell_type": "code",
      "source": [
        "df = pd.read_csv('/content/players.csv',error_bad_lines=False)"
      ],
      "metadata": {
        "id": "z3tD-x3Zln8P",
        "colab": {
          "base_uri": "https://localhost:8080/"
        },
        "outputId": "5c0b9b04-f11c-4f9d-b3bd-97d41312a73d"
      },
      "execution_count": 5,
      "outputs": [
        {
          "output_type": "stream",
          "name": "stderr",
          "text": [
            "/usr/local/lib/python3.7/dist-packages/IPython/core/interactiveshell.py:2882: FutureWarning: The error_bad_lines argument has been deprecated and will be removed in a future version.\n",
            "\n",
            "\n",
            "  exec(code_obj, self.user_global_ns, self.user_ns)\n"
          ]
        }
      ]
    },
    {
      "cell_type": "code",
      "source": [
        "df.head()"
      ],
      "metadata": {
        "colab": {
          "base_uri": "https://localhost:8080/",
          "height": 473
        },
        "id": "cODO958Zl7MK",
        "outputId": "78116b92-1afe-4f84-841e-d55c441ff3c1"
      },
      "execution_count": 6,
      "outputs": [
        {
          "output_type": "execute_result",
          "data": {
            "text/plain": [
              "   sofifa_id                                         player_url  \\\n",
              "0     158023  https://sofifa.com/player/158023/lionel-messi/...   \n",
              "1      20801  https://sofifa.com/player/20801/c-ronaldo-dos-...   \n",
              "2     188545  https://sofifa.com/player/188545/robert-lewand...   \n",
              "3     190871  https://sofifa.com/player/190871/neymar-da-sil...   \n",
              "4     192985  https://sofifa.com/player/192985/kevin-de-bruy...   \n",
              "\n",
              "          short_name                            long_name player_positions  \\\n",
              "0           L. Messi       Lionel Andrés Messi Cuccittini       RW, ST, CF   \n",
              "1  Cristiano Ronaldo  Cristiano Ronaldo dos Santos Aveiro           ST, LW   \n",
              "2     R. Lewandowski                   Robert Lewandowski               ST   \n",
              "3          Neymar Jr        Neymar da Silva Santos Júnior          LW, CAM   \n",
              "4       K. De Bruyne                      Kevin De Bruyne          CAM, CM   \n",
              "\n",
              "   overall  potential    value_eur  wage_eur  age  ...   lcb    cb   rcb  \\\n",
              "0       93         93  103500000.0  560000.0   33  ...  52+3  52+3  52+3   \n",
              "1       92         92   63000000.0  220000.0   35  ...  54+3  54+3  54+3   \n",
              "2       91         91  111000000.0  240000.0   31  ...  60+3  60+3  60+3   \n",
              "3       91         91  132000000.0  270000.0   28  ...  49+3  49+3  49+3   \n",
              "4       91         91  129000000.0  370000.0   29  ...  69+3  69+3  69+3   \n",
              "\n",
              "     rb    gk                                    player_face_url  \\\n",
              "0  62+3  19+3  https://cdn.sofifa.net/players/158/023/21_120.png   \n",
              "1  61+3  20+3  https://cdn.sofifa.net/players/020/801/21_120.png   \n",
              "2  61+3  19+3  https://cdn.sofifa.net/players/188/545/21_120.png   \n",
              "3  62+3  20+3  https://cdn.sofifa.net/players/190/871/21_120.png   \n",
              "4  75+3  21+3  https://cdn.sofifa.net/players/192/985/21_120.png   \n",
              "\n",
              "                             club_logo_url  \\\n",
              "0  https://cdn.sofifa.net/teams/241/60.png   \n",
              "1   https://cdn.sofifa.net/teams/45/60.png   \n",
              "2   https://cdn.sofifa.net/teams/21/60.png   \n",
              "3   https://cdn.sofifa.net/teams/73/60.png   \n",
              "4   https://cdn.sofifa.net/teams/10/60.png   \n",
              "\n",
              "                             club_flag_url  \\\n",
              "0      https://cdn.sofifa.net/flags/es.png   \n",
              "1      https://cdn.sofifa.net/flags/it.png   \n",
              "2      https://cdn.sofifa.net/flags/de.png   \n",
              "3      https://cdn.sofifa.net/flags/fr.png   \n",
              "4  https://cdn.sofifa.net/flags/gb-eng.png   \n",
              "\n",
              "                            nation_logo_url  \\\n",
              "0  https://cdn.sofifa.net/teams/1369/60.png   \n",
              "1  https://cdn.sofifa.net/teams/1354/60.png   \n",
              "2                                       NaN   \n",
              "3                                       NaN   \n",
              "4  https://cdn.sofifa.net/teams/1325/60.png   \n",
              "\n",
              "                       nation_flag_url  \n",
              "0  https://cdn.sofifa.net/flags/ar.png  \n",
              "1  https://cdn.sofifa.net/flags/pt.png  \n",
              "2  https://cdn.sofifa.net/flags/pl.png  \n",
              "3  https://cdn.sofifa.net/flags/br.png  \n",
              "4  https://cdn.sofifa.net/flags/be.png  \n",
              "\n",
              "[5 rows x 110 columns]"
            ],
            "text/html": [
              "\n",
              "  <div id=\"df-f7379d50-b5c7-475e-96f6-c11ef9e298b3\">\n",
              "    <div class=\"colab-df-container\">\n",
              "      <div>\n",
              "<style scoped>\n",
              "    .dataframe tbody tr th:only-of-type {\n",
              "        vertical-align: middle;\n",
              "    }\n",
              "\n",
              "    .dataframe tbody tr th {\n",
              "        vertical-align: top;\n",
              "    }\n",
              "\n",
              "    .dataframe thead th {\n",
              "        text-align: right;\n",
              "    }\n",
              "</style>\n",
              "<table border=\"1\" class=\"dataframe\">\n",
              "  <thead>\n",
              "    <tr style=\"text-align: right;\">\n",
              "      <th></th>\n",
              "      <th>sofifa_id</th>\n",
              "      <th>player_url</th>\n",
              "      <th>short_name</th>\n",
              "      <th>long_name</th>\n",
              "      <th>player_positions</th>\n",
              "      <th>overall</th>\n",
              "      <th>potential</th>\n",
              "      <th>value_eur</th>\n",
              "      <th>wage_eur</th>\n",
              "      <th>age</th>\n",
              "      <th>...</th>\n",
              "      <th>lcb</th>\n",
              "      <th>cb</th>\n",
              "      <th>rcb</th>\n",
              "      <th>rb</th>\n",
              "      <th>gk</th>\n",
              "      <th>player_face_url</th>\n",
              "      <th>club_logo_url</th>\n",
              "      <th>club_flag_url</th>\n",
              "      <th>nation_logo_url</th>\n",
              "      <th>nation_flag_url</th>\n",
              "    </tr>\n",
              "  </thead>\n",
              "  <tbody>\n",
              "    <tr>\n",
              "      <th>0</th>\n",
              "      <td>158023</td>\n",
              "      <td>https://sofifa.com/player/158023/lionel-messi/...</td>\n",
              "      <td>L. Messi</td>\n",
              "      <td>Lionel Andrés Messi Cuccittini</td>\n",
              "      <td>RW, ST, CF</td>\n",
              "      <td>93</td>\n",
              "      <td>93</td>\n",
              "      <td>103500000.0</td>\n",
              "      <td>560000.0</td>\n",
              "      <td>33</td>\n",
              "      <td>...</td>\n",
              "      <td>52+3</td>\n",
              "      <td>52+3</td>\n",
              "      <td>52+3</td>\n",
              "      <td>62+3</td>\n",
              "      <td>19+3</td>\n",
              "      <td>https://cdn.sofifa.net/players/158/023/21_120.png</td>\n",
              "      <td>https://cdn.sofifa.net/teams/241/60.png</td>\n",
              "      <td>https://cdn.sofifa.net/flags/es.png</td>\n",
              "      <td>https://cdn.sofifa.net/teams/1369/60.png</td>\n",
              "      <td>https://cdn.sofifa.net/flags/ar.png</td>\n",
              "    </tr>\n",
              "    <tr>\n",
              "      <th>1</th>\n",
              "      <td>20801</td>\n",
              "      <td>https://sofifa.com/player/20801/c-ronaldo-dos-...</td>\n",
              "      <td>Cristiano Ronaldo</td>\n",
              "      <td>Cristiano Ronaldo dos Santos Aveiro</td>\n",
              "      <td>ST, LW</td>\n",
              "      <td>92</td>\n",
              "      <td>92</td>\n",
              "      <td>63000000.0</td>\n",
              "      <td>220000.0</td>\n",
              "      <td>35</td>\n",
              "      <td>...</td>\n",
              "      <td>54+3</td>\n",
              "      <td>54+3</td>\n",
              "      <td>54+3</td>\n",
              "      <td>61+3</td>\n",
              "      <td>20+3</td>\n",
              "      <td>https://cdn.sofifa.net/players/020/801/21_120.png</td>\n",
              "      <td>https://cdn.sofifa.net/teams/45/60.png</td>\n",
              "      <td>https://cdn.sofifa.net/flags/it.png</td>\n",
              "      <td>https://cdn.sofifa.net/teams/1354/60.png</td>\n",
              "      <td>https://cdn.sofifa.net/flags/pt.png</td>\n",
              "    </tr>\n",
              "    <tr>\n",
              "      <th>2</th>\n",
              "      <td>188545</td>\n",
              "      <td>https://sofifa.com/player/188545/robert-lewand...</td>\n",
              "      <td>R. Lewandowski</td>\n",
              "      <td>Robert Lewandowski</td>\n",
              "      <td>ST</td>\n",
              "      <td>91</td>\n",
              "      <td>91</td>\n",
              "      <td>111000000.0</td>\n",
              "      <td>240000.0</td>\n",
              "      <td>31</td>\n",
              "      <td>...</td>\n",
              "      <td>60+3</td>\n",
              "      <td>60+3</td>\n",
              "      <td>60+3</td>\n",
              "      <td>61+3</td>\n",
              "      <td>19+3</td>\n",
              "      <td>https://cdn.sofifa.net/players/188/545/21_120.png</td>\n",
              "      <td>https://cdn.sofifa.net/teams/21/60.png</td>\n",
              "      <td>https://cdn.sofifa.net/flags/de.png</td>\n",
              "      <td>NaN</td>\n",
              "      <td>https://cdn.sofifa.net/flags/pl.png</td>\n",
              "    </tr>\n",
              "    <tr>\n",
              "      <th>3</th>\n",
              "      <td>190871</td>\n",
              "      <td>https://sofifa.com/player/190871/neymar-da-sil...</td>\n",
              "      <td>Neymar Jr</td>\n",
              "      <td>Neymar da Silva Santos Júnior</td>\n",
              "      <td>LW, CAM</td>\n",
              "      <td>91</td>\n",
              "      <td>91</td>\n",
              "      <td>132000000.0</td>\n",
              "      <td>270000.0</td>\n",
              "      <td>28</td>\n",
              "      <td>...</td>\n",
              "      <td>49+3</td>\n",
              "      <td>49+3</td>\n",
              "      <td>49+3</td>\n",
              "      <td>62+3</td>\n",
              "      <td>20+3</td>\n",
              "      <td>https://cdn.sofifa.net/players/190/871/21_120.png</td>\n",
              "      <td>https://cdn.sofifa.net/teams/73/60.png</td>\n",
              "      <td>https://cdn.sofifa.net/flags/fr.png</td>\n",
              "      <td>NaN</td>\n",
              "      <td>https://cdn.sofifa.net/flags/br.png</td>\n",
              "    </tr>\n",
              "    <tr>\n",
              "      <th>4</th>\n",
              "      <td>192985</td>\n",
              "      <td>https://sofifa.com/player/192985/kevin-de-bruy...</td>\n",
              "      <td>K. De Bruyne</td>\n",
              "      <td>Kevin De Bruyne</td>\n",
              "      <td>CAM, CM</td>\n",
              "      <td>91</td>\n",
              "      <td>91</td>\n",
              "      <td>129000000.0</td>\n",
              "      <td>370000.0</td>\n",
              "      <td>29</td>\n",
              "      <td>...</td>\n",
              "      <td>69+3</td>\n",
              "      <td>69+3</td>\n",
              "      <td>69+3</td>\n",
              "      <td>75+3</td>\n",
              "      <td>21+3</td>\n",
              "      <td>https://cdn.sofifa.net/players/192/985/21_120.png</td>\n",
              "      <td>https://cdn.sofifa.net/teams/10/60.png</td>\n",
              "      <td>https://cdn.sofifa.net/flags/gb-eng.png</td>\n",
              "      <td>https://cdn.sofifa.net/teams/1325/60.png</td>\n",
              "      <td>https://cdn.sofifa.net/flags/be.png</td>\n",
              "    </tr>\n",
              "  </tbody>\n",
              "</table>\n",
              "<p>5 rows × 110 columns</p>\n",
              "</div>\n",
              "      <button class=\"colab-df-convert\" onclick=\"convertToInteractive('df-f7379d50-b5c7-475e-96f6-c11ef9e298b3')\"\n",
              "              title=\"Convert this dataframe to an interactive table.\"\n",
              "              style=\"display:none;\">\n",
              "        \n",
              "  <svg xmlns=\"http://www.w3.org/2000/svg\" height=\"24px\"viewBox=\"0 0 24 24\"\n",
              "       width=\"24px\">\n",
              "    <path d=\"M0 0h24v24H0V0z\" fill=\"none\"/>\n",
              "    <path d=\"M18.56 5.44l.94 2.06.94-2.06 2.06-.94-2.06-.94-.94-2.06-.94 2.06-2.06.94zm-11 1L8.5 8.5l.94-2.06 2.06-.94-2.06-.94L8.5 2.5l-.94 2.06-2.06.94zm10 10l.94 2.06.94-2.06 2.06-.94-2.06-.94-.94-2.06-.94 2.06-2.06.94z\"/><path d=\"M17.41 7.96l-1.37-1.37c-.4-.4-.92-.59-1.43-.59-.52 0-1.04.2-1.43.59L10.3 9.45l-7.72 7.72c-.78.78-.78 2.05 0 2.83L4 21.41c.39.39.9.59 1.41.59.51 0 1.02-.2 1.41-.59l7.78-7.78 2.81-2.81c.8-.78.8-2.07 0-2.86zM5.41 20L4 18.59l7.72-7.72 1.47 1.35L5.41 20z\"/>\n",
              "  </svg>\n",
              "      </button>\n",
              "      \n",
              "  <style>\n",
              "    .colab-df-container {\n",
              "      display:flex;\n",
              "      flex-wrap:wrap;\n",
              "      gap: 12px;\n",
              "    }\n",
              "\n",
              "    .colab-df-convert {\n",
              "      background-color: #E8F0FE;\n",
              "      border: none;\n",
              "      border-radius: 50%;\n",
              "      cursor: pointer;\n",
              "      display: none;\n",
              "      fill: #1967D2;\n",
              "      height: 32px;\n",
              "      padding: 0 0 0 0;\n",
              "      width: 32px;\n",
              "    }\n",
              "\n",
              "    .colab-df-convert:hover {\n",
              "      background-color: #E2EBFA;\n",
              "      box-shadow: 0px 1px 2px rgba(60, 64, 67, 0.3), 0px 1px 3px 1px rgba(60, 64, 67, 0.15);\n",
              "      fill: #174EA6;\n",
              "    }\n",
              "\n",
              "    [theme=dark] .colab-df-convert {\n",
              "      background-color: #3B4455;\n",
              "      fill: #D2E3FC;\n",
              "    }\n",
              "\n",
              "    [theme=dark] .colab-df-convert:hover {\n",
              "      background-color: #434B5C;\n",
              "      box-shadow: 0px 1px 3px 1px rgba(0, 0, 0, 0.15);\n",
              "      filter: drop-shadow(0px 1px 2px rgba(0, 0, 0, 0.3));\n",
              "      fill: #FFFFFF;\n",
              "    }\n",
              "  </style>\n",
              "\n",
              "      <script>\n",
              "        const buttonEl =\n",
              "          document.querySelector('#df-f7379d50-b5c7-475e-96f6-c11ef9e298b3 button.colab-df-convert');\n",
              "        buttonEl.style.display =\n",
              "          google.colab.kernel.accessAllowed ? 'block' : 'none';\n",
              "\n",
              "        async function convertToInteractive(key) {\n",
              "          const element = document.querySelector('#df-f7379d50-b5c7-475e-96f6-c11ef9e298b3');\n",
              "          const dataTable =\n",
              "            await google.colab.kernel.invokeFunction('convertToInteractive',\n",
              "                                                     [key], {});\n",
              "          if (!dataTable) return;\n",
              "\n",
              "          const docLinkHtml = 'Like what you see? Visit the ' +\n",
              "            '<a target=\"_blank\" href=https://colab.research.google.com/notebooks/data_table.ipynb>data table notebook</a>'\n",
              "            + ' to learn more about interactive tables.';\n",
              "          element.innerHTML = '';\n",
              "          dataTable['output_type'] = 'display_data';\n",
              "          await google.colab.output.renderOutput(dataTable, element);\n",
              "          const docLink = document.createElement('div');\n",
              "          docLink.innerHTML = docLinkHtml;\n",
              "          element.appendChild(docLink);\n",
              "        }\n",
              "      </script>\n",
              "    </div>\n",
              "  </div>\n",
              "  "
            ]
          },
          "metadata": {},
          "execution_count": 6
        }
      ]
    },
    {
      "cell_type": "code",
      "source": [
        "df = df[['short_name','long_name','player_positions','overall','potential','value_eur','wage_eur','age','club_name','league_name','league_level','club_position','nationality_name','release_clause_eur']]\n"
      ],
      "metadata": {
        "id": "OgYeT2-UmN0D"
      },
      "execution_count": 7,
      "outputs": []
    },
    {
      "cell_type": "code",
      "source": [
        "df.head()"
      ],
      "metadata": {
        "colab": {
          "base_uri": "https://localhost:8080/",
          "height": 461
        },
        "id": "D2EhwQLnmVSG",
        "outputId": "ee5a0a7e-5d12-4a60-808d-016c8c938f0c"
      },
      "execution_count": 8,
      "outputs": [
        {
          "output_type": "execute_result",
          "data": {
            "text/plain": [
              "          short_name                            long_name player_positions  \\\n",
              "0           L. Messi       Lionel Andrés Messi Cuccittini       RW, ST, CF   \n",
              "1  Cristiano Ronaldo  Cristiano Ronaldo dos Santos Aveiro           ST, LW   \n",
              "2     R. Lewandowski                   Robert Lewandowski               ST   \n",
              "3          Neymar Jr        Neymar da Silva Santos Júnior          LW, CAM   \n",
              "4       K. De Bruyne                      Kevin De Bruyne          CAM, CM   \n",
              "\n",
              "   overall  potential    value_eur  wage_eur  age            club_name  \\\n",
              "0       93         93  103500000.0  560000.0   33         FC Barcelona   \n",
              "1       92         92   63000000.0  220000.0   35             Juventus   \n",
              "2       91         91  111000000.0  240000.0   31    FC Bayern München   \n",
              "3       91         91  132000000.0  270000.0   28  Paris Saint-Germain   \n",
              "4       91         91  129000000.0  370000.0   29      Manchester City   \n",
              "\n",
              "              league_name  league_level club_position nationality_name  \\\n",
              "0  Spain Primera Division           1.0           CAM        Argentina   \n",
              "1         Italian Serie A           1.0            LS         Portugal   \n",
              "2    German 1. Bundesliga           1.0            ST           Poland   \n",
              "3          French Ligue 1           1.0            LW           Brazil   \n",
              "4  English Premier League           1.0           RCM          Belgium   \n",
              "\n",
              "   release_clause_eur  \n",
              "0         138400000.0  \n",
              "1          75900000.0  \n",
              "2         132000000.0  \n",
              "3         166500000.0  \n",
              "4         161000000.0  "
            ],
            "text/html": [
              "\n",
              "  <div id=\"df-7ebe80fc-f6f1-4a60-8666-66b3a3f7f40c\">\n",
              "    <div class=\"colab-df-container\">\n",
              "      <div>\n",
              "<style scoped>\n",
              "    .dataframe tbody tr th:only-of-type {\n",
              "        vertical-align: middle;\n",
              "    }\n",
              "\n",
              "    .dataframe tbody tr th {\n",
              "        vertical-align: top;\n",
              "    }\n",
              "\n",
              "    .dataframe thead th {\n",
              "        text-align: right;\n",
              "    }\n",
              "</style>\n",
              "<table border=\"1\" class=\"dataframe\">\n",
              "  <thead>\n",
              "    <tr style=\"text-align: right;\">\n",
              "      <th></th>\n",
              "      <th>short_name</th>\n",
              "      <th>long_name</th>\n",
              "      <th>player_positions</th>\n",
              "      <th>overall</th>\n",
              "      <th>potential</th>\n",
              "      <th>value_eur</th>\n",
              "      <th>wage_eur</th>\n",
              "      <th>age</th>\n",
              "      <th>club_name</th>\n",
              "      <th>league_name</th>\n",
              "      <th>league_level</th>\n",
              "      <th>club_position</th>\n",
              "      <th>nationality_name</th>\n",
              "      <th>release_clause_eur</th>\n",
              "    </tr>\n",
              "  </thead>\n",
              "  <tbody>\n",
              "    <tr>\n",
              "      <th>0</th>\n",
              "      <td>L. Messi</td>\n",
              "      <td>Lionel Andrés Messi Cuccittini</td>\n",
              "      <td>RW, ST, CF</td>\n",
              "      <td>93</td>\n",
              "      <td>93</td>\n",
              "      <td>103500000.0</td>\n",
              "      <td>560000.0</td>\n",
              "      <td>33</td>\n",
              "      <td>FC Barcelona</td>\n",
              "      <td>Spain Primera Division</td>\n",
              "      <td>1.0</td>\n",
              "      <td>CAM</td>\n",
              "      <td>Argentina</td>\n",
              "      <td>138400000.0</td>\n",
              "    </tr>\n",
              "    <tr>\n",
              "      <th>1</th>\n",
              "      <td>Cristiano Ronaldo</td>\n",
              "      <td>Cristiano Ronaldo dos Santos Aveiro</td>\n",
              "      <td>ST, LW</td>\n",
              "      <td>92</td>\n",
              "      <td>92</td>\n",
              "      <td>63000000.0</td>\n",
              "      <td>220000.0</td>\n",
              "      <td>35</td>\n",
              "      <td>Juventus</td>\n",
              "      <td>Italian Serie A</td>\n",
              "      <td>1.0</td>\n",
              "      <td>LS</td>\n",
              "      <td>Portugal</td>\n",
              "      <td>75900000.0</td>\n",
              "    </tr>\n",
              "    <tr>\n",
              "      <th>2</th>\n",
              "      <td>R. Lewandowski</td>\n",
              "      <td>Robert Lewandowski</td>\n",
              "      <td>ST</td>\n",
              "      <td>91</td>\n",
              "      <td>91</td>\n",
              "      <td>111000000.0</td>\n",
              "      <td>240000.0</td>\n",
              "      <td>31</td>\n",
              "      <td>FC Bayern München</td>\n",
              "      <td>German 1. Bundesliga</td>\n",
              "      <td>1.0</td>\n",
              "      <td>ST</td>\n",
              "      <td>Poland</td>\n",
              "      <td>132000000.0</td>\n",
              "    </tr>\n",
              "    <tr>\n",
              "      <th>3</th>\n",
              "      <td>Neymar Jr</td>\n",
              "      <td>Neymar da Silva Santos Júnior</td>\n",
              "      <td>LW, CAM</td>\n",
              "      <td>91</td>\n",
              "      <td>91</td>\n",
              "      <td>132000000.0</td>\n",
              "      <td>270000.0</td>\n",
              "      <td>28</td>\n",
              "      <td>Paris Saint-Germain</td>\n",
              "      <td>French Ligue 1</td>\n",
              "      <td>1.0</td>\n",
              "      <td>LW</td>\n",
              "      <td>Brazil</td>\n",
              "      <td>166500000.0</td>\n",
              "    </tr>\n",
              "    <tr>\n",
              "      <th>4</th>\n",
              "      <td>K. De Bruyne</td>\n",
              "      <td>Kevin De Bruyne</td>\n",
              "      <td>CAM, CM</td>\n",
              "      <td>91</td>\n",
              "      <td>91</td>\n",
              "      <td>129000000.0</td>\n",
              "      <td>370000.0</td>\n",
              "      <td>29</td>\n",
              "      <td>Manchester City</td>\n",
              "      <td>English Premier League</td>\n",
              "      <td>1.0</td>\n",
              "      <td>RCM</td>\n",
              "      <td>Belgium</td>\n",
              "      <td>161000000.0</td>\n",
              "    </tr>\n",
              "  </tbody>\n",
              "</table>\n",
              "</div>\n",
              "      <button class=\"colab-df-convert\" onclick=\"convertToInteractive('df-7ebe80fc-f6f1-4a60-8666-66b3a3f7f40c')\"\n",
              "              title=\"Convert this dataframe to an interactive table.\"\n",
              "              style=\"display:none;\">\n",
              "        \n",
              "  <svg xmlns=\"http://www.w3.org/2000/svg\" height=\"24px\"viewBox=\"0 0 24 24\"\n",
              "       width=\"24px\">\n",
              "    <path d=\"M0 0h24v24H0V0z\" fill=\"none\"/>\n",
              "    <path d=\"M18.56 5.44l.94 2.06.94-2.06 2.06-.94-2.06-.94-.94-2.06-.94 2.06-2.06.94zm-11 1L8.5 8.5l.94-2.06 2.06-.94-2.06-.94L8.5 2.5l-.94 2.06-2.06.94zm10 10l.94 2.06.94-2.06 2.06-.94-2.06-.94-.94-2.06-.94 2.06-2.06.94z\"/><path d=\"M17.41 7.96l-1.37-1.37c-.4-.4-.92-.59-1.43-.59-.52 0-1.04.2-1.43.59L10.3 9.45l-7.72 7.72c-.78.78-.78 2.05 0 2.83L4 21.41c.39.39.9.59 1.41.59.51 0 1.02-.2 1.41-.59l7.78-7.78 2.81-2.81c.8-.78.8-2.07 0-2.86zM5.41 20L4 18.59l7.72-7.72 1.47 1.35L5.41 20z\"/>\n",
              "  </svg>\n",
              "      </button>\n",
              "      \n",
              "  <style>\n",
              "    .colab-df-container {\n",
              "      display:flex;\n",
              "      flex-wrap:wrap;\n",
              "      gap: 12px;\n",
              "    }\n",
              "\n",
              "    .colab-df-convert {\n",
              "      background-color: #E8F0FE;\n",
              "      border: none;\n",
              "      border-radius: 50%;\n",
              "      cursor: pointer;\n",
              "      display: none;\n",
              "      fill: #1967D2;\n",
              "      height: 32px;\n",
              "      padding: 0 0 0 0;\n",
              "      width: 32px;\n",
              "    }\n",
              "\n",
              "    .colab-df-convert:hover {\n",
              "      background-color: #E2EBFA;\n",
              "      box-shadow: 0px 1px 2px rgba(60, 64, 67, 0.3), 0px 1px 3px 1px rgba(60, 64, 67, 0.15);\n",
              "      fill: #174EA6;\n",
              "    }\n",
              "\n",
              "    [theme=dark] .colab-df-convert {\n",
              "      background-color: #3B4455;\n",
              "      fill: #D2E3FC;\n",
              "    }\n",
              "\n",
              "    [theme=dark] .colab-df-convert:hover {\n",
              "      background-color: #434B5C;\n",
              "      box-shadow: 0px 1px 3px 1px rgba(0, 0, 0, 0.15);\n",
              "      filter: drop-shadow(0px 1px 2px rgba(0, 0, 0, 0.3));\n",
              "      fill: #FFFFFF;\n",
              "    }\n",
              "  </style>\n",
              "\n",
              "      <script>\n",
              "        const buttonEl =\n",
              "          document.querySelector('#df-7ebe80fc-f6f1-4a60-8666-66b3a3f7f40c button.colab-df-convert');\n",
              "        buttonEl.style.display =\n",
              "          google.colab.kernel.accessAllowed ? 'block' : 'none';\n",
              "\n",
              "        async function convertToInteractive(key) {\n",
              "          const element = document.querySelector('#df-7ebe80fc-f6f1-4a60-8666-66b3a3f7f40c');\n",
              "          const dataTable =\n",
              "            await google.colab.kernel.invokeFunction('convertToInteractive',\n",
              "                                                     [key], {});\n",
              "          if (!dataTable) return;\n",
              "\n",
              "          const docLinkHtml = 'Like what you see? Visit the ' +\n",
              "            '<a target=\"_blank\" href=https://colab.research.google.com/notebooks/data_table.ipynb>data table notebook</a>'\n",
              "            + ' to learn more about interactive tables.';\n",
              "          element.innerHTML = '';\n",
              "          dataTable['output_type'] = 'display_data';\n",
              "          await google.colab.output.renderOutput(dataTable, element);\n",
              "          const docLink = document.createElement('div');\n",
              "          docLink.innerHTML = docLinkHtml;\n",
              "          element.appendChild(docLink);\n",
              "        }\n",
              "      </script>\n",
              "    </div>\n",
              "  </div>\n",
              "  "
            ]
          },
          "metadata": {},
          "execution_count": 8
        }
      ]
    },
    {
      "cell_type": "code",
      "source": [
        "df = df.dropna()"
      ],
      "metadata": {
        "id": "kl9rjQMs96eV"
      },
      "execution_count": 9,
      "outputs": []
    },
    {
      "cell_type": "code",
      "source": [
        "df.describe()"
      ],
      "metadata": {
        "colab": {
          "base_uri": "https://localhost:8080/",
          "height": 344
        },
        "id": "UfYGtWVep1MK",
        "outputId": "400e775e-ebfe-456c-ce8a-89ebc6ad117e"
      },
      "execution_count": 10,
      "outputs": [
        {
          "output_type": "execute_result",
          "data": {
            "text/plain": [
              "            overall     potential     value_eur       wage_eur           age  \\\n",
              "count  17949.000000  17949.000000  1.794900e+04   17949.000000  17949.000000   \n",
              "mean      65.623266     70.987130  2.923011e+06    9070.145969     25.245696   \n",
              "std        7.056683      6.126608  7.867195e+06   20052.923397      4.690882   \n",
              "min       47.000000     47.000000  9.000000e+03     500.000000     16.000000   \n",
              "25%       61.000000     67.000000  4.750000e+05    1000.000000     21.000000   \n",
              "50%       66.000000     71.000000  9.500000e+05    3000.000000     25.000000   \n",
              "75%       70.000000     75.000000  2.000000e+06    8000.000000     29.000000   \n",
              "max       93.000000     95.000000  1.855000e+08  560000.000000     43.000000   \n",
              "\n",
              "       league_level  release_clause_eur  \n",
              "count  17949.000000        1.794900e+04  \n",
              "mean       1.349100        4.296353e+06  \n",
              "std        0.733276        1.005968e+07  \n",
              "min        1.000000        9.000000e+03  \n",
              "25%        1.000000        5.250000e+05  \n",
              "50%        1.000000        1.100000e+06  \n",
              "75%        1.000000        3.200000e+06  \n",
              "max        4.000000        2.031000e+08  "
            ],
            "text/html": [
              "\n",
              "  <div id=\"df-21661a75-ec9c-4a82-ae7b-b54080da83c9\">\n",
              "    <div class=\"colab-df-container\">\n",
              "      <div>\n",
              "<style scoped>\n",
              "    .dataframe tbody tr th:only-of-type {\n",
              "        vertical-align: middle;\n",
              "    }\n",
              "\n",
              "    .dataframe tbody tr th {\n",
              "        vertical-align: top;\n",
              "    }\n",
              "\n",
              "    .dataframe thead th {\n",
              "        text-align: right;\n",
              "    }\n",
              "</style>\n",
              "<table border=\"1\" class=\"dataframe\">\n",
              "  <thead>\n",
              "    <tr style=\"text-align: right;\">\n",
              "      <th></th>\n",
              "      <th>overall</th>\n",
              "      <th>potential</th>\n",
              "      <th>value_eur</th>\n",
              "      <th>wage_eur</th>\n",
              "      <th>age</th>\n",
              "      <th>league_level</th>\n",
              "      <th>release_clause_eur</th>\n",
              "    </tr>\n",
              "  </thead>\n",
              "  <tbody>\n",
              "    <tr>\n",
              "      <th>count</th>\n",
              "      <td>17949.000000</td>\n",
              "      <td>17949.000000</td>\n",
              "      <td>1.794900e+04</td>\n",
              "      <td>17949.000000</td>\n",
              "      <td>17949.000000</td>\n",
              "      <td>17949.000000</td>\n",
              "      <td>1.794900e+04</td>\n",
              "    </tr>\n",
              "    <tr>\n",
              "      <th>mean</th>\n",
              "      <td>65.623266</td>\n",
              "      <td>70.987130</td>\n",
              "      <td>2.923011e+06</td>\n",
              "      <td>9070.145969</td>\n",
              "      <td>25.245696</td>\n",
              "      <td>1.349100</td>\n",
              "      <td>4.296353e+06</td>\n",
              "    </tr>\n",
              "    <tr>\n",
              "      <th>std</th>\n",
              "      <td>7.056683</td>\n",
              "      <td>6.126608</td>\n",
              "      <td>7.867195e+06</td>\n",
              "      <td>20052.923397</td>\n",
              "      <td>4.690882</td>\n",
              "      <td>0.733276</td>\n",
              "      <td>1.005968e+07</td>\n",
              "    </tr>\n",
              "    <tr>\n",
              "      <th>min</th>\n",
              "      <td>47.000000</td>\n",
              "      <td>47.000000</td>\n",
              "      <td>9.000000e+03</td>\n",
              "      <td>500.000000</td>\n",
              "      <td>16.000000</td>\n",
              "      <td>1.000000</td>\n",
              "      <td>9.000000e+03</td>\n",
              "    </tr>\n",
              "    <tr>\n",
              "      <th>25%</th>\n",
              "      <td>61.000000</td>\n",
              "      <td>67.000000</td>\n",
              "      <td>4.750000e+05</td>\n",
              "      <td>1000.000000</td>\n",
              "      <td>21.000000</td>\n",
              "      <td>1.000000</td>\n",
              "      <td>5.250000e+05</td>\n",
              "    </tr>\n",
              "    <tr>\n",
              "      <th>50%</th>\n",
              "      <td>66.000000</td>\n",
              "      <td>71.000000</td>\n",
              "      <td>9.500000e+05</td>\n",
              "      <td>3000.000000</td>\n",
              "      <td>25.000000</td>\n",
              "      <td>1.000000</td>\n",
              "      <td>1.100000e+06</td>\n",
              "    </tr>\n",
              "    <tr>\n",
              "      <th>75%</th>\n",
              "      <td>70.000000</td>\n",
              "      <td>75.000000</td>\n",
              "      <td>2.000000e+06</td>\n",
              "      <td>8000.000000</td>\n",
              "      <td>29.000000</td>\n",
              "      <td>1.000000</td>\n",
              "      <td>3.200000e+06</td>\n",
              "    </tr>\n",
              "    <tr>\n",
              "      <th>max</th>\n",
              "      <td>93.000000</td>\n",
              "      <td>95.000000</td>\n",
              "      <td>1.855000e+08</td>\n",
              "      <td>560000.000000</td>\n",
              "      <td>43.000000</td>\n",
              "      <td>4.000000</td>\n",
              "      <td>2.031000e+08</td>\n",
              "    </tr>\n",
              "  </tbody>\n",
              "</table>\n",
              "</div>\n",
              "      <button class=\"colab-df-convert\" onclick=\"convertToInteractive('df-21661a75-ec9c-4a82-ae7b-b54080da83c9')\"\n",
              "              title=\"Convert this dataframe to an interactive table.\"\n",
              "              style=\"display:none;\">\n",
              "        \n",
              "  <svg xmlns=\"http://www.w3.org/2000/svg\" height=\"24px\"viewBox=\"0 0 24 24\"\n",
              "       width=\"24px\">\n",
              "    <path d=\"M0 0h24v24H0V0z\" fill=\"none\"/>\n",
              "    <path d=\"M18.56 5.44l.94 2.06.94-2.06 2.06-.94-2.06-.94-.94-2.06-.94 2.06-2.06.94zm-11 1L8.5 8.5l.94-2.06 2.06-.94-2.06-.94L8.5 2.5l-.94 2.06-2.06.94zm10 10l.94 2.06.94-2.06 2.06-.94-2.06-.94-.94-2.06-.94 2.06-2.06.94z\"/><path d=\"M17.41 7.96l-1.37-1.37c-.4-.4-.92-.59-1.43-.59-.52 0-1.04.2-1.43.59L10.3 9.45l-7.72 7.72c-.78.78-.78 2.05 0 2.83L4 21.41c.39.39.9.59 1.41.59.51 0 1.02-.2 1.41-.59l7.78-7.78 2.81-2.81c.8-.78.8-2.07 0-2.86zM5.41 20L4 18.59l7.72-7.72 1.47 1.35L5.41 20z\"/>\n",
              "  </svg>\n",
              "      </button>\n",
              "      \n",
              "  <style>\n",
              "    .colab-df-container {\n",
              "      display:flex;\n",
              "      flex-wrap:wrap;\n",
              "      gap: 12px;\n",
              "    }\n",
              "\n",
              "    .colab-df-convert {\n",
              "      background-color: #E8F0FE;\n",
              "      border: none;\n",
              "      border-radius: 50%;\n",
              "      cursor: pointer;\n",
              "      display: none;\n",
              "      fill: #1967D2;\n",
              "      height: 32px;\n",
              "      padding: 0 0 0 0;\n",
              "      width: 32px;\n",
              "    }\n",
              "\n",
              "    .colab-df-convert:hover {\n",
              "      background-color: #E2EBFA;\n",
              "      box-shadow: 0px 1px 2px rgba(60, 64, 67, 0.3), 0px 1px 3px 1px rgba(60, 64, 67, 0.15);\n",
              "      fill: #174EA6;\n",
              "    }\n",
              "\n",
              "    [theme=dark] .colab-df-convert {\n",
              "      background-color: #3B4455;\n",
              "      fill: #D2E3FC;\n",
              "    }\n",
              "\n",
              "    [theme=dark] .colab-df-convert:hover {\n",
              "      background-color: #434B5C;\n",
              "      box-shadow: 0px 1px 3px 1px rgba(0, 0, 0, 0.15);\n",
              "      filter: drop-shadow(0px 1px 2px rgba(0, 0, 0, 0.3));\n",
              "      fill: #FFFFFF;\n",
              "    }\n",
              "  </style>\n",
              "\n",
              "      <script>\n",
              "        const buttonEl =\n",
              "          document.querySelector('#df-21661a75-ec9c-4a82-ae7b-b54080da83c9 button.colab-df-convert');\n",
              "        buttonEl.style.display =\n",
              "          google.colab.kernel.accessAllowed ? 'block' : 'none';\n",
              "\n",
              "        async function convertToInteractive(key) {\n",
              "          const element = document.querySelector('#df-21661a75-ec9c-4a82-ae7b-b54080da83c9');\n",
              "          const dataTable =\n",
              "            await google.colab.kernel.invokeFunction('convertToInteractive',\n",
              "                                                     [key], {});\n",
              "          if (!dataTable) return;\n",
              "\n",
              "          const docLinkHtml = 'Like what you see? Visit the ' +\n",
              "            '<a target=\"_blank\" href=https://colab.research.google.com/notebooks/data_table.ipynb>data table notebook</a>'\n",
              "            + ' to learn more about interactive tables.';\n",
              "          element.innerHTML = '';\n",
              "          dataTable['output_type'] = 'display_data';\n",
              "          await google.colab.output.renderOutput(dataTable, element);\n",
              "          const docLink = document.createElement('div');\n",
              "          docLink.innerHTML = docLinkHtml;\n",
              "          element.appendChild(docLink);\n",
              "        }\n",
              "      </script>\n",
              "    </div>\n",
              "  </div>\n",
              "  "
            ]
          },
          "metadata": {},
          "execution_count": 10
        }
      ]
    },
    {
      "cell_type": "code",
      "source": [
        "hist_data = [df['overall']]\n",
        "hist_data"
      ],
      "metadata": {
        "colab": {
          "base_uri": "https://localhost:8080/"
        },
        "id": "spB3HSXmKa81",
        "outputId": "87f0fdd5-0a39-411b-c451-7adb0b1c004f"
      },
      "execution_count": 11,
      "outputs": [
        {
          "output_type": "execute_result",
          "data": {
            "text/plain": [
              "[0        93\n",
              " 1        92\n",
              " 2        91\n",
              " 3        91\n",
              " 4        91\n",
              "          ..\n",
              " 18939    47\n",
              " 18940    47\n",
              " 18941    47\n",
              " 18942    47\n",
              " 18943    47\n",
              " Name: overall, Length: 17949, dtype: int64]"
            ]
          },
          "metadata": {},
          "execution_count": 11
        }
      ]
    },
    {
      "cell_type": "code",
      "source": [
        "group_labels = ['hist_data']\n",
        "fig = ff.create_distplot(hist_data, group_labels, show_hist=False, curve_type='normal', bin_size=0.5, show_rug=False)\n",
        "fig.show()"
      ],
      "metadata": {
        "colab": {
          "base_uri": "https://localhost:8080/",
          "height": 542
        },
        "id": "o37XEf9ULKjj",
        "outputId": "91221672-9d1b-462b-d98a-acefc291a42a"
      },
      "execution_count": 12,
      "outputs": [
        {
          "output_type": "display_data",
          "data": {
            "text/html": [
              "<html>\n",
              "<head><meta charset=\"utf-8\" /></head>\n",
              "<body>\n",
              "    <div>            <script src=\"https://cdnjs.cloudflare.com/ajax/libs/mathjax/2.7.5/MathJax.js?config=TeX-AMS-MML_SVG\"></script><script type=\"text/javascript\">if (window.MathJax) {MathJax.Hub.Config({SVG: {font: \"STIX-Web\"}});}</script>                <script type=\"text/javascript\">window.PlotlyConfig = {MathJaxConfig: 'local'};</script>\n",
              "        <script src=\"https://cdn.plot.ly/plotly-2.8.3.min.js\"></script>                <div id=\"db700c5b-e487-4eb0-9d6d-f99938ada6cb\" class=\"plotly-graph-div\" style=\"height:525px; width:100%;\"></div>            <script type=\"text/javascript\">                                    window.PLOTLYENV=window.PLOTLYENV || {};                                    if (document.getElementById(\"db700c5b-e487-4eb0-9d6d-f99938ada6cb\")) {                    Plotly.newPlot(                        \"db700c5b-e487-4eb0-9d6d-f99938ada6cb\",                        [{\"legendgroup\":\"hist_data\",\"marker\":{\"color\":\"rgb(31, 119, 180)\"},\"mode\":\"lines\",\"name\":\"hist_data\",\"showlegend\":true,\"x\":[47.0,47.092,47.184,47.276,47.368,47.46,47.552,47.644,47.736,47.828,47.92,48.012,48.104,48.196,48.288,48.38,48.472,48.564,48.656,48.748,48.84,48.932,49.024,49.116,49.208,49.3,49.392,49.484,49.576,49.668,49.76,49.852,49.944,50.036,50.128,50.22,50.312,50.403999999999996,50.496,50.588,50.68,50.772,50.864,50.956,51.048,51.14,51.232,51.324,51.416,51.508,51.6,51.692,51.784,51.876,51.968,52.06,52.152,52.244,52.336,52.428,52.519999999999996,52.612,52.704,52.796,52.888,52.980000000000004,53.072,53.164,53.256,53.348,53.44,53.532,53.624,53.716,53.808,53.9,53.992,54.084,54.176,54.268,54.36,54.452,54.544,54.636,54.728,54.82,54.912,55.004,55.096000000000004,55.188,55.28,55.372,55.464,55.556,55.647999999999996,55.74,55.832,55.924,56.016,56.108000000000004,56.2,56.292,56.384,56.476,56.568,56.66,56.752,56.844,56.936,57.028,57.12,57.212,57.304,57.396,57.488,57.58,57.672,57.763999999999996,57.856,57.948,58.04,58.132,58.224000000000004,58.316,58.408,58.5,58.592,58.684,58.775999999999996,58.868,58.96,59.052,59.144,59.236000000000004,59.328,59.42,59.512,59.604,59.696,59.788,59.88,59.972,60.064,60.156,60.248,60.34,60.432,60.524,60.616,60.708,60.8,60.891999999999996,60.984,61.076,61.168,61.26,61.352000000000004,61.444,61.536,61.628,61.72,61.812,61.903999999999996,61.996,62.088,62.18,62.272,62.364000000000004,62.456,62.548,62.64,62.732,62.824,62.916,63.007999999999996,63.1,63.192,63.284,63.376000000000005,63.468,63.56,63.652,63.744,63.836,63.928,64.02,64.112,64.20400000000001,64.29599999999999,64.388,64.48,64.572,64.664,64.756,64.848,64.94,65.032,65.124,65.21600000000001,65.30799999999999,65.4,65.492,65.584,65.676,65.768,65.86,65.952,66.044,66.136,66.22800000000001,66.32,66.412,66.504,66.596,66.688,66.78,66.872,66.964,67.056,67.148,67.24,67.332,67.424,67.51599999999999,67.608,67.7,67.792,67.884,67.976,68.068,68.16,68.252,68.344,68.436,68.52799999999999,68.62,68.712,68.804,68.896,68.988,69.08,69.172,69.264,69.356,69.44800000000001,69.53999999999999,69.632,69.724,69.816,69.908,70.0,70.092,70.184,70.276,70.368,70.46000000000001,70.55199999999999,70.644,70.736,70.828,70.92,71.012,71.104,71.196,71.288,71.38,71.47200000000001,71.564,71.656,71.748,71.84,71.932,72.024,72.116,72.208,72.3,72.392,72.48400000000001,72.576,72.668,72.76,72.852,72.944,73.036,73.128,73.22,73.312,73.404,73.496,73.588,73.68,73.77199999999999,73.864,73.956,74.048,74.14,74.232,74.324,74.416,74.508,74.6,74.69200000000001,74.78399999999999,74.876,74.968,75.06,75.152,75.244,75.336,75.428,75.52,75.612,75.70400000000001,75.79599999999999,75.888,75.98,76.072,76.164,76.256,76.348,76.44,76.532,76.624,76.71600000000001,76.80799999999999,76.9,76.992,77.084,77.176,77.268,77.36,77.452,77.544,77.636,77.72800000000001,77.82,77.912,78.004,78.096,78.188,78.28,78.372,78.464,78.556,78.648,78.74,78.832,78.924,79.01599999999999,79.108,79.2,79.292,79.384,79.476,79.568,79.66,79.75200000000001,79.844,79.936,80.02799999999999,80.12,80.212,80.304,80.396,80.488,80.58,80.672,80.76400000000001,80.856,80.94800000000001,81.03999999999999,81.132,81.22399999999999,81.316,81.408,81.5,81.592,81.684,81.77600000000001,81.868,81.96000000000001,82.05199999999999,82.144,82.23599999999999,82.328,82.42,82.512,82.604,82.696,82.788,82.88,82.97200000000001,83.064,83.156,83.24799999999999,83.34,83.432,83.524,83.616,83.708,83.8,83.892,83.98400000000001,84.076,84.168,84.25999999999999,84.352,84.444,84.536,84.628,84.72,84.812,84.904,84.99600000000001,85.088,85.18,85.27199999999999,85.364,85.456,85.548,85.64,85.732,85.824,85.916,86.00800000000001,86.1,86.19200000000001,86.28399999999999,86.376,86.468,86.56,86.652,86.744,86.836,86.928,87.02000000000001,87.112,87.20400000000001,87.29599999999999,87.388,87.47999999999999,87.572,87.664,87.756,87.848,87.94,88.032,88.124,88.21600000000001,88.30799999999999,88.4,88.49199999999999,88.584,88.676,88.768,88.86,88.952,89.044,89.136,89.22800000000001,89.32,89.412,89.50399999999999,89.596,89.688,89.78,89.872,89.964,90.056,90.148,90.24000000000001,90.332,90.424,90.51599999999999,90.608,90.7,90.792,90.884,90.976,91.068,91.16,91.25200000000001,91.344,91.436,91.52799999999999,91.62,91.712,91.804,91.896,91.988,92.08,92.172,92.26400000000001,92.356,92.44800000000001,92.53999999999999,92.632,92.72399999999999,92.816,92.908],\"xaxis\":\"x\",\"y\":[0.001737176120904557,0.0017978373271108497,0.0018603005469289271,0.001924606786587816,0.0019907975174217694,0.002058914663268808,0.002129000587043644,0.0022010980764705884,0.002275250328962449,0.002351500935632064,0.0024298938644236492,0.0025104734423518557,0.002593284336836951,0.0026783715361254376,0.0027657803287860373,0.002855556282271774,0.0029477452205397573,0.003042393200721144,0.003139546488834546,0.003239251534537201,0.003341554944909215,0.003446503457267072,0.003554143911003844,0.0036645232184544323,0.003777688334785483,0.0038936862269106053,0.004012563841432921,0.004134368071617966,0.004259145723401559,0.004386943480438111,0.0045178078681966565,0.004651785217112908,0.004788921624807171,0.004929262917379327,0.00507285460979369,0.005219741865367723,0.005369969454380344,0.005523581711817036,0.005680622494270463,0.005841135136016714,0.006005162404289329,0.006172746453774262,0.006343928780350925,0.0065187501741060675,0.006697250671648566,0.006879469507755342,0.007065445066379593,0.007255214831054808,0.007448815334729258,0.0076462821090674355,0.007847649633256421,0.00805295128235714,0.008262219275241433,0.00847548462215808,0.008692777071972182,0.008914125059123767,0.009139555650353471,0.009369094491243929,0.009602765752627737,0.009840592076913724,0.010082594524385053,0.010328792519523745,0.010579203797417747,0.010833844350308057,0.011092728374334122,0.011355868216537647,0.011623274322185448,0.011894955182473587,0.012170917282675534,0.012451165050798437,0.012735700806812333,0.013024524712517974,0.013317634722119604,0.013615026533569751,0.01391669354075401,0.014222626786583502,0.014532814917064141,0.014847244136411383,0.01516589816327979,0.015488758188176995,0.015815802832131354,0.016147008106682872,0.016482347375266843,0.01682179131605943,0.01716530788635381,0.017512862288535897,0.017864416937727064,0.01821993143116154,0.01857936251936516,0.018942664079201067,0.01930978708884771,0.019680679604772496,0.020055286740764167,0.020433550649085343,0.02081541050380527,0.021200802486371444,0.021589659773477134,0.021981912527280534,0.02237748788802854,0.022776309969137397,0.023178299854779504,0.023583375600024402,0.023991452233578847,0.024402441763169278,0.024816253183607306,0.025232792487576292,0.02565196267917461,0.02607366379024815,0.026497792899542665,0.026924244154702348,0.02735290879713944,0.02778367518979566,0.028216428847813436,0.028651052472132222,0.029087425986020654,0.029525426574553384,0.02996492872703707,0.030405804282386883,0.03084792247745152,0.031291149998280504,0.03173535103432516,0.0321803873355594,0.03262611827250424,0.0330724008991352,0.03351909001864891,0.03396603825206036,0.03441309610959963,0.0348601120648723,0.03530693263174445,0.03575340244390907,0.03619936433708698,0.03664465943381203,0.037089127230745825,0.037532605688464116,0.03797493132365311,0.0384159393036506,0.038855463543262504,0.03929333680378266,0.03972939079413982,0.04016345627409241,0.040595363159388435,0.04102494062880425,0.041452017232973384,0.041876421004912685,0.04229797957215071,0.04271652027035999,0.0431318702583921,0.043543856634612,0.04395230655442484,0.04435704734888684,0.044757906644288775,0.04515471248259886,0.04554729344264954,0.04593547876195052,0.04631909845900942,0.04669798345603848,0.047071965701925504,0.047440878295344845,0.04780455560788422,0.04816283340706069,0.04851554897909942,0.04886254125134759,0.04920365091419559,0.04953872054237693,0.049867594715518215,0.050190120137811066,0.05050614575667696,0.0508155228802973,0.0511181052938809,0.05141374937454239,0.05170231420466502,0.05198366168362324,0.05225765663774128,0.05252416692836528,0.0527830635579283,0.05303422077388918,0.053277516170428044,0.053512830787783676,0.053740049209119775,0.05395905965480977,0.05416975407403274,0.054372028233574954,0.05456578180373528,0.054750918441235315,0.05492734586903812,0.055094975952983384,0.05525372477514961,0.055403512703858085,0.055544264460236574,0.05567590918126553,0.05579838047923185,0.05591161649752145,0.056015559962684286,0.05611015823271075,0.05619536334146248,0.056271132039205,0.05633742582919434,0.056394211000274176,0.056441458655445045,0.05647914473637151,0.05650725004379842,0.056525760253851705,0.05653466593020477,0.05653396253209554,0.0565236504181849,0.056503734846251964,0.05647422596872641,0.05643513882406318,0.05638649332397,0.0563283142365026,0.056260631165048126,0.05618347852322118,0.056096895505702904,0.05600092605505715,0.05589561882456348,0.05578102713711061,0.05565720894019941,0.05552422675710808,0.055382147634277575,0.05523104308497889,0.0550709890293288,0.05490206573072415,0.054724357728769456,0.05453795376877627,0.05434294672791613,0.0541394335381141,0.053927515105771255,0.05370729622841017,0.05347888550833926,0.05324239526343564,0.052997941435149035,0.05274564349383223,0.05248562434150603,0.052218010212169666,0.05194293056976973,0.05166051800394232,0.05137090812364725,0.051074239448811745,0.050770653300106126,0.050460293686973384,0.05014330719403651,0.04981984286600902,0.04949005209123459,0.04915408848398293,0.04881210776562933,0.04846426764484662,0.04811072769693666,0.0477516492424322,0.047387195225095,0.04701753008944079,0.04664281965791772,0.04626323100786624,0.04587893234838687,0.045490092897241874,0.04509688275791527,0.04469947279695492,0.044298034521719175,0.04389273995864725,0.04348376153217499,0.04307127194440994,0.04265544405568351,0.042236450766091845,0.04181446489813682,0.041389659080575375,0.04096220563358336,0.04053227645533719,0.04010004291011381,0.03966567571800755,0.039229344846356894,0.0387912194029762,0.03835146753127746,0.03791025630737054,0.03746775163922267,0.0370241181679565,0.03657951917136217,0.03613411646969538,0.035688070333829765,0.03524153939582849,0.03479468056199664,0.034347648928470365,0.03390059769939944,0.033453678107769814,0.033007039338915245,0.03256082845675901,0.03211519033282493,0.031670267578052476,0.031226200477447244,0.030783126927594075,0.03034118237705651,0.02990049976968231,0.02946120949083142,0.029023439316539026,0.028587314365621258,0.028152957054731503,0.02772048705636557,0.027290021259816655,0.026861673735073407,0.02643555569965282,0.026011775488355832,0.02559043852593044,0.025171647302623883,0.024755501352602075,0.02434209723521235,0.023931528519060424,0.023523885768873678,0.023119256535114565,0.022717725346310644,0.022319373704061462,0.021924280080681653,0.021532519919436926,0.021144165637327007,0.020759286630367888,0.02037794928132323,0.02000021696983324,0.019626150084886062,0.019255806039578358,0.018889239288104712,0.01852650134491966,0.018167640806010427,0.01781270337221937,0.017461731874552945,0.017114766301413314,0.016771843827687514,0.01643299884562806,0.016098262997458725,0.01576766520963681,0.015441231728705944,0.015118986158668326,0.01480094949980956,0.014487140188905701,0.01417757414074346,0.013872264790884077,0.013571223139601194,0.013274457796923484,0.012981975028712714,0.012693778803708535,0.01240987084147057,0.01213025066115142,0.011854915631030733,0.01158386101874527,0.011317080042147615,0.011054563920728278,0.010796301927536514,0.01054228144153597,0.010292488000332334,0.010046905353211169,0.00980551551442517,0.009568298816671256,0.009335233964699242,0.009106298088994267,0.008881466799478484,0.008660714239175709,0.008444013137787334,0.008231334865127017,0.008022649484363984,0.007817925805026195,0.007617131435716,0.007420232836492661,0.007227195370876931,0.007037983357436229,0.006852560120907724,0.006670888042821634,0.006492928611585308,0.0063186424719930195,0.006147989474126366,0.005980928721612429,0.005817418619208404,0.0056574169196830296,0.005500880769966885,0.005347766756544616,0.0051980309500653556,0.005051628949146636,0.004908515923351793,0.004768646655319282,0.004631975582026813,0.004498456835172146,0.0043680442806560095,0.004240691557152685,0.004116352113756023,0.0039949792466898474,0.0038765261350728396,0.0037609458757303783,0.0036481915170455126,0.003538216091844582,0.003430972649312196,0.0033264142859336463,0.0032244941754620746,0.0031251655979104872,0.003028381967568974,0.002934096860048855,0.002842264038356647,0.002752837478001697,0.002665771391142408,0.002581020249776674,0.002498538807983841,0.002418282123225156,0.002340205576712013,0.002264264892850668,0.002190416157774104,0.0021186158369716117,0.0020488207920278017,0.0019809882964832966,0.001915076050829935,0.001851042196654068,0.0017888453299417342,0.0017284445135606716,0.001669799288933625,0.0016128696869190057,0.0015576162379142139,0.0015039999811982902,0.0014519824735302247,0.0014015257970198874,0.0013525925662887309,0.0013051459349376123,0.001259149601339423,0.0012145678137740928,0.0011713653749242277,0.0011295076457489895,0.0010889605487547742,0.0010496905706805014,0.0010116647646160014,0.0009748507515715897,0.0009392167215171051,0.000904731433908562,0.0008713642177205408,0.0008390849710023835,0.0008078641599760138,0.0007776728176933822,0.0007484825422709345,0.000720265494718889,0.0006929943963823773,0.000666642526011755,0.0006411837164789176,0.000616592351156314,0.0005928433599751091,0.0005699122151787005,0.0005477749267875126,0.0005264080377906812,0.0005057886190801166,0.0004858942641418349,0.00046670308351954155,0.0004481936990647098,0.0004303452379874977,0.00041313732672214576,0.00039655008462045514,0.0003805641174864502,0.0003651605109650323,0.00035032082379710594,0.0003360270809532901,0.0003222617666580007,0.00030900781731528086,0.00029624861434754613,0.00028396797695783547,0.00027215015482607717,0.0002607798207492691,0.000249842063235325,0.00023932237905987418,0.00022920666579499832,0.00021948121431854064,0.00021013270131228356,0.0002011481817569546,0.00019251508143166182,0.00018422118942510438,0.00017625465066545862,0.00016860395847566177,0.0001612579471603614,0.00015420578463060653,0.00014743696507196738,0.00014094130166151598,0.00013470891933879353,0.00012873024763559925,0.0001229960135691669,0.00011749723460299196,0.00011222521167936116,0.0001071715223272865,0.00010232801384939464,9.768679659097425e-05,9.324023729422074e-05,8.898095254043514e-05,8.490180228272838e-05,8.0995883471552e-05,7.725652377516666e-05,7.367727539695656e-05,7.025190899127806e-05,6.697440767937953e-05,6.38389611666839e-05,6.083995996261174e-05,5.7971989703889505e-05,5.522982558216984e-05,5.2608426876601614e-05,5.010293159184915e-05,4.770865120190916e-05,4.542106549993538e-05,4.323581755415181e-05,4.1148708769796326e-05,3.9155694056938e-05,3.7252877103866454e-05,3.543650575567703e-05,3.370296749753725e-05,3.2048785042057527e-05],\"yaxis\":\"y\",\"type\":\"scatter\"}],                        {\"barmode\":\"overlay\",\"hovermode\":\"closest\",\"legend\":{\"traceorder\":\"reversed\"},\"xaxis\":{\"anchor\":\"y2\",\"domain\":[0.0,1.0],\"zeroline\":false},\"yaxis\":{\"anchor\":\"free\",\"domain\":[0.0,1],\"position\":0.0},\"template\":{\"data\":{\"bar\":[{\"error_x\":{\"color\":\"#2a3f5f\"},\"error_y\":{\"color\":\"#2a3f5f\"},\"marker\":{\"line\":{\"color\":\"#E5ECF6\",\"width\":0.5},\"pattern\":{\"fillmode\":\"overlay\",\"size\":10,\"solidity\":0.2}},\"type\":\"bar\"}],\"barpolar\":[{\"marker\":{\"line\":{\"color\":\"#E5ECF6\",\"width\":0.5},\"pattern\":{\"fillmode\":\"overlay\",\"size\":10,\"solidity\":0.2}},\"type\":\"barpolar\"}],\"carpet\":[{\"aaxis\":{\"endlinecolor\":\"#2a3f5f\",\"gridcolor\":\"white\",\"linecolor\":\"white\",\"minorgridcolor\":\"white\",\"startlinecolor\":\"#2a3f5f\"},\"baxis\":{\"endlinecolor\":\"#2a3f5f\",\"gridcolor\":\"white\",\"linecolor\":\"white\",\"minorgridcolor\":\"white\",\"startlinecolor\":\"#2a3f5f\"},\"type\":\"carpet\"}],\"choropleth\":[{\"colorbar\":{\"outlinewidth\":0,\"ticks\":\"\"},\"type\":\"choropleth\"}],\"contour\":[{\"colorbar\":{\"outlinewidth\":0,\"ticks\":\"\"},\"colorscale\":[[0.0,\"#0d0887\"],[0.1111111111111111,\"#46039f\"],[0.2222222222222222,\"#7201a8\"],[0.3333333333333333,\"#9c179e\"],[0.4444444444444444,\"#bd3786\"],[0.5555555555555556,\"#d8576b\"],[0.6666666666666666,\"#ed7953\"],[0.7777777777777778,\"#fb9f3a\"],[0.8888888888888888,\"#fdca26\"],[1.0,\"#f0f921\"]],\"type\":\"contour\"}],\"contourcarpet\":[{\"colorbar\":{\"outlinewidth\":0,\"ticks\":\"\"},\"type\":\"contourcarpet\"}],\"heatmap\":[{\"colorbar\":{\"outlinewidth\":0,\"ticks\":\"\"},\"colorscale\":[[0.0,\"#0d0887\"],[0.1111111111111111,\"#46039f\"],[0.2222222222222222,\"#7201a8\"],[0.3333333333333333,\"#9c179e\"],[0.4444444444444444,\"#bd3786\"],[0.5555555555555556,\"#d8576b\"],[0.6666666666666666,\"#ed7953\"],[0.7777777777777778,\"#fb9f3a\"],[0.8888888888888888,\"#fdca26\"],[1.0,\"#f0f921\"]],\"type\":\"heatmap\"}],\"heatmapgl\":[{\"colorbar\":{\"outlinewidth\":0,\"ticks\":\"\"},\"colorscale\":[[0.0,\"#0d0887\"],[0.1111111111111111,\"#46039f\"],[0.2222222222222222,\"#7201a8\"],[0.3333333333333333,\"#9c179e\"],[0.4444444444444444,\"#bd3786\"],[0.5555555555555556,\"#d8576b\"],[0.6666666666666666,\"#ed7953\"],[0.7777777777777778,\"#fb9f3a\"],[0.8888888888888888,\"#fdca26\"],[1.0,\"#f0f921\"]],\"type\":\"heatmapgl\"}],\"histogram\":[{\"marker\":{\"pattern\":{\"fillmode\":\"overlay\",\"size\":10,\"solidity\":0.2}},\"type\":\"histogram\"}],\"histogram2d\":[{\"colorbar\":{\"outlinewidth\":0,\"ticks\":\"\"},\"colorscale\":[[0.0,\"#0d0887\"],[0.1111111111111111,\"#46039f\"],[0.2222222222222222,\"#7201a8\"],[0.3333333333333333,\"#9c179e\"],[0.4444444444444444,\"#bd3786\"],[0.5555555555555556,\"#d8576b\"],[0.6666666666666666,\"#ed7953\"],[0.7777777777777778,\"#fb9f3a\"],[0.8888888888888888,\"#fdca26\"],[1.0,\"#f0f921\"]],\"type\":\"histogram2d\"}],\"histogram2dcontour\":[{\"colorbar\":{\"outlinewidth\":0,\"ticks\":\"\"},\"colorscale\":[[0.0,\"#0d0887\"],[0.1111111111111111,\"#46039f\"],[0.2222222222222222,\"#7201a8\"],[0.3333333333333333,\"#9c179e\"],[0.4444444444444444,\"#bd3786\"],[0.5555555555555556,\"#d8576b\"],[0.6666666666666666,\"#ed7953\"],[0.7777777777777778,\"#fb9f3a\"],[0.8888888888888888,\"#fdca26\"],[1.0,\"#f0f921\"]],\"type\":\"histogram2dcontour\"}],\"mesh3d\":[{\"colorbar\":{\"outlinewidth\":0,\"ticks\":\"\"},\"type\":\"mesh3d\"}],\"parcoords\":[{\"line\":{\"colorbar\":{\"outlinewidth\":0,\"ticks\":\"\"}},\"type\":\"parcoords\"}],\"pie\":[{\"automargin\":true,\"type\":\"pie\"}],\"scatter\":[{\"marker\":{\"colorbar\":{\"outlinewidth\":0,\"ticks\":\"\"}},\"type\":\"scatter\"}],\"scatter3d\":[{\"line\":{\"colorbar\":{\"outlinewidth\":0,\"ticks\":\"\"}},\"marker\":{\"colorbar\":{\"outlinewidth\":0,\"ticks\":\"\"}},\"type\":\"scatter3d\"}],\"scattercarpet\":[{\"marker\":{\"colorbar\":{\"outlinewidth\":0,\"ticks\":\"\"}},\"type\":\"scattercarpet\"}],\"scattergeo\":[{\"marker\":{\"colorbar\":{\"outlinewidth\":0,\"ticks\":\"\"}},\"type\":\"scattergeo\"}],\"scattergl\":[{\"marker\":{\"colorbar\":{\"outlinewidth\":0,\"ticks\":\"\"}},\"type\":\"scattergl\"}],\"scattermapbox\":[{\"marker\":{\"colorbar\":{\"outlinewidth\":0,\"ticks\":\"\"}},\"type\":\"scattermapbox\"}],\"scatterpolar\":[{\"marker\":{\"colorbar\":{\"outlinewidth\":0,\"ticks\":\"\"}},\"type\":\"scatterpolar\"}],\"scatterpolargl\":[{\"marker\":{\"colorbar\":{\"outlinewidth\":0,\"ticks\":\"\"}},\"type\":\"scatterpolargl\"}],\"scatterternary\":[{\"marker\":{\"colorbar\":{\"outlinewidth\":0,\"ticks\":\"\"}},\"type\":\"scatterternary\"}],\"surface\":[{\"colorbar\":{\"outlinewidth\":0,\"ticks\":\"\"},\"colorscale\":[[0.0,\"#0d0887\"],[0.1111111111111111,\"#46039f\"],[0.2222222222222222,\"#7201a8\"],[0.3333333333333333,\"#9c179e\"],[0.4444444444444444,\"#bd3786\"],[0.5555555555555556,\"#d8576b\"],[0.6666666666666666,\"#ed7953\"],[0.7777777777777778,\"#fb9f3a\"],[0.8888888888888888,\"#fdca26\"],[1.0,\"#f0f921\"]],\"type\":\"surface\"}],\"table\":[{\"cells\":{\"fill\":{\"color\":\"#EBF0F8\"},\"line\":{\"color\":\"white\"}},\"header\":{\"fill\":{\"color\":\"#C8D4E3\"},\"line\":{\"color\":\"white\"}},\"type\":\"table\"}]},\"layout\":{\"annotationdefaults\":{\"arrowcolor\":\"#2a3f5f\",\"arrowhead\":0,\"arrowwidth\":1},\"autotypenumbers\":\"strict\",\"coloraxis\":{\"colorbar\":{\"outlinewidth\":0,\"ticks\":\"\"}},\"colorscale\":{\"diverging\":[[0,\"#8e0152\"],[0.1,\"#c51b7d\"],[0.2,\"#de77ae\"],[0.3,\"#f1b6da\"],[0.4,\"#fde0ef\"],[0.5,\"#f7f7f7\"],[0.6,\"#e6f5d0\"],[0.7,\"#b8e186\"],[0.8,\"#7fbc41\"],[0.9,\"#4d9221\"],[1,\"#276419\"]],\"sequential\":[[0.0,\"#0d0887\"],[0.1111111111111111,\"#46039f\"],[0.2222222222222222,\"#7201a8\"],[0.3333333333333333,\"#9c179e\"],[0.4444444444444444,\"#bd3786\"],[0.5555555555555556,\"#d8576b\"],[0.6666666666666666,\"#ed7953\"],[0.7777777777777778,\"#fb9f3a\"],[0.8888888888888888,\"#fdca26\"],[1.0,\"#f0f921\"]],\"sequentialminus\":[[0.0,\"#0d0887\"],[0.1111111111111111,\"#46039f\"],[0.2222222222222222,\"#7201a8\"],[0.3333333333333333,\"#9c179e\"],[0.4444444444444444,\"#bd3786\"],[0.5555555555555556,\"#d8576b\"],[0.6666666666666666,\"#ed7953\"],[0.7777777777777778,\"#fb9f3a\"],[0.8888888888888888,\"#fdca26\"],[1.0,\"#f0f921\"]]},\"colorway\":[\"#636efa\",\"#EF553B\",\"#00cc96\",\"#ab63fa\",\"#FFA15A\",\"#19d3f3\",\"#FF6692\",\"#B6E880\",\"#FF97FF\",\"#FECB52\"],\"font\":{\"color\":\"#2a3f5f\"},\"geo\":{\"bgcolor\":\"white\",\"lakecolor\":\"white\",\"landcolor\":\"#E5ECF6\",\"showlakes\":true,\"showland\":true,\"subunitcolor\":\"white\"},\"hoverlabel\":{\"align\":\"left\"},\"hovermode\":\"closest\",\"mapbox\":{\"style\":\"light\"},\"paper_bgcolor\":\"white\",\"plot_bgcolor\":\"#E5ECF6\",\"polar\":{\"angularaxis\":{\"gridcolor\":\"white\",\"linecolor\":\"white\",\"ticks\":\"\"},\"bgcolor\":\"#E5ECF6\",\"radialaxis\":{\"gridcolor\":\"white\",\"linecolor\":\"white\",\"ticks\":\"\"}},\"scene\":{\"xaxis\":{\"backgroundcolor\":\"#E5ECF6\",\"gridcolor\":\"white\",\"gridwidth\":2,\"linecolor\":\"white\",\"showbackground\":true,\"ticks\":\"\",\"zerolinecolor\":\"white\"},\"yaxis\":{\"backgroundcolor\":\"#E5ECF6\",\"gridcolor\":\"white\",\"gridwidth\":2,\"linecolor\":\"white\",\"showbackground\":true,\"ticks\":\"\",\"zerolinecolor\":\"white\"},\"zaxis\":{\"backgroundcolor\":\"#E5ECF6\",\"gridcolor\":\"white\",\"gridwidth\":2,\"linecolor\":\"white\",\"showbackground\":true,\"ticks\":\"\",\"zerolinecolor\":\"white\"}},\"shapedefaults\":{\"line\":{\"color\":\"#2a3f5f\"}},\"ternary\":{\"aaxis\":{\"gridcolor\":\"white\",\"linecolor\":\"white\",\"ticks\":\"\"},\"baxis\":{\"gridcolor\":\"white\",\"linecolor\":\"white\",\"ticks\":\"\"},\"bgcolor\":\"#E5ECF6\",\"caxis\":{\"gridcolor\":\"white\",\"linecolor\":\"white\",\"ticks\":\"\"}},\"title\":{\"x\":0.05},\"xaxis\":{\"automargin\":true,\"gridcolor\":\"white\",\"linecolor\":\"white\",\"ticks\":\"\",\"title\":{\"standoff\":15},\"zerolinecolor\":\"white\",\"zerolinewidth\":2},\"yaxis\":{\"automargin\":true,\"gridcolor\":\"white\",\"linecolor\":\"white\",\"ticks\":\"\",\"title\":{\"standoff\":15},\"zerolinecolor\":\"white\",\"zerolinewidth\":2}}}},                        {\"responsive\": true}                    ).then(function(){\n",
              "                            \n",
              "var gd = document.getElementById('db700c5b-e487-4eb0-9d6d-f99938ada6cb');\n",
              "var x = new MutationObserver(function (mutations, observer) {{\n",
              "        var display = window.getComputedStyle(gd).display;\n",
              "        if (!display || display === 'none') {{\n",
              "            console.log([gd, 'removed!']);\n",
              "            Plotly.purge(gd);\n",
              "            observer.disconnect();\n",
              "        }}\n",
              "}});\n",
              "\n",
              "// Listen for the removal of the full notebook cells\n",
              "var notebookContainer = gd.closest('#notebook-container');\n",
              "if (notebookContainer) {{\n",
              "    x.observe(notebookContainer, {childList: true});\n",
              "}}\n",
              "\n",
              "// Listen for the clearing of the current output cell\n",
              "var outputEl = gd.closest('.output');\n",
              "if (outputEl) {{\n",
              "    x.observe(outputEl, {childList: true});\n",
              "}}\n",
              "\n",
              "                        })                };                            </script>        </div>\n",
              "</body>\n",
              "</html>"
            ]
          },
          "metadata": {}
        }
      ]
    },
    {
      "cell_type": "code",
      "source": [
        "hist_data = [df['age']]\n",
        "group_labels = ['hist_data']\n",
        "fig = ff.create_distplot(hist_data, group_labels, show_hist=False, curve_type='normal', bin_size=0.5, show_rug=False)\n",
        "fig.show()"
      ],
      "metadata": {
        "colab": {
          "base_uri": "https://localhost:8080/",
          "height": 542
        },
        "id": "w9gXUqg1MNm7",
        "outputId": "12381870-3e40-4463-f720-f5fef6cc8b61"
      },
      "execution_count": 13,
      "outputs": [
        {
          "output_type": "display_data",
          "data": {
            "text/html": [
              "<html>\n",
              "<head><meta charset=\"utf-8\" /></head>\n",
              "<body>\n",
              "    <div>            <script src=\"https://cdnjs.cloudflare.com/ajax/libs/mathjax/2.7.5/MathJax.js?config=TeX-AMS-MML_SVG\"></script><script type=\"text/javascript\">if (window.MathJax) {MathJax.Hub.Config({SVG: {font: \"STIX-Web\"}});}</script>                <script type=\"text/javascript\">window.PlotlyConfig = {MathJaxConfig: 'local'};</script>\n",
              "        <script src=\"https://cdn.plot.ly/plotly-2.8.3.min.js\"></script>                <div id=\"1fb7b7ae-a757-44e9-9674-c6d9c68fb9b6\" class=\"plotly-graph-div\" style=\"height:525px; width:100%;\"></div>            <script type=\"text/javascript\">                                    window.PLOTLYENV=window.PLOTLYENV || {};                                    if (document.getElementById(\"1fb7b7ae-a757-44e9-9674-c6d9c68fb9b6\")) {                    Plotly.newPlot(                        \"1fb7b7ae-a757-44e9-9674-c6d9c68fb9b6\",                        [{\"legendgroup\":\"hist_data\",\"marker\":{\"color\":\"rgb(31, 119, 180)\"},\"mode\":\"lines\",\"name\":\"hist_data\",\"showlegend\":true,\"x\":[16.0,16.054,16.108,16.162,16.216,16.27,16.324,16.378,16.432,16.486,16.54,16.594,16.648,16.701999999999998,16.756,16.81,16.864,16.918,16.972,17.026,17.08,17.134,17.188,17.242,17.296,17.35,17.404,17.458,17.512,17.566,17.62,17.674,17.728,17.782,17.836,17.89,17.944,17.998,18.052,18.106,18.16,18.214,18.268,18.322,18.376,18.43,18.484,18.538,18.592,18.646,18.7,18.754,18.808,18.862000000000002,18.916,18.97,19.024,19.078,19.132,19.186,19.240000000000002,19.294,19.348,19.402,19.456,19.509999999999998,19.564,19.618,19.672,19.726,19.78,19.834,19.887999999999998,19.942,19.996,20.05,20.104,20.158,20.212,20.266,20.32,20.374,20.428,20.482,20.536,20.59,20.644,20.698,20.752,20.806,20.86,20.914,20.968,21.022,21.076,21.13,21.184,21.238,21.292,21.346,21.4,21.454,21.508,21.562,21.616,21.67,21.724,21.778,21.832,21.886,21.94,21.994,22.048000000000002,22.102,22.156,22.21,22.264,22.317999999999998,22.372,22.426000000000002,22.48,22.534,22.588,22.642,22.695999999999998,22.75,22.804000000000002,22.858,22.912,22.966,23.02,23.073999999999998,23.128,23.182000000000002,23.236,23.29,23.344,23.398,23.451999999999998,23.506,23.56,23.614,23.668,23.722,23.776,23.83,23.884,23.938,23.992,24.046,24.1,24.154,24.208,24.262,24.316000000000003,24.369999999999997,24.424,24.478,24.532,24.586,24.64,24.694000000000003,24.747999999999998,24.802,24.856,24.91,24.964,25.018,25.072,25.125999999999998,25.18,25.234,25.288,25.342,25.396,25.45,25.503999999999998,25.558,25.612000000000002,25.666,25.72,25.774,25.828,25.881999999999998,25.936,25.990000000000002,26.044,26.098,26.152,26.206,26.259999999999998,26.314,26.368000000000002,26.422,26.476,26.53,26.584,26.637999999999998,26.692,26.746000000000002,26.8,26.854,26.908,26.962,27.016,27.07,27.124000000000002,27.178,27.232,27.286,27.34,27.394,27.448,27.502000000000002,27.555999999999997,27.61,27.664,27.718,27.772,27.826,27.880000000000003,27.933999999999997,27.988,28.042,28.096,28.15,28.204,28.258,28.311999999999998,28.366,28.42,28.474,28.528,28.582,28.636,28.689999999999998,28.744,28.798000000000002,28.852,28.906,28.96,29.014,29.067999999999998,29.122,29.176000000000002,29.23,29.284,29.338,29.392,29.445999999999998,29.5,29.554000000000002,29.608,29.662,29.716,29.77,29.823999999999998,29.878,29.932000000000002,29.986,30.04,30.094,30.148,30.201999999999998,30.256,30.310000000000002,30.364,30.418,30.472,30.526,30.58,30.634,30.688000000000002,30.742,30.796,30.85,30.904,30.958,31.012,31.066000000000003,31.119999999999997,31.174,31.228,31.282,31.336,31.39,31.444000000000003,31.497999999999998,31.552,31.606,31.66,31.714,31.768,31.822,31.875999999999998,31.93,31.984,32.038,32.092,32.146,32.2,32.254000000000005,32.308,32.361999999999995,32.416,32.47,32.524,32.578,32.632000000000005,32.686,32.739999999999995,32.794,32.848,32.902,32.956,33.010000000000005,33.064,33.117999999999995,33.172,33.226,33.28,33.334,33.388000000000005,33.442,33.495999999999995,33.55,33.604,33.658,33.712,33.766,33.82,33.873999999999995,33.928,33.982,34.036,34.09,34.144,34.198,34.251999999999995,34.306,34.36,34.414,34.468,34.522,34.576,34.629999999999995,34.684,34.738,34.792,34.846000000000004,34.9,34.954,35.007999999999996,35.062,35.116,35.17,35.224000000000004,35.278,35.332,35.385999999999996,35.44,35.494,35.548,35.602000000000004,35.656,35.71,35.763999999999996,35.818,35.872,35.926,35.980000000000004,36.034,36.088,36.141999999999996,36.196,36.25,36.304,36.358000000000004,36.412,36.466,36.519999999999996,36.574,36.628,36.682,36.736000000000004,36.79,36.844,36.897999999999996,36.952,37.006,37.06,37.114000000000004,37.168,37.222,37.275999999999996,37.33,37.384,37.438,37.492000000000004,37.546,37.6,37.653999999999996,37.708,37.762,37.816,37.870000000000005,37.924,37.978,38.032,38.086,38.14,38.194,38.248000000000005,38.302,38.356,38.41,38.464,38.518,38.572,38.626000000000005,38.68,38.734,38.788,38.842,38.896,38.95,39.004000000000005,39.058,39.111999999999995,39.166,39.22,39.274,39.328,39.382000000000005,39.436,39.489999999999995,39.544,39.598,39.652,39.706,39.760000000000005,39.814,39.867999999999995,39.922,39.976,40.03,40.084,40.138000000000005,40.192,40.245999999999995,40.3,40.354,40.408,40.462,40.516,40.57,40.623999999999995,40.678,40.732,40.786,40.84,40.894,40.948,41.001999999999995,41.056,41.11,41.164,41.218,41.272,41.326,41.379999999999995,41.434,41.488,41.542,41.596000000000004,41.65,41.704,41.757999999999996,41.812,41.866,41.92,41.974000000000004,42.028,42.082,42.135999999999996,42.19,42.244,42.298,42.352000000000004,42.406,42.46,42.513999999999996,42.568,42.622,42.676,42.730000000000004,42.784,42.838,42.891999999999996,42.946],\"xaxis\":\"x\",\"y\":[0.012191131164439957,0.012470092860003813,0.012753747532415387,0.013042125898291743,0.013335257471737045,0.013633170521333102,0.013935892026995024,0.014243447636723354,0.014555861623285406,0.014873156840858852,0.015195354681671543,0.015522475032672716,0.01585453623227041,0.016191555027172122,0.01653354652936483,0.016880524173272404,0.017232499673128576,0.01758948298060395,0.01795148224272686,0.01831850376013755,0.01869055194571661,0.019067629283628137,0.019449736288819162,0.019836871467017445,0.020229031275269118,0.02062621008305957,0.021028400134059422,0.021435591508539638,0.02184777208649835,0.022264927511543034,0.02268704115557219,0.023114094084299215,0.023546065023663496,0.0239829303271711,0.02442466394421019,0.024871237389383575,0.025322619712902634,0.025778777472085738,0.026239674704004016,0.026705272899317546,0.027175530977344098,0.027650405262402786,0.02812984946147396,0.028613814643216356,0.029102249218382684,0.02959509892167247,0.03009230679506285,0.030593813172654385,0.031099555667071174,0.03160946915745106,0.032123485779062745,0.03264153491458505,0.03316354318708197,0.03368943445470757,0.034219129807171914,0.03475254756400008,0.03528960327461312,0.035830209720259965,0.03637427691782792,0.036921712125556894,0.037472419850682906,0.03802630185903309,0.03858325718659476,0.0391431821530781,0.0397059703774911,0.04027151279574446,0.04083969768030071,0.041410410661882044,0.04198353475324859,0.042558950375057004,0.0431365353838083,0.04371616510189072,0.044297712349723246,0.04488104748000159,0.04546603841404795,0.04605255068026384,0.0466404474546818,0.047229589603612274,0.04781983572837715,0.048411042212122134,0.04900306326869578,0.049595750993582134,0.05018895541687232,0.050782524558256284,0.05137630448401668,0.05197013936600184,0.052563871542555374,0.05315734158137537,0.053750388344275944,0.054342849053821196,0.05493455936179866,0.055525353419499074,0.05611506394976501,0.05670352232077137,0.05729055862149619,0.05787600173883995,0.05845967943634928,0.059041418434497984,0.05962104449247823,0.06019838249145043,0.060773256519201235,0.061345489956154714,0.061914905562681595,0.06248132556764932,0.0630445717581535,0.06360446557037054,0.06416082818146836,0.06471348060251249,0.06526224377230098,0.06580693865206212,0.06634738632094662,0.06688340807224441,0.06741482551025589,0.06794146064774495,0.06846313600390148,0.06897967470273843,0.0694909005718487,0.06999663824144607,0.07049671324361254,0.07099095211167504,0.07147918247963286,0.07196123318155716,0.07243693435088233,0.07290611751951018,0.07336861571664596,0.07382426356728597,0.0742728973902755,0.07471435529585685,0.07514847728262598,0.07557510533381677,0.07599408351283253,0.07640525805794404,0.0768084774760738,0.07720359263558665,0.07759045685800754,0.07796892600858775,0.07833885858564112,0.07870011580857304,0.07905256170452617,0.07939606319356639,0.07973049017233495,0.08005571559609347,0.0803716155590886,0.0806780693731663,0.08097495964456505,0.08126217234882034,0.081539596903713,0.08180712624019636,0.08206465687123882,0.0823120889585192,0.08254932637691546,0.08277627677672804,0.08299285164358138,0.08319896635594987,0.08339454024025493,0.08357949662348389,0.08375376288328218,0.0839172704954729,0.08406995507896083,0.08421175643797885,0.08434261860163883,0.08446248986074993,0.08457132280187071,0.08466907433856387,0.08475570573982398,0.08483118265565318,0.08489547513975992,0.08494855766936074,0.08499040916206611,0.08502101298983507,0.08504035698998558,0.08504843347325036,0.08504523922887088,0.08503077552672451,0.08500504811648332,0.08496806722380473,0.08491984754355804,0.08486040823009273,0.08478977288455802,0.08470796953928494,0.08461503063924553,0.08451099302060673,0.0843958978863982,0.08426979077931693,0.08413272155169375,0.08398474433264937,0.08382591749247026,0.08365630360423729,0.0834759694027422,0.08328498574073014,0.08308342754250765,0.08287137375495966,0.08264890729601922,0.08241611500063803,0.08217308756430623,0.08191991948417349,0.08165670899782462,0.08138355801976518,0.08110057207567463,0.08080786023448652,0.08050553503835672,0.0801937124305825,0.0798725116815374,0.07954205531268801,0.0792024690187599,0.07885388158812263,0.07849642482146386,0.07813023344882454,0.07775544504506801,0.07737219994385759,0.0769806411502176,0.07658091425175369,0.07617316732861001,0.07575755086224074,0.07533421764307446,0.0749033226771503,0.07446502309180632,0.07401947804049905,0.0735668486068352,0.07310729770789651,0.07264098999693805,0.07216809176554123,0.07168877084530206,0.07120319650913659,0.0707115393722828,0.07021397129308048,0.06971066527360864,0.06920179536026085,0.06868753654433654,0.06816806466272811,0.06764355629878117,0.06711418868340534,0.06658013959651166,0.06604158726885301,0.06549871028434125,0.06495168748291502,0.06440069786403065,0.06384592049084757,0.06328753439517805,0.06272571848326994,0.06216065144249035,0.06159251164897588,0.061021477076313696,0.06044772520531688,0.05987143293495544,0.05929277649450228,0.05871193135695274,0.0581290721537737,0.05754437259103746,0.05695800536699206,0.0563701420911202,0.05578095320473519,0.055190607903161035,0.05459927405954203,0.05400711815032508,0.053414305182456163,0.05282099862232952,0.05222736032652742,0.051633550474385406,0.05103972750241588,0.050446048040620965,0.049852666850723926,0.0492597367663457,0.04866740863515062,0.04807583126298498,0.047485151360028156,0.04689551348897467,0.046307060015263586,0.04571993105936961,0.045134264451167784,0.044550195686381605,0.04396785788512288,0.04338738175252942,0.04280889554150394,0.04223252501755647,0.04165839342575056,0.04108662145975093,0.04051732723296854,0.03995062625179807,0.03938663139093958,0.03882545287079523,0.03826719823692956,0.037711972341581315,0.03715987732721096,0.0366110126120683,0.036065474877762384,0.03552335805881396,0.03498475333416932,0.03444974912065298,0.03391843106833613,0.0333908820577939,0.032867182199225985,0.03234740883341205,0.031831636534472935,0.03131993711440653,0.03081237962936747,0.03030903038765751,0.029809952959392677,0.02931520818781233,0.028824854202195244,0.028338946432344695,0.02785753762460627,0.02738067785937953,0.026908414570084523,0.026440792563544,0.025977854041740567,0.02551963862490782,0.025066183375914517,0.02461752282589966,0.024173689001116303,0.023734711450941207,0.02330061727700794,0.022871431163419886,0.022447175407999516,0.022027869954530772,0.021613532425950707,0.0212041781584467,0.020799820236415117,0.020400469528238378,0.02000613472283621,0.019616822366947527,0.01923253690309987,0.01885328070822308,0.018479054132864235,0.01810985554096104,0.017745681350131864,0.017386526072439984,0.017032382355590497,0.016683241024519024,0.01633909112333147,0.015999919957554384,0.015665713136657017,0.015336454616804999,0.015012126743808335,0.01469271029622481,0.014378184528582394,0.014068527214683739,0.013763714690957007,0.013463721899818322,0.013168522433010645,0.012878088574886603,0.012592391345601462,0.01231140054418486,0.012035084791459951,0.011763411572779362,0.011496347280549083,0.011233857256510656,0.01097590583375501,0.010722456378439977,0.010473471331186134,0.010228912248125674,0.009988739841579745,0.009752914020341584,0.009521393929542087,0.00929413799007732,0.009071103937576446,0.00885224886089088,0.008637529240085762,0.008426900983915627,0.008220319466767814,0.008017739565056737,0.007819115693054598,0.007624401838143704,0.007433551595477144,0.0072465182020353186,0.007063254570066404,0.006883713319900376,0.006707846812125938,0.006535607179121871,0.006366946355933967,0.006201816110490281,0.0060401680731479845,0.005881953765565655,0.005727124628896252,0.0055756320512958014,0.0054274273947447675,0.005282462021178575,0.0051406873179254495,0.005002054722449869,0.004866515746400709,0.004734021998964178,0.004604525209521468,0.004477977249612768,0.004354330154208805,0.004233536142292479,0.00411554763675332,0.004000317283598051,0.0038877979704814458,0.0037779428445614757,0.0036707053296841023,0.0035660391429027773,0.003463898310338648,0.003364237182387775,0.0032670104482819032,0.0031721731500101713,0.0030796806956088483,0.0029894888718273883,0.002901553856178596,0.0028158322283816603,0.0027322809812067874,0.002650857530730494,0.0025715197260111206,0.002494225858193881,0.0024189346690556765,0.0023456053589994384,0.0022741975945084693,0.002204671515071195,0.002136987739586904,0.0020711073722634154,0.002006992008017348,0.001944603737388296,0.0018839051509778352,0.001824859343424714,0.0017674299169275199,0.0017115809843261185,0.0016572771717534187,0.0016044836208687215,0.001553165990684339,0.0015032904589967716,0.001454823723434026,0.0014077330021305197,0.0013619860340409325,0.001317551078904546,0.0012743969168712034,0.0012324928478004021,0.0011918086902445468,0.0011523147801276018,0.0011139819691301802,0.001076781622791967,0.001040685618342417,0.0010056663422703847,0.000971696687643331,0.0009387500511865951,0.0009068003301330975,0.0008758219188536811,0.0008457897052781445,0.0008166790671169203,0.0007884658678931556,0.0007611264527947535,0.0007346376443558636,0.0007089767379770669,0.0006841214972933478,0.0006600501493987512,0.0006367413799365029,0.0006141743280631101,0.0005923285812948053,0.0005711841702445377,0.0005507215632574848,0.0005309216609528842,0.000511765790679785,0.0004932357008941544,0.0004753135554645321,0.00045798192791325653,0.00044122379560010275,0.00042502253385496793,0.0004093619100660099,0.0003942260777295372,0.00037959957046762794,0.00036546729601940974,0.0003518145302115994,0.00033862691091381136,0.00032589043198391214,0.0003135914372085,0.0003017166142434535,0.0002902529885592222,0.00027918791739545953,0.0002685090837293108,0.00025820449026157027,0.00024826245342470627,0.0002386715974165833,0.00022942084826357053,0.0002204994279164972,0.00021189684838282668,0.0002036029058981918,0.00019560767514031622,0.0001879015034881813,0.0001804750053291281,0.00017331905641647009,0.0001664247882799966,0.00015978358269166305,0.00015338706618856366,0.00014722710465519414,0.00014129579796685283,0.00013558547469590218,0.00013008868688250348,0.00012479820487127882,0.00011970701221528258,0.00011480830064850131,0.00011009546512802382,0.00010556209894689562,0.00010120198891856777,9.700911063376164e-05,9.297762379044343e-05,8.91018675975434e-05,8.537635625292795e-05,8.179577449606683e-05,7.835497323574249e-05,7.50489652530632e-05,7.187292097997424e-05,6.882216435336496e-05],\"yaxis\":\"y\",\"type\":\"scatter\"}],                        {\"barmode\":\"overlay\",\"hovermode\":\"closest\",\"legend\":{\"traceorder\":\"reversed\"},\"xaxis\":{\"anchor\":\"y2\",\"domain\":[0.0,1.0],\"zeroline\":false},\"yaxis\":{\"anchor\":\"free\",\"domain\":[0.0,1],\"position\":0.0},\"template\":{\"data\":{\"bar\":[{\"error_x\":{\"color\":\"#2a3f5f\"},\"error_y\":{\"color\":\"#2a3f5f\"},\"marker\":{\"line\":{\"color\":\"#E5ECF6\",\"width\":0.5},\"pattern\":{\"fillmode\":\"overlay\",\"size\":10,\"solidity\":0.2}},\"type\":\"bar\"}],\"barpolar\":[{\"marker\":{\"line\":{\"color\":\"#E5ECF6\",\"width\":0.5},\"pattern\":{\"fillmode\":\"overlay\",\"size\":10,\"solidity\":0.2}},\"type\":\"barpolar\"}],\"carpet\":[{\"aaxis\":{\"endlinecolor\":\"#2a3f5f\",\"gridcolor\":\"white\",\"linecolor\":\"white\",\"minorgridcolor\":\"white\",\"startlinecolor\":\"#2a3f5f\"},\"baxis\":{\"endlinecolor\":\"#2a3f5f\",\"gridcolor\":\"white\",\"linecolor\":\"white\",\"minorgridcolor\":\"white\",\"startlinecolor\":\"#2a3f5f\"},\"type\":\"carpet\"}],\"choropleth\":[{\"colorbar\":{\"outlinewidth\":0,\"ticks\":\"\"},\"type\":\"choropleth\"}],\"contour\":[{\"colorbar\":{\"outlinewidth\":0,\"ticks\":\"\"},\"colorscale\":[[0.0,\"#0d0887\"],[0.1111111111111111,\"#46039f\"],[0.2222222222222222,\"#7201a8\"],[0.3333333333333333,\"#9c179e\"],[0.4444444444444444,\"#bd3786\"],[0.5555555555555556,\"#d8576b\"],[0.6666666666666666,\"#ed7953\"],[0.7777777777777778,\"#fb9f3a\"],[0.8888888888888888,\"#fdca26\"],[1.0,\"#f0f921\"]],\"type\":\"contour\"}],\"contourcarpet\":[{\"colorbar\":{\"outlinewidth\":0,\"ticks\":\"\"},\"type\":\"contourcarpet\"}],\"heatmap\":[{\"colorbar\":{\"outlinewidth\":0,\"ticks\":\"\"},\"colorscale\":[[0.0,\"#0d0887\"],[0.1111111111111111,\"#46039f\"],[0.2222222222222222,\"#7201a8\"],[0.3333333333333333,\"#9c179e\"],[0.4444444444444444,\"#bd3786\"],[0.5555555555555556,\"#d8576b\"],[0.6666666666666666,\"#ed7953\"],[0.7777777777777778,\"#fb9f3a\"],[0.8888888888888888,\"#fdca26\"],[1.0,\"#f0f921\"]],\"type\":\"heatmap\"}],\"heatmapgl\":[{\"colorbar\":{\"outlinewidth\":0,\"ticks\":\"\"},\"colorscale\":[[0.0,\"#0d0887\"],[0.1111111111111111,\"#46039f\"],[0.2222222222222222,\"#7201a8\"],[0.3333333333333333,\"#9c179e\"],[0.4444444444444444,\"#bd3786\"],[0.5555555555555556,\"#d8576b\"],[0.6666666666666666,\"#ed7953\"],[0.7777777777777778,\"#fb9f3a\"],[0.8888888888888888,\"#fdca26\"],[1.0,\"#f0f921\"]],\"type\":\"heatmapgl\"}],\"histogram\":[{\"marker\":{\"pattern\":{\"fillmode\":\"overlay\",\"size\":10,\"solidity\":0.2}},\"type\":\"histogram\"}],\"histogram2d\":[{\"colorbar\":{\"outlinewidth\":0,\"ticks\":\"\"},\"colorscale\":[[0.0,\"#0d0887\"],[0.1111111111111111,\"#46039f\"],[0.2222222222222222,\"#7201a8\"],[0.3333333333333333,\"#9c179e\"],[0.4444444444444444,\"#bd3786\"],[0.5555555555555556,\"#d8576b\"],[0.6666666666666666,\"#ed7953\"],[0.7777777777777778,\"#fb9f3a\"],[0.8888888888888888,\"#fdca26\"],[1.0,\"#f0f921\"]],\"type\":\"histogram2d\"}],\"histogram2dcontour\":[{\"colorbar\":{\"outlinewidth\":0,\"ticks\":\"\"},\"colorscale\":[[0.0,\"#0d0887\"],[0.1111111111111111,\"#46039f\"],[0.2222222222222222,\"#7201a8\"],[0.3333333333333333,\"#9c179e\"],[0.4444444444444444,\"#bd3786\"],[0.5555555555555556,\"#d8576b\"],[0.6666666666666666,\"#ed7953\"],[0.7777777777777778,\"#fb9f3a\"],[0.8888888888888888,\"#fdca26\"],[1.0,\"#f0f921\"]],\"type\":\"histogram2dcontour\"}],\"mesh3d\":[{\"colorbar\":{\"outlinewidth\":0,\"ticks\":\"\"},\"type\":\"mesh3d\"}],\"parcoords\":[{\"line\":{\"colorbar\":{\"outlinewidth\":0,\"ticks\":\"\"}},\"type\":\"parcoords\"}],\"pie\":[{\"automargin\":true,\"type\":\"pie\"}],\"scatter\":[{\"marker\":{\"colorbar\":{\"outlinewidth\":0,\"ticks\":\"\"}},\"type\":\"scatter\"}],\"scatter3d\":[{\"line\":{\"colorbar\":{\"outlinewidth\":0,\"ticks\":\"\"}},\"marker\":{\"colorbar\":{\"outlinewidth\":0,\"ticks\":\"\"}},\"type\":\"scatter3d\"}],\"scattercarpet\":[{\"marker\":{\"colorbar\":{\"outlinewidth\":0,\"ticks\":\"\"}},\"type\":\"scattercarpet\"}],\"scattergeo\":[{\"marker\":{\"colorbar\":{\"outlinewidth\":0,\"ticks\":\"\"}},\"type\":\"scattergeo\"}],\"scattergl\":[{\"marker\":{\"colorbar\":{\"outlinewidth\":0,\"ticks\":\"\"}},\"type\":\"scattergl\"}],\"scattermapbox\":[{\"marker\":{\"colorbar\":{\"outlinewidth\":0,\"ticks\":\"\"}},\"type\":\"scattermapbox\"}],\"scatterpolar\":[{\"marker\":{\"colorbar\":{\"outlinewidth\":0,\"ticks\":\"\"}},\"type\":\"scatterpolar\"}],\"scatterpolargl\":[{\"marker\":{\"colorbar\":{\"outlinewidth\":0,\"ticks\":\"\"}},\"type\":\"scatterpolargl\"}],\"scatterternary\":[{\"marker\":{\"colorbar\":{\"outlinewidth\":0,\"ticks\":\"\"}},\"type\":\"scatterternary\"}],\"surface\":[{\"colorbar\":{\"outlinewidth\":0,\"ticks\":\"\"},\"colorscale\":[[0.0,\"#0d0887\"],[0.1111111111111111,\"#46039f\"],[0.2222222222222222,\"#7201a8\"],[0.3333333333333333,\"#9c179e\"],[0.4444444444444444,\"#bd3786\"],[0.5555555555555556,\"#d8576b\"],[0.6666666666666666,\"#ed7953\"],[0.7777777777777778,\"#fb9f3a\"],[0.8888888888888888,\"#fdca26\"],[1.0,\"#f0f921\"]],\"type\":\"surface\"}],\"table\":[{\"cells\":{\"fill\":{\"color\":\"#EBF0F8\"},\"line\":{\"color\":\"white\"}},\"header\":{\"fill\":{\"color\":\"#C8D4E3\"},\"line\":{\"color\":\"white\"}},\"type\":\"table\"}]},\"layout\":{\"annotationdefaults\":{\"arrowcolor\":\"#2a3f5f\",\"arrowhead\":0,\"arrowwidth\":1},\"autotypenumbers\":\"strict\",\"coloraxis\":{\"colorbar\":{\"outlinewidth\":0,\"ticks\":\"\"}},\"colorscale\":{\"diverging\":[[0,\"#8e0152\"],[0.1,\"#c51b7d\"],[0.2,\"#de77ae\"],[0.3,\"#f1b6da\"],[0.4,\"#fde0ef\"],[0.5,\"#f7f7f7\"],[0.6,\"#e6f5d0\"],[0.7,\"#b8e186\"],[0.8,\"#7fbc41\"],[0.9,\"#4d9221\"],[1,\"#276419\"]],\"sequential\":[[0.0,\"#0d0887\"],[0.1111111111111111,\"#46039f\"],[0.2222222222222222,\"#7201a8\"],[0.3333333333333333,\"#9c179e\"],[0.4444444444444444,\"#bd3786\"],[0.5555555555555556,\"#d8576b\"],[0.6666666666666666,\"#ed7953\"],[0.7777777777777778,\"#fb9f3a\"],[0.8888888888888888,\"#fdca26\"],[1.0,\"#f0f921\"]],\"sequentialminus\":[[0.0,\"#0d0887\"],[0.1111111111111111,\"#46039f\"],[0.2222222222222222,\"#7201a8\"],[0.3333333333333333,\"#9c179e\"],[0.4444444444444444,\"#bd3786\"],[0.5555555555555556,\"#d8576b\"],[0.6666666666666666,\"#ed7953\"],[0.7777777777777778,\"#fb9f3a\"],[0.8888888888888888,\"#fdca26\"],[1.0,\"#f0f921\"]]},\"colorway\":[\"#636efa\",\"#EF553B\",\"#00cc96\",\"#ab63fa\",\"#FFA15A\",\"#19d3f3\",\"#FF6692\",\"#B6E880\",\"#FF97FF\",\"#FECB52\"],\"font\":{\"color\":\"#2a3f5f\"},\"geo\":{\"bgcolor\":\"white\",\"lakecolor\":\"white\",\"landcolor\":\"#E5ECF6\",\"showlakes\":true,\"showland\":true,\"subunitcolor\":\"white\"},\"hoverlabel\":{\"align\":\"left\"},\"hovermode\":\"closest\",\"mapbox\":{\"style\":\"light\"},\"paper_bgcolor\":\"white\",\"plot_bgcolor\":\"#E5ECF6\",\"polar\":{\"angularaxis\":{\"gridcolor\":\"white\",\"linecolor\":\"white\",\"ticks\":\"\"},\"bgcolor\":\"#E5ECF6\",\"radialaxis\":{\"gridcolor\":\"white\",\"linecolor\":\"white\",\"ticks\":\"\"}},\"scene\":{\"xaxis\":{\"backgroundcolor\":\"#E5ECF6\",\"gridcolor\":\"white\",\"gridwidth\":2,\"linecolor\":\"white\",\"showbackground\":true,\"ticks\":\"\",\"zerolinecolor\":\"white\"},\"yaxis\":{\"backgroundcolor\":\"#E5ECF6\",\"gridcolor\":\"white\",\"gridwidth\":2,\"linecolor\":\"white\",\"showbackground\":true,\"ticks\":\"\",\"zerolinecolor\":\"white\"},\"zaxis\":{\"backgroundcolor\":\"#E5ECF6\",\"gridcolor\":\"white\",\"gridwidth\":2,\"linecolor\":\"white\",\"showbackground\":true,\"ticks\":\"\",\"zerolinecolor\":\"white\"}},\"shapedefaults\":{\"line\":{\"color\":\"#2a3f5f\"}},\"ternary\":{\"aaxis\":{\"gridcolor\":\"white\",\"linecolor\":\"white\",\"ticks\":\"\"},\"baxis\":{\"gridcolor\":\"white\",\"linecolor\":\"white\",\"ticks\":\"\"},\"bgcolor\":\"#E5ECF6\",\"caxis\":{\"gridcolor\":\"white\",\"linecolor\":\"white\",\"ticks\":\"\"}},\"title\":{\"x\":0.05},\"xaxis\":{\"automargin\":true,\"gridcolor\":\"white\",\"linecolor\":\"white\",\"ticks\":\"\",\"title\":{\"standoff\":15},\"zerolinecolor\":\"white\",\"zerolinewidth\":2},\"yaxis\":{\"automargin\":true,\"gridcolor\":\"white\",\"linecolor\":\"white\",\"ticks\":\"\",\"title\":{\"standoff\":15},\"zerolinecolor\":\"white\",\"zerolinewidth\":2}}}},                        {\"responsive\": true}                    ).then(function(){\n",
              "                            \n",
              "var gd = document.getElementById('1fb7b7ae-a757-44e9-9674-c6d9c68fb9b6');\n",
              "var x = new MutationObserver(function (mutations, observer) {{\n",
              "        var display = window.getComputedStyle(gd).display;\n",
              "        if (!display || display === 'none') {{\n",
              "            console.log([gd, 'removed!']);\n",
              "            Plotly.purge(gd);\n",
              "            observer.disconnect();\n",
              "        }}\n",
              "}});\n",
              "\n",
              "// Listen for the removal of the full notebook cells\n",
              "var notebookContainer = gd.closest('#notebook-container');\n",
              "if (notebookContainer) {{\n",
              "    x.observe(notebookContainer, {childList: true});\n",
              "}}\n",
              "\n",
              "// Listen for the clearing of the current output cell\n",
              "var outputEl = gd.closest('.output');\n",
              "if (outputEl) {{\n",
              "    x.observe(outputEl, {childList: true});\n",
              "}}\n",
              "\n",
              "                        })                };                            </script>        </div>\n",
              "</body>\n",
              "</html>"
            ]
          },
          "metadata": {}
        }
      ]
    },
    {
      "cell_type": "code",
      "source": [
        "hist_data = [df['wage_eur']]\n",
        "group_labels = ['hist_data']\n",
        "fig = ff.create_distplot(hist_data, group_labels, show_hist=False, curve_type='normal', bin_size=0.5, show_rug=False)\n",
        "fig.show()"
      ],
      "metadata": {
        "colab": {
          "base_uri": "https://localhost:8080/",
          "height": 542
        },
        "id": "jN_1vlP4L8vI",
        "outputId": "14a2879f-f5b0-4959-98cd-61c0e9c38473"
      },
      "execution_count": 14,
      "outputs": [
        {
          "output_type": "display_data",
          "data": {
            "text/html": [
              "<html>\n",
              "<head><meta charset=\"utf-8\" /></head>\n",
              "<body>\n",
              "    <div>            <script src=\"https://cdnjs.cloudflare.com/ajax/libs/mathjax/2.7.5/MathJax.js?config=TeX-AMS-MML_SVG\"></script><script type=\"text/javascript\">if (window.MathJax) {MathJax.Hub.Config({SVG: {font: \"STIX-Web\"}});}</script>                <script type=\"text/javascript\">window.PlotlyConfig = {MathJaxConfig: 'local'};</script>\n",
              "        <script src=\"https://cdn.plot.ly/plotly-2.8.3.min.js\"></script>                <div id=\"24db5638-c87f-4d63-aa35-100f3e036ff1\" class=\"plotly-graph-div\" style=\"height:525px; width:100%;\"></div>            <script type=\"text/javascript\">                                    window.PLOTLYENV=window.PLOTLYENV || {};                                    if (document.getElementById(\"24db5638-c87f-4d63-aa35-100f3e036ff1\")) {                    Plotly.newPlot(                        \"24db5638-c87f-4d63-aa35-100f3e036ff1\",                        [{\"legendgroup\":\"hist_data\",\"marker\":{\"color\":\"rgb(31, 119, 180)\"},\"mode\":\"lines\",\"name\":\"hist_data\",\"showlegend\":true,\"x\":[500.0,1619.0,2738.0,3857.0,4976.0,6095.0,7214.0,8333.0,9452.0,10571.0,11690.0,12809.0,13928.0,15047.0,16166.0,17285.0,18404.0,19523.0,20642.0,21761.0,22880.0,23999.0,25118.0,26237.0,27356.0,28475.0,29594.0,30713.0,31832.0,32951.0,34070.0,35189.0,36308.0,37427.0,38546.0,39665.0,40784.0,41903.0,43022.0,44141.0,45260.0,46379.0,47498.0,48617.0,49736.0,50855.0,51974.0,53093.0,54212.0,55331.0,56450.0,57569.0,58688.0,59807.0,60926.0,62045.0,63164.0,64283.0,65402.0,66521.0,67640.0,68759.0,69878.0,70997.0,72116.0,73235.0,74354.0,75473.0,76592.0,77711.0,78830.0,79949.0,81068.0,82187.0,83306.0,84425.0,85544.0,86663.0,87782.0,88901.0,90020.0,91139.0,92258.0,93377.0,94496.0,95615.0,96734.0,97853.0,98972.0,100091.0,101210.0,102329.0,103448.0,104567.0,105686.0,106805.0,107924.0,109043.0,110162.0,111281.0,112400.0,113519.0,114638.0,115757.0,116876.0,117995.0,119114.0,120233.0,121352.0,122471.0,123590.0,124709.0,125828.0,126947.0,128066.0,129185.0,130304.0,131423.0,132542.0,133661.0,134780.0,135899.0,137018.0,138137.0,139256.0,140375.0,141494.0,142613.0,143732.0,144851.0,145970.0,147089.0,148208.0,149327.0,150446.0,151565.0,152684.0,153803.0,154922.0,156041.0,157160.0,158279.0,159398.0,160517.0,161636.0,162755.0,163874.0,164993.0,166112.0,167231.0,168350.0,169469.0,170588.0,171707.0,172826.0,173945.0,175064.0,176183.0,177302.0,178421.0,179540.0,180659.0,181778.0,182897.0,184016.0,185135.0,186254.0,187373.0,188492.0,189611.0,190730.0,191849.0,192968.0,194087.0,195206.0,196325.0,197444.0,198563.0,199682.0,200801.0,201920.0,203039.0,204158.0,205277.0,206396.0,207515.0,208634.0,209753.0,210872.0,211991.0,213110.0,214229.0,215348.0,216467.0,217586.0,218705.0,219824.0,220943.0,222062.0,223181.0,224300.0,225419.0,226538.0,227657.0,228776.0,229895.0,231014.0,232133.0,233252.0,234371.0,235490.0,236609.0,237728.0,238847.0,239966.0,241085.0,242204.0,243323.0,244442.0,245561.0,246680.0,247799.0,248918.0,250037.0,251156.0,252275.0,253394.0,254513.0,255632.0,256751.0,257870.0,258989.0,260108.0,261227.0,262346.0,263465.0,264584.0,265703.0,266822.0,267941.0,269060.0,270179.0,271298.0,272417.0,273536.0,274655.0,275774.0,276893.0,278012.0,279131.0,280250.0,281369.0,282488.0,283607.0,284726.0,285845.0,286964.0,288083.0,289202.0,290321.0,291440.0,292559.0,293678.0,294797.0,295916.0,297035.0,298154.0,299273.0,300392.0,301511.0,302630.0,303749.0,304868.0,305987.0,307106.0,308225.0,309344.0,310463.0,311582.0,312701.0,313820.0,314939.0,316058.0,317177.0,318296.0,319415.0,320534.0,321653.0,322772.0,323891.0,325010.0,326129.0,327248.0,328367.0,329486.0,330605.0,331724.0,332843.0,333962.0,335081.0,336200.0,337319.0,338438.0,339557.0,340676.0,341795.0,342914.0,344033.0,345152.0,346271.0,347390.0,348509.0,349628.0,350747.0,351866.0,352985.0,354104.0,355223.0,356342.0,357461.0,358580.0,359699.0,360818.0,361937.0,363056.0,364175.0,365294.0,366413.0,367532.0,368651.0,369770.0,370889.0,372008.0,373127.0,374246.0,375365.0,376484.0,377603.0,378722.0,379841.0,380960.0,382079.0,383198.0,384317.0,385436.0,386555.0,387674.0,388793.0,389912.0,391031.0,392150.0,393269.0,394388.0,395507.0,396626.0,397745.0,398864.0,399983.0,401102.0,402221.0,403340.0,404459.0,405578.0,406697.0,407816.0,408935.0,410054.0,411173.0,412292.0,413411.0,414530.0,415649.0,416768.0,417887.0,419006.0,420125.0,421244.0,422363.0,423482.0,424601.0,425720.0,426839.0,427958.0,429077.0,430196.0,431315.0,432434.0,433553.0,434672.0,435791.0,436910.0,438029.0,439148.0,440267.0,441386.0,442505.0,443624.0,444743.0,445862.0,446981.0,448100.0,449219.0,450338.0,451457.0,452576.0,453695.0,454814.0,455933.0,457052.0,458171.0,459290.0,460409.0,461528.0,462647.0,463766.0,464885.0,466004.0,467123.0,468242.0,469361.0,470480.0,471599.0,472718.0,473837.0,474956.0,476075.0,477194.0,478313.0,479432.0,480551.0,481670.0,482789.0,483908.0,485027.0,486146.0,487265.0,488384.0,489503.0,490622.0,491741.0,492860.0,493979.0,495098.0,496217.0,497336.0,498455.0,499574.0,500693.0,501812.0,502931.0,504050.0,505169.0,506288.0,507407.0,508526.0,509645.0,510764.0,511883.0,513002.0,514121.0,515240.0,516359.0,517478.0,518597.0,519716.0,520835.0,521954.0,523073.0,524192.0,525311.0,526430.0,527549.0,528668.0,529787.0,530906.0,532025.0,533144.0,534263.0,535382.0,536501.0,537620.0,538739.0,539858.0,540977.0,542096.0,543215.0,544334.0,545453.0,546572.0,547691.0,548810.0,549929.0,551048.0,552167.0,553286.0,554405.0,555524.0,556643.0,557762.0,558881.0],\"xaxis\":\"x\",\"y\":[1.8158509212842202e-05,1.8567860778760956e-05,1.892740723082954e-05,1.923392667424587e-05,1.9484638851100698e-05,1.9677247114678795e-05,1.980997345313178e-05,1.988158581563298e-05,1.989141715367924e-05,1.9839375765972575e-05,1.9725946722507912e-05,1.955218433693731e-05,1.9319695850587572e-05,1.903061668126085e-05,1.86875777698839e-05,1.829366572326258e-05,1.7852376597213153e-05,1.7367564287392412e-05,1.6843384592210073e-05,1.6284236081104666e-05,1.569469894093469e-05,1.5079472982945459e-05,1.444331597330367e-05,1.3790983403003213e-05,1.3127170740289421e-05,1.245645911357154e-05,1.1783265258608522e-05,1.1111796434504646e-05,1.0446010872959911e-05,9.789584178632123e-06,9.145881949703374e-06,8.517938740957425e-06,7.908443350723183e-06,7.319730281375909e-06,6.753777103668408e-06,6.212207350386208e-06,5.696298476477743e-06,5.20699435207917e-06,4.744921702296868e-06,4.310409873208363e-06,3.903513286735677e-06,3.5240359467996764e-06,3.1715573740432885e-06,2.845459374659101e-06,2.5449530884817376e-06,2.269105810368532e-06,2.0168671347898376e-06,1.7870940342921925e-06,1.5785745459756647e-06,1.3900498043744437e-06,1.2202342223715237e-06,1.0678336824639764e-06,9.315616575259295e-07,8.101532321565409e-07,7.023770419797694e-07,6.070451883702385e-07,5.230212197457772e-07,4.4922629774421143e-07,3.84643687435391e-07,3.2832172551861157e-07,2.79375429662226e-07,2.369869162976303e-07,2.004047938945623e-07,1.689426946689785e-07,1.419771004725871e-07,1.1894460893909375e-07,9.933877444238384e-08,8.270664563867332e-08,6.864510784516371e-08,5.67971247160827e-08,4.68479600099195e-08,3.8521447027117566e-08,3.157636079585869e-08,2.5802936490903628e-08,2.101956702340859e-08,1.70697033215037e-08,1.3818972568974095e-08,1.1152522580030804e-08,8.972594527143818e-09,7.1963213463122264e-09,5.753745241387683e-09,4.586044704860442e-09,3.643959268094514e-09,2.8863986875783725e-09,2.2792223642640115e-09,1.794174383062053e-09,1.4079595574931095e-09,1.101446186287443e-09,8.589817987870028e-10,6.678089177595345e-10,5.175687442383885e-10,3.9988162072612385e-10,3.0799411647843776e-10,2.364835693720048e-10,1.8101188787745537e-10,1.381213449753896e-10,1.0506596994401424e-10,7.967295486629423e-11,6.022923529905602e-11,4.5389076726585253e-11,3.4099100502835005e-11,2.5537717109887494e-11,1.9066404189558057e-11,1.4190676303301738e-11,1.0528947656261337e-11,7.787793266204367e-12,5.74237349725348e-12,4.221006623164672e-12,3.0930590075636753e-12,2.259477139530243e-12,1.6454143203638857e-12,1.194511041402418e-12,8.644753993195864e-13,6.236812444958231e-13,4.485597528826314e-13,3.216070040113959e-13,2.2986786783018994e-13,1.6378669192082408e-13,1.163393223711932e-13,8.238004466874647e-14,5.815205826885498e-14,4.092189470913969e-14,2.870740596365269e-14,2.007611814846448e-14,1.3996295707866283e-14,9.727338987241122e-15,6.739420689691833e-15,4.6547746186404184e-15,3.20495785493848e-15,2.1998525032136903e-15,1.5052629693080575e-15,1.0267832306866181e-15,6.98220718050205e-16,4.733193616681238e-16,3.1986254148851596e-16,2.1548650226016744e-16,1.4471859405214141e-16,9.688937897097497e-17,6.466593843614469e-17,4.3025167662535534e-17,2.8537579409838417e-17,1.8869451198516077e-17,1.2437954972073987e-17,8.173089710506694e-18,5.3539107382635865e-18,3.496258709691129e-18,2.276059289990569e-18,1.4771042760615227e-18,9.556223852671516e-19,6.163239552922315e-19,3.9625919841512876e-19,2.5397866719276915e-19,1.6227914005233419e-19,1.0336552865333538e-19,6.563512811988907e-20,4.154746390484973e-20,2.6218043262270098e-20,1.6493149932892225e-20,1.0343190246839933e-20,6.4662574761440056e-21,4.029944348886775e-21,2.5037598959050758e-21,1.5507217687779173e-21,9.574644609200071e-22,5.893306341705283e-22,3.6161209292396105e-22,2.2119456364520393e-22,1.3488185407195028e-22,8.199364247130498e-23,4.9688330772634104e-23,3.001761682054343e-23,1.807780037211935e-23,1.0853318246749931e-23,6.495716526521441e-24,3.8756019423513386e-24,2.3051481398224858e-24,1.3668035266786422e-24,8.079061528607243e-25,4.760617790827537e-25,2.7964901217545364e-25,1.6376113457907797e-25,9.559957514855944e-26,5.563507279156619e-26,3.2276685730935136e-26,1.866709687837625e-26,1.0762476193199585e-26,6.185790409401136e-27,3.5442616264732384e-27,2.0244353823625156e-27,1.1527354263916274e-27,6.543391961572959e-28,3.7027450213182297e-28,2.0887778423741953e-28,1.1746494285976568e-28,6.585243924661305e-29,3.6802984232035835e-29,2.0504150436203302e-29,1.1388016774242863e-29,6.305245364089581e-30,3.480194044513868e-30,1.9149282325858054e-30,1.0503864713775747e-30,5.743720677560842e-31,3.13101449616886e-31,1.7014704845091057e-31,9.217461576018957e-32,4.977896088737718e-32,2.6799574093436135e-32,1.438326666464291e-32,7.695462871368318e-33,4.1044931640451315e-33,2.1823876780071038e-33,1.1567828459790567e-33,6.112506773621634e-34,3.2198411147645396e-34,1.6908189424021463e-34,8.851305738927433e-35,4.619182855221973e-35,2.4030927964935913e-35,1.246302606489395e-35,6.443532742046401e-36,3.321025044724713e-36,1.7063488986704606e-36,8.739993243929637e-37,4.462743560928912e-37,2.2716443650982145e-37,1.1527266302480168e-37,5.831226159326868e-38,2.940634305134786e-38,1.4783243415684758e-38,7.40876826848328e-39,3.701432799345503e-39,1.8434921882533894e-39,9.15293353959195e-40,4.530299255162565e-40,2.235326915789788e-40,1.0995191022119206e-40,5.391530729911448e-41,2.6355360774906454e-41,1.2843205185405314e-41,6.239150346252311e-42,3.021517095603422e-42,1.458721000248129e-42,7.02048295688455e-43,3.3682887766001852e-43,1.6110136555981127e-43,7.681334890418461e-44,3.651083394008019e-44,1.730032972148781e-44,8.17211712674315e-45,3.8482418603417207e-45,1.806498939903039e-45,8.453968734587828e-46,3.943947619266597e-46,1.834210663544466e-46,8.503835770326031e-47,3.9303216109705425e-47,1.8108767343078746e-47,8.31758530074582e-48,3.808493445856919e-48,1.7384281119716725e-48,7.910571035204114e-49,3.5884467657200184e-49,1.6227542518499857e-49,7.3155431824718155e-50,3.2876681580753283e-50,1.4729124980604466e-50,6.578297250451068e-51,2.9288532713597555e-51,1.299957970066182e-51,5.7518636400952714e-52,2.5370873910750794e-52,1.1156034455680619e-52,4.890258781211906e-53,2.136984690924625e-53,9.309332773837238e-54,4.042809464166315e-54,1.7502317872339944e-54,7.553625256490649e-55,3.2498467211419057e-55,1.3938559568613117e-55,5.959646328813828e-56,2.54021604237276e-56,1.079365160601195e-56,4.57207885542869e-57,1.9306635750513259e-57,8.127314551768271e-58,3.410633934827604e-58,1.4268250446776418e-58,5.950506218881467e-59,2.4739144524416442e-59,1.0253284705729612e-59,4.236321680723228e-60,1.7448673602897646e-60,7.164460321655451e-61,2.932595200944585e-61,1.1966532701102478e-61,4.86779319296534e-62,1.9739833301941356e-62,7.979991289672809e-63,3.215947338141173e-63,1.2920014893937807e-63,5.1744557196834266e-64,2.065921950383183e-64,8.222629460748385e-65,3.2625344372909528e-65,1.2904674771911678e-65,5.088462727810239e-66,2.000201305322172e-66,7.838056499047981e-67,3.061897496511388e-67,1.1923959173151331e-67,4.629114123286951e-68,1.7915249870047662e-68,6.911867856197464e-69,2.6583708001964714e-69,1.0192559704404716e-69,3.895816968592881e-70,1.4844357340596106e-70,5.6386070565795646e-71,2.1351571021102938e-71,8.060006924207541e-72,3.033112851024799e-72,1.137861224582253e-72,4.255372685679591e-73,1.586475902640702e-73,5.896264168420926e-74,2.1845800359608704e-74,8.068755633184117e-75,2.9709321931186023e-75,1.0905020630301472e-75,3.9903208542800035e-76,1.4555821427388888e-76,5.2931377303540335e-77,1.918833293023604e-77,6.934399690806978e-78,2.498204981848053e-78,8.972115269761842e-79,3.212248934581353e-79,1.1464922348183375e-79,4.079252760927841e-80,1.4468972438744239e-80,5.116139023646289e-81,1.8034103585931991e-81,6.337155401825505e-82,2.2199425176336947e-82,7.752408977190543e-83,2.698852794274716e-83,9.366326508649884e-84,3.240462230442636e-84,1.1176149671677677e-84,3.842598680778347e-85,1.317059587385451e-85,4.500216353489995e-86,1.5328827523171159e-86,5.205135702878731e-87,1.7619872033363614e-87,5.945946786510997e-88,2.000261891782137e-88,6.708111590812809e-89,2.242648813684133e-89,7.474288165537628e-90,2.4832816498666883e-90,8.224882372366741e-91,2.715694961988519e-91,8.938813006973628e-92,2.933096101158587e-92,9.594454942183569e-93,3.1286854130614904e-93,1.0170705091867866e-93,3.296004537062419e-94,1.0648099841129299e-94,3.4292883419875436e-95,1.1009902327274977e-95,3.5237939373891146e-96,1.1243075227500936e-96,3.57608064193266e-97,1.1339060320265813e-97,3.584217881473809e-98,1.1294299846743138e-98,3.547903503914092e-99,1.1110455390290713e-99,3.468482401245183e-100,1.0794305499241649e-100,3.3488638386128965e-101,1.0357330847719262e-101,3.193344575712126e-102,9.815022331242947e-103,3.0073527737441775e-103,9.18597022861909e-104,2.797133961822571e-104,8.49080904340618e-105,2.569404355301909e-105,7.751101300133456e-106,2.330998232933482e-106,6.988243842138116e-107,2.088534873741851e-107,6.22247251460916e-108,1.8481270228005365e-108,5.472026880878712e-109,1.6151475455827886e-109,4.7525178432231536e-110,1.3940645548917267e-110,4.076520106891792e-111,1.1883486226068121e-111,3.4533907402594472e-112,1.0004494456465133e-112,2.889296758411576e-113,8.31834114713851e-114,2.3874202830408912e-114,6.830753380074642e-115,1.948300342416411e-115,5.539757864397409e-116,1.5702660214920508e-116,4.4371412945455925e-117,1.2499160889143871e-117,3.5099912426613404e-118,9.82604575687404e-119,2.742199871359328e-119,7.628989282205359e-120,2.1158383185414838e-120,5.8498607206933135e-121,1.6123382194470052e-121,4.430108329414361e-122,1.2134450606654936e-122,3.313396925714102e-123,9.019332267108517e-124,2.447501025797855e-124,6.620929344174673e-125,1.7855112823687116e-125,4.800139058646296e-126,1.2864491187345725e-126,3.4369956567671375e-127,9.154042566042688e-128,2.4304934020857665e-128,6.433147958867073e-129,1.697462576657002e-129,4.465030720479811e-130,1.1708365434944946e-130,3.060664041835832e-131,7.97595377381023e-132,2.0720353955426097e-132,5.3661064824708874e-133,1.3853802033833719e-133,3.56554763718778e-134,9.148103797456986e-135,2.3398256563692878e-135,5.966003290297959e-136,1.5164603272432634e-136,3.8426089699586485e-137,9.706639626058461e-138,2.444326378706803e-138,6.1361654051693246e-139,1.5356155306554553e-139,3.831029607428668e-140,9.527875983269256e-141,2.3622412969254643e-141,5.838482654058539e-142,1.4385445155383405e-142,3.5334112840185467e-143,8.651923132920903e-144,2.111925955731537e-144,5.139161879281926e-145,1.2466756661605991e-145,3.0148259307847723e-146,7.268061209490258e-147,1.7467167502794317e-147,4.18479288345011e-148,9.994775111062272e-149,2.3796860215080144e-149,5.648249428904518e-150,1.3364590287621508e-150,3.152426765819125e-151,7.412794111266686e-152,1.7376665624042872e-152,4.060677743494745e-153,9.459717799202338e-154,2.196875325965492e-154,5.0860452083507525e-155,1.1738229487027995e-155,2.700676405896395e-156,6.194269252993375e-157,1.4162997651943256e-157,3.228255217512256e-158,7.335472862203835e-159,1.6616361904712773e-159,3.7522463609583923e-160,8.446841058481387e-161,1.895592030499494e-161,4.2407532220134857e-162,9.457768989763823e-163,2.102722577696803e-163,4.660396082534436e-164,1.0297012829007278e-164,2.26802195238517e-165,4.980017036695038e-166,1.0900890517339905e-166,2.378705637740702e-167,5.174483430606833e-168,1.1221240590752365e-168],\"yaxis\":\"y\",\"type\":\"scatter\"}],                        {\"barmode\":\"overlay\",\"hovermode\":\"closest\",\"legend\":{\"traceorder\":\"reversed\"},\"xaxis\":{\"anchor\":\"y2\",\"domain\":[0.0,1.0],\"zeroline\":false},\"yaxis\":{\"anchor\":\"free\",\"domain\":[0.0,1],\"position\":0.0},\"template\":{\"data\":{\"bar\":[{\"error_x\":{\"color\":\"#2a3f5f\"},\"error_y\":{\"color\":\"#2a3f5f\"},\"marker\":{\"line\":{\"color\":\"#E5ECF6\",\"width\":0.5},\"pattern\":{\"fillmode\":\"overlay\",\"size\":10,\"solidity\":0.2}},\"type\":\"bar\"}],\"barpolar\":[{\"marker\":{\"line\":{\"color\":\"#E5ECF6\",\"width\":0.5},\"pattern\":{\"fillmode\":\"overlay\",\"size\":10,\"solidity\":0.2}},\"type\":\"barpolar\"}],\"carpet\":[{\"aaxis\":{\"endlinecolor\":\"#2a3f5f\",\"gridcolor\":\"white\",\"linecolor\":\"white\",\"minorgridcolor\":\"white\",\"startlinecolor\":\"#2a3f5f\"},\"baxis\":{\"endlinecolor\":\"#2a3f5f\",\"gridcolor\":\"white\",\"linecolor\":\"white\",\"minorgridcolor\":\"white\",\"startlinecolor\":\"#2a3f5f\"},\"type\":\"carpet\"}],\"choropleth\":[{\"colorbar\":{\"outlinewidth\":0,\"ticks\":\"\"},\"type\":\"choropleth\"}],\"contour\":[{\"colorbar\":{\"outlinewidth\":0,\"ticks\":\"\"},\"colorscale\":[[0.0,\"#0d0887\"],[0.1111111111111111,\"#46039f\"],[0.2222222222222222,\"#7201a8\"],[0.3333333333333333,\"#9c179e\"],[0.4444444444444444,\"#bd3786\"],[0.5555555555555556,\"#d8576b\"],[0.6666666666666666,\"#ed7953\"],[0.7777777777777778,\"#fb9f3a\"],[0.8888888888888888,\"#fdca26\"],[1.0,\"#f0f921\"]],\"type\":\"contour\"}],\"contourcarpet\":[{\"colorbar\":{\"outlinewidth\":0,\"ticks\":\"\"},\"type\":\"contourcarpet\"}],\"heatmap\":[{\"colorbar\":{\"outlinewidth\":0,\"ticks\":\"\"},\"colorscale\":[[0.0,\"#0d0887\"],[0.1111111111111111,\"#46039f\"],[0.2222222222222222,\"#7201a8\"],[0.3333333333333333,\"#9c179e\"],[0.4444444444444444,\"#bd3786\"],[0.5555555555555556,\"#d8576b\"],[0.6666666666666666,\"#ed7953\"],[0.7777777777777778,\"#fb9f3a\"],[0.8888888888888888,\"#fdca26\"],[1.0,\"#f0f921\"]],\"type\":\"heatmap\"}],\"heatmapgl\":[{\"colorbar\":{\"outlinewidth\":0,\"ticks\":\"\"},\"colorscale\":[[0.0,\"#0d0887\"],[0.1111111111111111,\"#46039f\"],[0.2222222222222222,\"#7201a8\"],[0.3333333333333333,\"#9c179e\"],[0.4444444444444444,\"#bd3786\"],[0.5555555555555556,\"#d8576b\"],[0.6666666666666666,\"#ed7953\"],[0.7777777777777778,\"#fb9f3a\"],[0.8888888888888888,\"#fdca26\"],[1.0,\"#f0f921\"]],\"type\":\"heatmapgl\"}],\"histogram\":[{\"marker\":{\"pattern\":{\"fillmode\":\"overlay\",\"size\":10,\"solidity\":0.2}},\"type\":\"histogram\"}],\"histogram2d\":[{\"colorbar\":{\"outlinewidth\":0,\"ticks\":\"\"},\"colorscale\":[[0.0,\"#0d0887\"],[0.1111111111111111,\"#46039f\"],[0.2222222222222222,\"#7201a8\"],[0.3333333333333333,\"#9c179e\"],[0.4444444444444444,\"#bd3786\"],[0.5555555555555556,\"#d8576b\"],[0.6666666666666666,\"#ed7953\"],[0.7777777777777778,\"#fb9f3a\"],[0.8888888888888888,\"#fdca26\"],[1.0,\"#f0f921\"]],\"type\":\"histogram2d\"}],\"histogram2dcontour\":[{\"colorbar\":{\"outlinewidth\":0,\"ticks\":\"\"},\"colorscale\":[[0.0,\"#0d0887\"],[0.1111111111111111,\"#46039f\"],[0.2222222222222222,\"#7201a8\"],[0.3333333333333333,\"#9c179e\"],[0.4444444444444444,\"#bd3786\"],[0.5555555555555556,\"#d8576b\"],[0.6666666666666666,\"#ed7953\"],[0.7777777777777778,\"#fb9f3a\"],[0.8888888888888888,\"#fdca26\"],[1.0,\"#f0f921\"]],\"type\":\"histogram2dcontour\"}],\"mesh3d\":[{\"colorbar\":{\"outlinewidth\":0,\"ticks\":\"\"},\"type\":\"mesh3d\"}],\"parcoords\":[{\"line\":{\"colorbar\":{\"outlinewidth\":0,\"ticks\":\"\"}},\"type\":\"parcoords\"}],\"pie\":[{\"automargin\":true,\"type\":\"pie\"}],\"scatter\":[{\"marker\":{\"colorbar\":{\"outlinewidth\":0,\"ticks\":\"\"}},\"type\":\"scatter\"}],\"scatter3d\":[{\"line\":{\"colorbar\":{\"outlinewidth\":0,\"ticks\":\"\"}},\"marker\":{\"colorbar\":{\"outlinewidth\":0,\"ticks\":\"\"}},\"type\":\"scatter3d\"}],\"scattercarpet\":[{\"marker\":{\"colorbar\":{\"outlinewidth\":0,\"ticks\":\"\"}},\"type\":\"scattercarpet\"}],\"scattergeo\":[{\"marker\":{\"colorbar\":{\"outlinewidth\":0,\"ticks\":\"\"}},\"type\":\"scattergeo\"}],\"scattergl\":[{\"marker\":{\"colorbar\":{\"outlinewidth\":0,\"ticks\":\"\"}},\"type\":\"scattergl\"}],\"scattermapbox\":[{\"marker\":{\"colorbar\":{\"outlinewidth\":0,\"ticks\":\"\"}},\"type\":\"scattermapbox\"}],\"scatterpolar\":[{\"marker\":{\"colorbar\":{\"outlinewidth\":0,\"ticks\":\"\"}},\"type\":\"scatterpolar\"}],\"scatterpolargl\":[{\"marker\":{\"colorbar\":{\"outlinewidth\":0,\"ticks\":\"\"}},\"type\":\"scatterpolargl\"}],\"scatterternary\":[{\"marker\":{\"colorbar\":{\"outlinewidth\":0,\"ticks\":\"\"}},\"type\":\"scatterternary\"}],\"surface\":[{\"colorbar\":{\"outlinewidth\":0,\"ticks\":\"\"},\"colorscale\":[[0.0,\"#0d0887\"],[0.1111111111111111,\"#46039f\"],[0.2222222222222222,\"#7201a8\"],[0.3333333333333333,\"#9c179e\"],[0.4444444444444444,\"#bd3786\"],[0.5555555555555556,\"#d8576b\"],[0.6666666666666666,\"#ed7953\"],[0.7777777777777778,\"#fb9f3a\"],[0.8888888888888888,\"#fdca26\"],[1.0,\"#f0f921\"]],\"type\":\"surface\"}],\"table\":[{\"cells\":{\"fill\":{\"color\":\"#EBF0F8\"},\"line\":{\"color\":\"white\"}},\"header\":{\"fill\":{\"color\":\"#C8D4E3\"},\"line\":{\"color\":\"white\"}},\"type\":\"table\"}]},\"layout\":{\"annotationdefaults\":{\"arrowcolor\":\"#2a3f5f\",\"arrowhead\":0,\"arrowwidth\":1},\"autotypenumbers\":\"strict\",\"coloraxis\":{\"colorbar\":{\"outlinewidth\":0,\"ticks\":\"\"}},\"colorscale\":{\"diverging\":[[0,\"#8e0152\"],[0.1,\"#c51b7d\"],[0.2,\"#de77ae\"],[0.3,\"#f1b6da\"],[0.4,\"#fde0ef\"],[0.5,\"#f7f7f7\"],[0.6,\"#e6f5d0\"],[0.7,\"#b8e186\"],[0.8,\"#7fbc41\"],[0.9,\"#4d9221\"],[1,\"#276419\"]],\"sequential\":[[0.0,\"#0d0887\"],[0.1111111111111111,\"#46039f\"],[0.2222222222222222,\"#7201a8\"],[0.3333333333333333,\"#9c179e\"],[0.4444444444444444,\"#bd3786\"],[0.5555555555555556,\"#d8576b\"],[0.6666666666666666,\"#ed7953\"],[0.7777777777777778,\"#fb9f3a\"],[0.8888888888888888,\"#fdca26\"],[1.0,\"#f0f921\"]],\"sequentialminus\":[[0.0,\"#0d0887\"],[0.1111111111111111,\"#46039f\"],[0.2222222222222222,\"#7201a8\"],[0.3333333333333333,\"#9c179e\"],[0.4444444444444444,\"#bd3786\"],[0.5555555555555556,\"#d8576b\"],[0.6666666666666666,\"#ed7953\"],[0.7777777777777778,\"#fb9f3a\"],[0.8888888888888888,\"#fdca26\"],[1.0,\"#f0f921\"]]},\"colorway\":[\"#636efa\",\"#EF553B\",\"#00cc96\",\"#ab63fa\",\"#FFA15A\",\"#19d3f3\",\"#FF6692\",\"#B6E880\",\"#FF97FF\",\"#FECB52\"],\"font\":{\"color\":\"#2a3f5f\"},\"geo\":{\"bgcolor\":\"white\",\"lakecolor\":\"white\",\"landcolor\":\"#E5ECF6\",\"showlakes\":true,\"showland\":true,\"subunitcolor\":\"white\"},\"hoverlabel\":{\"align\":\"left\"},\"hovermode\":\"closest\",\"mapbox\":{\"style\":\"light\"},\"paper_bgcolor\":\"white\",\"plot_bgcolor\":\"#E5ECF6\",\"polar\":{\"angularaxis\":{\"gridcolor\":\"white\",\"linecolor\":\"white\",\"ticks\":\"\"},\"bgcolor\":\"#E5ECF6\",\"radialaxis\":{\"gridcolor\":\"white\",\"linecolor\":\"white\",\"ticks\":\"\"}},\"scene\":{\"xaxis\":{\"backgroundcolor\":\"#E5ECF6\",\"gridcolor\":\"white\",\"gridwidth\":2,\"linecolor\":\"white\",\"showbackground\":true,\"ticks\":\"\",\"zerolinecolor\":\"white\"},\"yaxis\":{\"backgroundcolor\":\"#E5ECF6\",\"gridcolor\":\"white\",\"gridwidth\":2,\"linecolor\":\"white\",\"showbackground\":true,\"ticks\":\"\",\"zerolinecolor\":\"white\"},\"zaxis\":{\"backgroundcolor\":\"#E5ECF6\",\"gridcolor\":\"white\",\"gridwidth\":2,\"linecolor\":\"white\",\"showbackground\":true,\"ticks\":\"\",\"zerolinecolor\":\"white\"}},\"shapedefaults\":{\"line\":{\"color\":\"#2a3f5f\"}},\"ternary\":{\"aaxis\":{\"gridcolor\":\"white\",\"linecolor\":\"white\",\"ticks\":\"\"},\"baxis\":{\"gridcolor\":\"white\",\"linecolor\":\"white\",\"ticks\":\"\"},\"bgcolor\":\"#E5ECF6\",\"caxis\":{\"gridcolor\":\"white\",\"linecolor\":\"white\",\"ticks\":\"\"}},\"title\":{\"x\":0.05},\"xaxis\":{\"automargin\":true,\"gridcolor\":\"white\",\"linecolor\":\"white\",\"ticks\":\"\",\"title\":{\"standoff\":15},\"zerolinecolor\":\"white\",\"zerolinewidth\":2},\"yaxis\":{\"automargin\":true,\"gridcolor\":\"white\",\"linecolor\":\"white\",\"ticks\":\"\",\"title\":{\"standoff\":15},\"zerolinecolor\":\"white\",\"zerolinewidth\":2}}}},                        {\"responsive\": true}                    ).then(function(){\n",
              "                            \n",
              "var gd = document.getElementById('24db5638-c87f-4d63-aa35-100f3e036ff1');\n",
              "var x = new MutationObserver(function (mutations, observer) {{\n",
              "        var display = window.getComputedStyle(gd).display;\n",
              "        if (!display || display === 'none') {{\n",
              "            console.log([gd, 'removed!']);\n",
              "            Plotly.purge(gd);\n",
              "            observer.disconnect();\n",
              "        }}\n",
              "}});\n",
              "\n",
              "// Listen for the removal of the full notebook cells\n",
              "var notebookContainer = gd.closest('#notebook-container');\n",
              "if (notebookContainer) {{\n",
              "    x.observe(notebookContainer, {childList: true});\n",
              "}}\n",
              "\n",
              "// Listen for the clearing of the current output cell\n",
              "var outputEl = gd.closest('.output');\n",
              "if (outputEl) {{\n",
              "    x.observe(outputEl, {childList: true});\n",
              "}}\n",
              "\n",
              "                        })                };                            </script>        </div>\n",
              "</body>\n",
              "</html>"
            ]
          },
          "metadata": {}
        }
      ]
    },
    {
      "cell_type": "markdown",
      "source": [
        "Normal distribution shows the most accurate distribution of data around its mean. On comparing the value at tip and the value given by pandas describe function, I realized that they are same. Which verifies that mean is at peak in normal distribution."
      ],
      "metadata": {
        "id": "UcxW4D6lMZnD"
      }
    },
    {
      "cell_type": "code",
      "source": [
        "sns.displot(df['age'],bins=100)"
      ],
      "metadata": {
        "colab": {
          "base_uri": "https://localhost:8080/",
          "height": 386
        },
        "id": "dpRYSlwWqKte",
        "outputId": "b2b3c6f0-e448-4658-fa72-994475abe2ce"
      },
      "execution_count": 15,
      "outputs": [
        {
          "output_type": "execute_result",
          "data": {
            "text/plain": [
              "<seaborn.axisgrid.FacetGrid at 0x7f9e7e433fd0>"
            ]
          },
          "metadata": {},
          "execution_count": 15
        },
        {
          "output_type": "display_data",
          "data": {
            "text/plain": [
              "<Figure size 360x360 with 1 Axes>"
            ],
            "image/png": "[encoded data removed]"
          },
          "metadata": {
            "needs_background": "light"
          }
        }
      ]
    },
    {
      "cell_type": "code",
      "source": [
        "sns.countplot(x = df['age'],data = df)"
      ],
      "metadata": {
        "colab": {
          "base_uri": "https://localhost:8080/",
          "height": 296
        },
        "id": "3WyqIbHTunl8",
        "outputId": "96756615-78f3-4fcd-aee2-d1d64d3cdeb5"
      },
      "execution_count": 16,
      "outputs": [
        {
          "output_type": "execute_result",
          "data": {
            "text/plain": [
              "<matplotlib.axes._subplots.AxesSubplot at 0x7f9e7e433b10>"
            ]
          },
          "metadata": {},
          "execution_count": 16
        },
        {
          "output_type": "display_data",
          "data": {
            "text/plain": [
              "<Figure size 432x288 with 1 Axes>"
            ],
            "image/png": "[encoded data removed]"
          },
          "metadata": {
            "needs_background": "light"
          }
        }
      ]
    },
    {
      "cell_type": "code",
      "source": [
        "df.corr()"
      ],
      "metadata": {
        "colab": {
          "base_uri": "https://localhost:8080/",
          "height": 269
        },
        "id": "Yb04Qu9mIZXl",
        "outputId": "0ab0fd7a-fa44-4907-c125-a604b7995204"
      },
      "execution_count": 17,
      "outputs": [
        {
          "output_type": "execute_result",
          "data": {
            "text/plain": [
              "                     overall  potential  value_eur  wage_eur       age  \\\n",
              "overall             1.000000   0.641191   0.558074  0.591625  0.473104   \n",
              "potential           0.641191   1.000000   0.539652  0.491453 -0.252461   \n",
              "value_eur           0.558074   0.539652   1.000000  0.813059  0.043275   \n",
              "wage_eur            0.591625   0.491453   0.813059  1.000000  0.165314   \n",
              "age                 0.473104  -0.252461   0.043275  0.165314  1.000000   \n",
              "league_level       -0.210423  -0.177194  -0.120507 -0.137220 -0.060379   \n",
              "release_clause_eur  0.626277   0.587108   0.978579  0.842814  0.071333   \n",
              "\n",
              "                    league_level  release_clause_eur  \n",
              "overall                -0.210423            0.626277  \n",
              "potential              -0.177194            0.587108  \n",
              "value_eur              -0.120507            0.978579  \n",
              "wage_eur               -0.137220            0.842814  \n",
              "age                    -0.060379            0.071333  \n",
              "league_level            1.000000           -0.140492  \n",
              "release_clause_eur     -0.140492            1.000000  "
            ],
            "text/html": [
              "\n",
              "  <div id=\"df-f9b06d99-f5a2-43d4-ab46-c023646ce5e8\">\n",
              "    <div class=\"colab-df-container\">\n",
              "      <div>\n",
              "<style scoped>\n",
              "    .dataframe tbody tr th:only-of-type {\n",
              "        vertical-align: middle;\n",
              "    }\n",
              "\n",
              "    .dataframe tbody tr th {\n",
              "        vertical-align: top;\n",
              "    }\n",
              "\n",
              "    .dataframe thead th {\n",
              "        text-align: right;\n",
              "    }\n",
              "</style>\n",
              "<table border=\"1\" class=\"dataframe\">\n",
              "  <thead>\n",
              "    <tr style=\"text-align: right;\">\n",
              "      <th></th>\n",
              "      <th>overall</th>\n",
              "      <th>potential</th>\n",
              "      <th>value_eur</th>\n",
              "      <th>wage_eur</th>\n",
              "      <th>age</th>\n",
              "      <th>league_level</th>\n",
              "      <th>release_clause_eur</th>\n",
              "    </tr>\n",
              "  </thead>\n",
              "  <tbody>\n",
              "    <tr>\n",
              "      <th>overall</th>\n",
              "      <td>1.000000</td>\n",
              "      <td>0.641191</td>\n",
              "      <td>0.558074</td>\n",
              "      <td>0.591625</td>\n",
              "      <td>0.473104</td>\n",
              "      <td>-0.210423</td>\n",
              "      <td>0.626277</td>\n",
              "    </tr>\n",
              "    <tr>\n",
              "      <th>potential</th>\n",
              "      <td>0.641191</td>\n",
              "      <td>1.000000</td>\n",
              "      <td>0.539652</td>\n",
              "      <td>0.491453</td>\n",
              "      <td>-0.252461</td>\n",
              "      <td>-0.177194</td>\n",
              "      <td>0.587108</td>\n",
              "    </tr>\n",
              "    <tr>\n",
              "      <th>value_eur</th>\n",
              "      <td>0.558074</td>\n",
              "      <td>0.539652</td>\n",
              "      <td>1.000000</td>\n",
              "      <td>0.813059</td>\n",
              "      <td>0.043275</td>\n",
              "      <td>-0.120507</td>\n",
              "      <td>0.978579</td>\n",
              "    </tr>\n",
              "    <tr>\n",
              "      <th>wage_eur</th>\n",
              "      <td>0.591625</td>\n",
              "      <td>0.491453</td>\n",
              "      <td>0.813059</td>\n",
              "      <td>1.000000</td>\n",
              "      <td>0.165314</td>\n",
              "      <td>-0.137220</td>\n",
              "      <td>0.842814</td>\n",
              "    </tr>\n",
              "    <tr>\n",
              "      <th>age</th>\n",
              "      <td>0.473104</td>\n",
              "      <td>-0.252461</td>\n",
              "      <td>0.043275</td>\n",
              "      <td>0.165314</td>\n",
              "      <td>1.000000</td>\n",
              "      <td>-0.060379</td>\n",
              "      <td>0.071333</td>\n",
              "    </tr>\n",
              "    <tr>\n",
              "      <th>league_level</th>\n",
              "      <td>-0.210423</td>\n",
              "      <td>-0.177194</td>\n",
              "      <td>-0.120507</td>\n",
              "      <td>-0.137220</td>\n",
              "      <td>-0.060379</td>\n",
              "      <td>1.000000</td>\n",
              "      <td>-0.140492</td>\n",
              "    </tr>\n",
              "    <tr>\n",
              "      <th>release_clause_eur</th>\n",
              "      <td>0.626277</td>\n",
              "      <td>0.587108</td>\n",
              "      <td>0.978579</td>\n",
              "      <td>0.842814</td>\n",
              "      <td>0.071333</td>\n",
              "      <td>-0.140492</td>\n",
              "      <td>1.000000</td>\n",
              "    </tr>\n",
              "  </tbody>\n",
              "</table>\n",
              "</div>\n",
              "      <button class=\"colab-df-convert\" onclick=\"convertToInteractive('df-f9b06d99-f5a2-43d4-ab46-c023646ce5e8')\"\n",
              "              title=\"Convert this dataframe to an interactive table.\"\n",
              "              style=\"display:none;\">\n",
              "        \n",
              "  <svg xmlns=\"http://www.w3.org/2000/svg\" height=\"24px\"viewBox=\"0 0 24 24\"\n",
              "       width=\"24px\">\n",
              "    <path d=\"M0 0h24v24H0V0z\" fill=\"none\"/>\n",
              "    <path d=\"M18.56 5.44l.94 2.06.94-2.06 2.06-.94-2.06-.94-.94-2.06-.94 2.06-2.06.94zm-11 1L8.5 8.5l.94-2.06 2.06-.94-2.06-.94L8.5 2.5l-.94 2.06-2.06.94zm10 10l.94 2.06.94-2.06 2.06-.94-2.06-.94-.94-2.06-.94 2.06-2.06.94z\"/><path d=\"M17.41 7.96l-1.37-1.37c-.4-.4-.92-.59-1.43-.59-.52 0-1.04.2-1.43.59L10.3 9.45l-7.72 7.72c-.78.78-.78 2.05 0 2.83L4 21.41c.39.39.9.59 1.41.59.51 0 1.02-.2 1.41-.59l7.78-7.78 2.81-2.81c.8-.78.8-2.07 0-2.86zM5.41 20L4 18.59l7.72-7.72 1.47 1.35L5.41 20z\"/>\n",
              "  </svg>\n",
              "      </button>\n",
              "      \n",
              "  <style>\n",
              "    .colab-df-container {\n",
              "      display:flex;\n",
              "      flex-wrap:wrap;\n",
              "      gap: 12px;\n",
              "    }\n",
              "\n",
              "    .colab-df-convert {\n",
              "      background-color: #E8F0FE;\n",
              "      border: none;\n",
              "      border-radius: 50%;\n",
              "      cursor: pointer;\n",
              "      display: none;\n",
              "      fill: #1967D2;\n",
              "      height: 32px;\n",
              "      padding: 0 0 0 0;\n",
              "      width: 32px;\n",
              "    }\n",
              "\n",
              "    .colab-df-convert:hover {\n",
              "      background-color: #E2EBFA;\n",
              "      box-shadow: 0px 1px 2px rgba(60, 64, 67, 0.3), 0px 1px 3px 1px rgba(60, 64, 67, 0.15);\n",
              "      fill: #174EA6;\n",
              "    }\n",
              "\n",
              "    [theme=dark] .colab-df-convert {\n",
              "      background-color: #3B4455;\n",
              "      fill: #D2E3FC;\n",
              "    }\n",
              "\n",
              "    [theme=dark] .colab-df-convert:hover {\n",
              "      background-color: #434B5C;\n",
              "      box-shadow: 0px 1px 3px 1px rgba(0, 0, 0, 0.15);\n",
              "      filter: drop-shadow(0px 1px 2px rgba(0, 0, 0, 0.3));\n",
              "      fill: #FFFFFF;\n",
              "    }\n",
              "  </style>\n",
              "\n",
              "      <script>\n",
              "        const buttonEl =\n",
              "          document.querySelector('#df-f9b06d99-f5a2-43d4-ab46-c023646ce5e8 button.colab-df-convert');\n",
              "        buttonEl.style.display =\n",
              "          google.colab.kernel.accessAllowed ? 'block' : 'none';\n",
              "\n",
              "        async function convertToInteractive(key) {\n",
              "          const element = document.querySelector('#df-f9b06d99-f5a2-43d4-ab46-c023646ce5e8');\n",
              "          const dataTable =\n",
              "            await google.colab.kernel.invokeFunction('convertToInteractive',\n",
              "                                                     [key], {});\n",
              "          if (!dataTable) return;\n",
              "\n",
              "          const docLinkHtml = 'Like what you see? Visit the ' +\n",
              "            '<a target=\"_blank\" href=https://colab.research.google.com/notebooks/data_table.ipynb>data table notebook</a>'\n",
              "            + ' to learn more about interactive tables.';\n",
              "          element.innerHTML = '';\n",
              "          dataTable['output_type'] = 'display_data';\n",
              "          await google.colab.output.renderOutput(dataTable, element);\n",
              "          const docLink = document.createElement('div');\n",
              "          docLink.innerHTML = docLinkHtml;\n",
              "          element.appendChild(docLink);\n",
              "        }\n",
              "      </script>\n",
              "    </div>\n",
              "  </div>\n",
              "  "
            ]
          },
          "metadata": {},
          "execution_count": 17
        }
      ]
    },
    {
      "cell_type": "code",
      "source": [
        "dfplot = sns.heatmap(df.corr(), cmap=\"YlGnBu\", annot=True)"
      ],
      "metadata": {
        "colab": {
          "base_uri": "https://localhost:8080/",
          "height": 355
        },
        "id": "oYAFowsDJGX8",
        "outputId": "d6feac79-089f-4742-c191-cec1458a49a0"
      },
      "execution_count": 18,
      "outputs": [
        {
          "output_type": "display_data",
          "data": {
            "text/plain": [
              "<Figure size 432x288 with 2 Axes>"
            ],
            "image/png": "[encoded data removed]"
          },
          "metadata": {
            "needs_background": "light"
          }
        }
      ]
    },
    {
      "cell_type": "code",
      "source": [
        "from scipy.stats import skewtest,skew\n",
        "print(skew(df['age'], axis=0, bias=True))\n",
        "print(skewtest(df['potential']))"
      ],
      "metadata": {
        "colab": {
          "base_uri": "https://localhost:8080/"
        },
        "id": "lUHdjgVFMh82",
        "outputId": "8e7acdf3-d956-433e-e238-ee9e6f8d04e9"
      },
      "execution_count": 19,
      "outputs": [
        {
          "output_type": "stream",
          "name": "stdout",
          "text": [
            "0.3719327965080013\n",
            "SkewtestResult(statistic=13.286606200722193, pvalue=2.7685318341096667e-40)\n"
          ]
        }
      ]
    },
    {
      "cell_type": "code",
      "source": [
        "from scipy.stats import ttest_1samp"
      ],
      "metadata": {
        "id": "i6ZQEaQlxZhP"
      },
      "execution_count": 20,
      "outputs": []
    },
    {
      "cell_type": "code",
      "source": [
        "ttest,pvalue = ttest_1samp(df['wage_eur'],8500)\n",
        "pvalue"
      ],
      "metadata": {
        "colab": {
          "base_uri": "https://localhost:8080/"
        },
        "id": "si6Rj9STvLOv",
        "outputId": "102d7e65-04e0-4a70-eb92-3eb757241129"
      },
      "execution_count": 21,
      "outputs": [
        {
          "output_type": "execute_result",
          "data": {
            "text/plain": [
              "0.00013990786049815658"
            ]
          },
          "metadata": {},
          "execution_count": 21
        }
      ]
    },
    {
      "cell_type": "code",
      "source": [
        "if pvalue >0.1:\n",
        "  print(\"Non significant evidence against H0\")\n",
        "elif pvalue > 0.05 and pvalue <= 0.1:\n",
        "  print(\"Marginally significant evidence against H0\") \n",
        "elif pvalue > 0.01 and pvalue <= 0.05:\n",
        "  print(\"Significant evidence against H0\") \n",
        "else:\n",
        "  print(\"Highly significant evidence against H0\")"
      ],
      "metadata": {
        "colab": {
          "base_uri": "https://localhost:8080/"
        },
        "id": "OD1zfFuvI5xb",
        "outputId": "dcc08e93-fe6c-4880-cbe9-980e7f78b02a"
      },
      "execution_count": 22,
      "outputs": [
        {
          "output_type": "stream",
          "name": "stdout",
          "text": [
            "Highly significant evidence against H0\n"
          ]
        }
      ]
    },
    {
      "cell_type": "code",
      "source": [
        "ttest,pvalue = ttest_1samp(df['release_clause_eur'],4.23e+06)\n",
        "pvalue"
      ],
      "metadata": {
        "id": "V22MavGMwqdz",
        "colab": {
          "base_uri": "https://localhost:8080/"
        },
        "outputId": "5f501ce5-4c10-4b08-e97a-c0dc7bb1bfdf"
      },
      "execution_count": 23,
      "outputs": [
        {
          "output_type": "execute_result",
          "data": {
            "text/plain": [
              "0.37687889813649433"
            ]
          },
          "metadata": {},
          "execution_count": 23
        }
      ]
    },
    {
      "cell_type": "code",
      "source": [
        "pvalue"
      ],
      "metadata": {
        "colab": {
          "base_uri": "https://localhost:8080/"
        },
        "id": "qrygivBFxz86",
        "outputId": "b5131160-7aec-4b75-eeb7-60038cf91e39"
      },
      "execution_count": 24,
      "outputs": [
        {
          "output_type": "execute_result",
          "data": {
            "text/plain": [
              "0.37687889813649433"
            ]
          },
          "metadata": {},
          "execution_count": 24
        }
      ]
    },
    {
      "cell_type": "code",
      "source": [
        "if pvalue >0.1:\n",
        "  print(\"Non significant evidence against H0\")\n",
        "elif pvalue > 0.05 and pvalue <= 0.1:\n",
        "  print(\"Marginally significant evidence against H0\") \n",
        "elif pvalue > 0.01 and pvalue <= 0.05:\n",
        "  print(\"Significant evidence against H0\") \n",
        "else:\n",
        "  print(\"Highly significant evidence against H0\")"
      ],
      "metadata": {
        "colab": {
          "base_uri": "https://localhost:8080/"
        },
        "id": "b3LXFGgdynyq",
        "outputId": "95516f56-bd2b-44ec-a80b-84392cc1e72d"
      },
      "execution_count": 25,
      "outputs": [
        {
          "output_type": "stream",
          "name": "stdout",
          "text": [
            "Non significant evidence against H0\n"
          ]
        }
      ]
    },
    {
      "cell_type": "code",
      "source": [
        "print('\\n\\noverall\\n', df['overall'].mode())\n",
        "print('\\n\\npotential\\n', df['potential'].mode())\n",
        "print('\\n\\nvalue_eur\\n', df['value_eur'].mode())\n",
        "print('\\n\\nwage_eur\\n', df['wage_eur'].mode())\n",
        "print('\\n\\nrelease_clause_eur\\n', df['release_clause_eur'].mode())\n",
        "# print('\\n\\nCost Per Month - Premium ($)\\n', df['Cost Per Month - Premium ($)'].mode())"
      ],
      "metadata": {
        "colab": {
          "base_uri": "https://localhost:8080/"
        },
        "id": "xjsTc1UkM4yG",
        "outputId": "94660a9e-6db9-451b-d50a-f6eff9479c12"
      },
      "execution_count": 26,
      "outputs": [
        {
          "output_type": "stream",
          "name": "stdout",
          "text": [
            "\n",
            "\n",
            "overall\n",
            " 0    65\n",
            "dtype: int64\n",
            "\n",
            "\n",
            "potential\n",
            " 0    70\n",
            "dtype: int64\n",
            "\n",
            "\n",
            "value_eur\n",
            " 0    1200000.0\n",
            "dtype: float64\n",
            "\n",
            "\n",
            "wage_eur\n",
            " 0    2000.0\n",
            "dtype: float64\n",
            "\n",
            "\n",
            "release_clause_eur\n",
            " 0    1100000.0\n",
            "dtype: float64\n"
          ]
        }
      ]
    },
    {
      "cell_type": "markdown",
      "source": [
        "Above is the mode of each attribute, showing values with highest frequencies in their respective columns."
      ],
      "metadata": {
        "id": "FXvooWkEOZZ3"
      }
    },
    {
      "cell_type": "markdown",
      "source": [
        "##Solution to example given in the document"
      ],
      "metadata": {
        "id": "1i20fNUKOcnU"
      }
    },
    {
      "cell_type": "markdown",
      "source": [
        "Given data:\n",
        "n = 10 \n",
        "x-bar = 27\n",
        "variance = 20\n",
        "H0: u0 = 30\n",
        "Ha: ua != 30\n",
        "alpha = 0.05\n",
        "\n",
        "Solution:\n",
        "As variance is given, I'll perform z-test to test the hypothesis by getting standard deviation:\n",
        "\n",
        "SE = sqrt(variance)/sqrt(n) = sqrt(20)/sqrt(10) = 1.414\n",
        "zstat = (x-bar - u0)/SE = (-3)/1.414 = -2.122\n",
        "Therefore, p-value = 0.033838\n",
        "as, p-value is between 0.01 and 0.05, we have significant evidence against H0.\n",
        "As, p-value: 0.033838 is lesseer than alpha: 0.05, we will reject the null hypothesis."
      ],
      "metadata": {
        "id": "LpM7ex0FJ70a"
      }
    },
    {
      "cell_type": "markdown",
      "source": [
        "##To check whether u < 30"
      ],
      "metadata": {
        "id": "jIhjU55uPY71"
      }
    },
    {
      "cell_type": "markdown",
      "source": [
        "H0: u0 = 30\n",
        "Ha: ua < 30\n",
        "alpha = 0.05\n",
        "\n",
        "Solution:\n",
        "SE = sqrt(variance)/sqrt(n) = sqrt(20)/sqrt(10) = 1.414\n",
        "zstat = (x-bar - u0)/SE = (-3)/1.414 = -2.122\n",
        "As this is a left tailed test,\n",
        "We need to check whether Zstat < -Zalpha\n",
        "If true, we reject H0 else we retain it.\n",
        "Here, Zalpha = -1.645\n",
        "As, Zstat: -2.122 < -Zalpha: -1.645\n",
        "Therefore, we reject null hypothesis and hold u < 30 as True."
      ],
      "metadata": {
        "id": "wsVndiOWPdp0"
      }
    },
    {
      "cell_type": "code",
      "source": [
        ""
      ],
      "metadata": {
        "id": "SA5bTAEpPbkE"
      },
      "execution_count": 26,
      "outputs": []
    }
  ]
}