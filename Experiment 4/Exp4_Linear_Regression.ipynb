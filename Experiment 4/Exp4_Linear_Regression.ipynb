{
  "nbformat": 4,
  "nbformat_minor": 0,
  "metadata": {
    "colab": {
      "name": "Exp4_Linear Regression.ipynb",
      "provenance": []
    },
    "kernelspec": {
      "name": "python3",
      "display_name": "Python 3"
    },
    "language_info": {
      "name": "python"
    }
  },
  "cells": [
    {
      "cell_type": "code",
      "execution_count": null,
      "metadata": {
        "id": "qZFb4JyA2ouU"
      },
      "outputs": [],
      "source": [
        "import pandas as pd\n",
        "import seaborn as sns\n",
        "import numpy as np\n",
        "import matplotlib.pyplot as plt\n",
        "from sklearn.metrics import r2_score,accuracy_score\n",
        "from sklearn.model_selection import train_test_split"
      ]
    },
    {
      "cell_type": "code",
      "source": [
        "#importing the data and understanding it\n",
        "data = pd.read_csv(\"/content/climate_change.csv\")\n",
        "\n",
        "data.head(10)"
      ],
      "metadata": {
        "colab": {
          "base_uri": "https://localhost:8080/",
          "height": 363
        },
        "id": "-Qsox7l62-j9",
        "outputId": "f496b8bd-ac03-46ee-f7dc-d279fa787e25"
      },
      "execution_count": null,
      "outputs": [
        {
          "output_type": "execute_result",
          "data": {
            "text/plain": [
              "   Year  Month    MEI     CO2      CH4      N2O   CFC-11   CFC-12        TSI  \\\n",
              "0  1983      5  2.556  345.96  1638.59  303.677  191.324  350.113  1366.1024   \n",
              "1  1983      6  2.167  345.52  1633.71  303.746  192.057  351.848  1366.1208   \n",
              "2  1983      7  1.741  344.15  1633.22  303.795  192.818  353.725  1366.2850   \n",
              "3  1983      8  1.130  342.25  1631.35  303.839  193.602  355.633  1366.4202   \n",
              "4  1983      9  0.428  340.17  1648.40  303.901  194.392  357.465  1366.2335   \n",
              "5  1983     10  0.002  340.30  1663.79  303.970  195.171  359.174  1366.0589   \n",
              "6  1983     11 -0.176  341.53  1658.23  304.032  195.921  360.758  1366.1072   \n",
              "7  1983     12 -0.176  343.07  1654.31  304.082  196.609  362.174  1366.0607   \n",
              "8  1984      1 -0.339  344.05  1658.98  304.130  197.219  363.359  1365.4261   \n",
              "9  1984      2 -0.565  344.77  1656.48  304.194  197.759  364.296  1365.6618   \n",
              "\n",
              "   Aerosols   Temp  \n",
              "0    0.0863  0.109  \n",
              "1    0.0794  0.118  \n",
              "2    0.0731  0.137  \n",
              "3    0.0673  0.176  \n",
              "4    0.0619  0.149  \n",
              "5    0.0569  0.093  \n",
              "6    0.0524  0.232  \n",
              "7    0.0486  0.078  \n",
              "8    0.0451  0.089  \n",
              "9    0.0416  0.013  "
            ],
            "text/html": [
              "\n",
              "  <div id=\"df-111fe8df-c70c-4b93-8538-3d696e7d17c9\">\n",
              "    <div class=\"colab-df-container\">\n",
              "      <div>\n",
              "<style scoped>\n",
              "    .dataframe tbody tr th:only-of-type {\n",
              "        vertical-align: middle;\n",
              "    }\n",
              "\n",
              "    .dataframe tbody tr th {\n",
              "        vertical-align: top;\n",
              "    }\n",
              "\n",
              "    .dataframe thead th {\n",
              "        text-align: right;\n",
              "    }\n",
              "</style>\n",
              "<table border=\"1\" class=\"dataframe\">\n",
              "  <thead>\n",
              "    <tr style=\"text-align: right;\">\n",
              "      <th></th>\n",
              "      <th>Year</th>\n",
              "      <th>Month</th>\n",
              "      <th>MEI</th>\n",
              "      <th>CO2</th>\n",
              "      <th>CH4</th>\n",
              "      <th>N2O</th>\n",
              "      <th>CFC-11</th>\n",
              "      <th>CFC-12</th>\n",
              "      <th>TSI</th>\n",
              "      <th>Aerosols</th>\n",
              "      <th>Temp</th>\n",
              "    </tr>\n",
              "  </thead>\n",
              "  <tbody>\n",
              "    <tr>\n",
              "      <th>0</th>\n",
              "      <td>1983</td>\n",
              "      <td>5</td>\n",
              "      <td>2.556</td>\n",
              "      <td>345.96</td>\n",
              "      <td>1638.59</td>\n",
              "      <td>303.677</td>\n",
              "      <td>191.324</td>\n",
              "      <td>350.113</td>\n",
              "      <td>1366.1024</td>\n",
              "      <td>0.0863</td>\n",
              "      <td>0.109</td>\n",
              "    </tr>\n",
              "    <tr>\n",
              "      <th>1</th>\n",
              "      <td>1983</td>\n",
              "      <td>6</td>\n",
              "      <td>2.167</td>\n",
              "      <td>345.52</td>\n",
              "      <td>1633.71</td>\n",
              "      <td>303.746</td>\n",
              "      <td>192.057</td>\n",
              "      <td>351.848</td>\n",
              "      <td>1366.1208</td>\n",
              "      <td>0.0794</td>\n",
              "      <td>0.118</td>\n",
              "    </tr>\n",
              "    <tr>\n",
              "      <th>2</th>\n",
              "      <td>1983</td>\n",
              "      <td>7</td>\n",
              "      <td>1.741</td>\n",
              "      <td>344.15</td>\n",
              "      <td>1633.22</td>\n",
              "      <td>303.795</td>\n",
              "      <td>192.818</td>\n",
              "      <td>353.725</td>\n",
              "      <td>1366.2850</td>\n",
              "      <td>0.0731</td>\n",
              "      <td>0.137</td>\n",
              "    </tr>\n",
              "    <tr>\n",
              "      <th>3</th>\n",
              "      <td>1983</td>\n",
              "      <td>8</td>\n",
              "      <td>1.130</td>\n",
              "      <td>342.25</td>\n",
              "      <td>1631.35</td>\n",
              "      <td>303.839</td>\n",
              "      <td>193.602</td>\n",
              "      <td>355.633</td>\n",
              "      <td>1366.4202</td>\n",
              "      <td>0.0673</td>\n",
              "      <td>0.176</td>\n",
              "    </tr>\n",
              "    <tr>\n",
              "      <th>4</th>\n",
              "      <td>1983</td>\n",
              "      <td>9</td>\n",
              "      <td>0.428</td>\n",
              "      <td>340.17</td>\n",
              "      <td>1648.40</td>\n",
              "      <td>303.901</td>\n",
              "      <td>194.392</td>\n",
              "      <td>357.465</td>\n",
              "      <td>1366.2335</td>\n",
              "      <td>0.0619</td>\n",
              "      <td>0.149</td>\n",
              "    </tr>\n",
              "    <tr>\n",
              "      <th>5</th>\n",
              "      <td>1983</td>\n",
              "      <td>10</td>\n",
              "      <td>0.002</td>\n",
              "      <td>340.30</td>\n",
              "      <td>1663.79</td>\n",
              "      <td>303.970</td>\n",
              "      <td>195.171</td>\n",
              "      <td>359.174</td>\n",
              "      <td>1366.0589</td>\n",
              "      <td>0.0569</td>\n",
              "      <td>0.093</td>\n",
              "    </tr>\n",
              "    <tr>\n",
              "      <th>6</th>\n",
              "      <td>1983</td>\n",
              "      <td>11</td>\n",
              "      <td>-0.176</td>\n",
              "      <td>341.53</td>\n",
              "      <td>1658.23</td>\n",
              "      <td>304.032</td>\n",
              "      <td>195.921</td>\n",
              "      <td>360.758</td>\n",
              "      <td>1366.1072</td>\n",
              "      <td>0.0524</td>\n",
              "      <td>0.232</td>\n",
              "    </tr>\n",
              "    <tr>\n",
              "      <th>7</th>\n",
              "      <td>1983</td>\n",
              "      <td>12</td>\n",
              "      <td>-0.176</td>\n",
              "      <td>343.07</td>\n",
              "      <td>1654.31</td>\n",
              "      <td>304.082</td>\n",
              "      <td>196.609</td>\n",
              "      <td>362.174</td>\n",
              "      <td>1366.0607</td>\n",
              "      <td>0.0486</td>\n",
              "      <td>0.078</td>\n",
              "    </tr>\n",
              "    <tr>\n",
              "      <th>8</th>\n",
              "      <td>1984</td>\n",
              "      <td>1</td>\n",
              "      <td>-0.339</td>\n",
              "      <td>344.05</td>\n",
              "      <td>1658.98</td>\n",
              "      <td>304.130</td>\n",
              "      <td>197.219</td>\n",
              "      <td>363.359</td>\n",
              "      <td>1365.4261</td>\n",
              "      <td>0.0451</td>\n",
              "      <td>0.089</td>\n",
              "    </tr>\n",
              "    <tr>\n",
              "      <th>9</th>\n",
              "      <td>1984</td>\n",
              "      <td>2</td>\n",
              "      <td>-0.565</td>\n",
              "      <td>344.77</td>\n",
              "      <td>1656.48</td>\n",
              "      <td>304.194</td>\n",
              "      <td>197.759</td>\n",
              "      <td>364.296</td>\n",
              "      <td>1365.6618</td>\n",
              "      <td>0.0416</td>\n",
              "      <td>0.013</td>\n",
              "    </tr>\n",
              "  </tbody>\n",
              "</table>\n",
              "</div>\n",
              "      <button class=\"colab-df-convert\" onclick=\"convertToInteractive('df-111fe8df-c70c-4b93-8538-3d696e7d17c9')\"\n",
              "              title=\"Convert this dataframe to an interactive table.\"\n",
              "              style=\"display:none;\">\n",
              "        \n",
              "  <svg xmlns=\"http://www.w3.org/2000/svg\" height=\"24px\"viewBox=\"0 0 24 24\"\n",
              "       width=\"24px\">\n",
              "    <path d=\"M0 0h24v24H0V0z\" fill=\"none\"/>\n",
              "    <path d=\"M18.56 5.44l.94 2.06.94-2.06 2.06-.94-2.06-.94-.94-2.06-.94 2.06-2.06.94zm-11 1L8.5 8.5l.94-2.06 2.06-.94-2.06-.94L8.5 2.5l-.94 2.06-2.06.94zm10 10l.94 2.06.94-2.06 2.06-.94-2.06-.94-.94-2.06-.94 2.06-2.06.94z\"/><path d=\"M17.41 7.96l-1.37-1.37c-.4-.4-.92-.59-1.43-.59-.52 0-1.04.2-1.43.59L10.3 9.45l-7.72 7.72c-.78.78-.78 2.05 0 2.83L4 21.41c.39.39.9.59 1.41.59.51 0 1.02-.2 1.41-.59l7.78-7.78 2.81-2.81c.8-.78.8-2.07 0-2.86zM5.41 20L4 18.59l7.72-7.72 1.47 1.35L5.41 20z\"/>\n",
              "  </svg>\n",
              "      </button>\n",
              "      \n",
              "  <style>\n",
              "    .colab-df-container {\n",
              "      display:flex;\n",
              "      flex-wrap:wrap;\n",
              "      gap: 12px;\n",
              "    }\n",
              "\n",
              "    .colab-df-convert {\n",
              "      background-color: #E8F0FE;\n",
              "      border: none;\n",
              "      border-radius: 50%;\n",
              "      cursor: pointer;\n",
              "      display: none;\n",
              "      fill: #1967D2;\n",
              "      height: 32px;\n",
              "      padding: 0 0 0 0;\n",
              "      width: 32px;\n",
              "    }\n",
              "\n",
              "    .colab-df-convert:hover {\n",
              "      background-color: #E2EBFA;\n",
              "      box-shadow: 0px 1px 2px rgba(60, 64, 67, 0.3), 0px 1px 3px 1px rgba(60, 64, 67, 0.15);\n",
              "      fill: #174EA6;\n",
              "    }\n",
              "\n",
              "    [theme=dark] .colab-df-convert {\n",
              "      background-color: #3B4455;\n",
              "      fill: #D2E3FC;\n",
              "    }\n",
              "\n",
              "    [theme=dark] .colab-df-convert:hover {\n",
              "      background-color: #434B5C;\n",
              "      box-shadow: 0px 1px 3px 1px rgba(0, 0, 0, 0.15);\n",
              "      filter: drop-shadow(0px 1px 2px rgba(0, 0, 0, 0.3));\n",
              "      fill: #FFFFFF;\n",
              "    }\n",
              "  </style>\n",
              "\n",
              "      <script>\n",
              "        const buttonEl =\n",
              "          document.querySelector('#df-111fe8df-c70c-4b93-8538-3d696e7d17c9 button.colab-df-convert');\n",
              "        buttonEl.style.display =\n",
              "          google.colab.kernel.accessAllowed ? 'block' : 'none';\n",
              "\n",
              "        async function convertToInteractive(key) {\n",
              "          const element = document.querySelector('#df-111fe8df-c70c-4b93-8538-3d696e7d17c9');\n",
              "          const dataTable =\n",
              "            await google.colab.kernel.invokeFunction('convertToInteractive',\n",
              "                                                     [key], {});\n",
              "          if (!dataTable) return;\n",
              "\n",
              "          const docLinkHtml = 'Like what you see? Visit the ' +\n",
              "            '<a target=\"_blank\" href=https://colab.research.google.com/notebooks/data_table.ipynb>data table notebook</a>'\n",
              "            + ' to learn more about interactive tables.';\n",
              "          element.innerHTML = '';\n",
              "          dataTable['output_type'] = 'display_data';\n",
              "          await google.colab.output.renderOutput(dataTable, element);\n",
              "          const docLink = document.createElement('div');\n",
              "          docLink.innerHTML = docLinkHtml;\n",
              "          element.appendChild(docLink);\n",
              "        }\n",
              "      </script>\n",
              "    </div>\n",
              "  </div>\n",
              "  "
            ]
          },
          "metadata": {},
          "execution_count": 2
        }
      ]
    },
    {
      "cell_type": "code",
      "source": [
        "data.shape"
      ],
      "metadata": {
        "colab": {
          "base_uri": "https://localhost:8080/"
        },
        "id": "aOmGNv0s3FvQ",
        "outputId": "63b6ded6-3176-4f9f-ce4b-76f520e1bdfd"
      },
      "execution_count": null,
      "outputs": [
        {
          "output_type": "execute_result",
          "data": {
            "text/plain": [
              "(308, 11)"
            ]
          },
          "metadata": {},
          "execution_count": 3
        }
      ]
    },
    {
      "cell_type": "code",
      "source": [
        "data.describe()"
      ],
      "metadata": {
        "colab": {
          "base_uri": "https://localhost:8080/",
          "height": 364
        },
        "id": "bIFSFJt-3K4Y",
        "outputId": "dad5a3cf-56dd-4035-9d03-30410b23b19f"
      },
      "execution_count": null,
      "outputs": [
        {
          "output_type": "execute_result",
          "data": {
            "text/plain": [
              "              Year       Month         MEI         CO2          CH4  \\\n",
              "count   308.000000  308.000000  308.000000  308.000000   308.000000   \n",
              "mean   1995.662338    6.551948    0.275555  363.226753  1749.824513   \n",
              "std       7.423197    3.447214    0.937918   12.647125    46.051678   \n",
              "min    1983.000000    1.000000   -1.635000  340.170000  1629.890000   \n",
              "25%    1989.000000    4.000000   -0.398750  353.020000  1722.182500   \n",
              "50%    1996.000000    7.000000    0.237500  361.735000  1764.040000   \n",
              "75%    2002.000000   10.000000    0.830500  373.455000  1786.885000   \n",
              "max    2008.000000   12.000000    3.001000  388.500000  1814.180000   \n",
              "\n",
              "              N2O      CFC-11      CFC-12          TSI    Aerosols        Temp  \n",
              "count  308.000000  308.000000  308.000000   308.000000  308.000000  308.000000  \n",
              "mean   312.391834  251.973068  497.524782  1366.070759    0.016657    0.256776  \n",
              "std      5.225131   20.231783   57.826899     0.399610    0.029050    0.179090  \n",
              "min    303.677000  191.324000  350.113000  1365.426100    0.001600   -0.282000  \n",
              "25%    308.111500  246.295500  472.410750  1365.717050    0.002800    0.121750  \n",
              "50%    311.507000  258.344000  528.356000  1365.980900    0.005750    0.248000  \n",
              "75%    316.979000  267.031000  540.524250  1366.363250    0.012600    0.407250  \n",
              "max    322.182000  271.494000  543.813000  1367.316200    0.149400    0.739000  "
            ],
            "text/html": [
              "\n",
              "  <div id=\"df-23c9270a-d33c-4a27-8807-5cbd17d56e10\">\n",
              "    <div class=\"colab-df-container\">\n",
              "      <div>\n",
              "<style scoped>\n",
              "    .dataframe tbody tr th:only-of-type {\n",
              "        vertical-align: middle;\n",
              "    }\n",
              "\n",
              "    .dataframe tbody tr th {\n",
              "        vertical-align: top;\n",
              "    }\n",
              "\n",
              "    .dataframe thead th {\n",
              "        text-align: right;\n",
              "    }\n",
              "</style>\n",
              "<table border=\"1\" class=\"dataframe\">\n",
              "  <thead>\n",
              "    <tr style=\"text-align: right;\">\n",
              "      <th></th>\n",
              "      <th>Year</th>\n",
              "      <th>Month</th>\n",
              "      <th>MEI</th>\n",
              "      <th>CO2</th>\n",
              "      <th>CH4</th>\n",
              "      <th>N2O</th>\n",
              "      <th>CFC-11</th>\n",
              "      <th>CFC-12</th>\n",
              "      <th>TSI</th>\n",
              "      <th>Aerosols</th>\n",
              "      <th>Temp</th>\n",
              "    </tr>\n",
              "  </thead>\n",
              "  <tbody>\n",
              "    <tr>\n",
              "      <th>count</th>\n",
              "      <td>308.000000</td>\n",
              "      <td>308.000000</td>\n",
              "      <td>308.000000</td>\n",
              "      <td>308.000000</td>\n",
              "      <td>308.000000</td>\n",
              "      <td>308.000000</td>\n",
              "      <td>308.000000</td>\n",
              "      <td>308.000000</td>\n",
              "      <td>308.000000</td>\n",
              "      <td>308.000000</td>\n",
              "      <td>308.000000</td>\n",
              "    </tr>\n",
              "    <tr>\n",
              "      <th>mean</th>\n",
              "      <td>1995.662338</td>\n",
              "      <td>6.551948</td>\n",
              "      <td>0.275555</td>\n",
              "      <td>363.226753</td>\n",
              "      <td>1749.824513</td>\n",
              "      <td>312.391834</td>\n",
              "      <td>251.973068</td>\n",
              "      <td>497.524782</td>\n",
              "      <td>1366.070759</td>\n",
              "      <td>0.016657</td>\n",
              "      <td>0.256776</td>\n",
              "    </tr>\n",
              "    <tr>\n",
              "      <th>std</th>\n",
              "      <td>7.423197</td>\n",
              "      <td>3.447214</td>\n",
              "      <td>0.937918</td>\n",
              "      <td>12.647125</td>\n",
              "      <td>46.051678</td>\n",
              "      <td>5.225131</td>\n",
              "      <td>20.231783</td>\n",
              "      <td>57.826899</td>\n",
              "      <td>0.399610</td>\n",
              "      <td>0.029050</td>\n",
              "      <td>0.179090</td>\n",
              "    </tr>\n",
              "    <tr>\n",
              "      <th>min</th>\n",
              "      <td>1983.000000</td>\n",
              "      <td>1.000000</td>\n",
              "      <td>-1.635000</td>\n",
              "      <td>340.170000</td>\n",
              "      <td>1629.890000</td>\n",
              "      <td>303.677000</td>\n",
              "      <td>191.324000</td>\n",
              "      <td>350.113000</td>\n",
              "      <td>1365.426100</td>\n",
              "      <td>0.001600</td>\n",
              "      <td>-0.282000</td>\n",
              "    </tr>\n",
              "    <tr>\n",
              "      <th>25%</th>\n",
              "      <td>1989.000000</td>\n",
              "      <td>4.000000</td>\n",
              "      <td>-0.398750</td>\n",
              "      <td>353.020000</td>\n",
              "      <td>1722.182500</td>\n",
              "      <td>308.111500</td>\n",
              "      <td>246.295500</td>\n",
              "      <td>472.410750</td>\n",
              "      <td>1365.717050</td>\n",
              "      <td>0.002800</td>\n",
              "      <td>0.121750</td>\n",
              "    </tr>\n",
              "    <tr>\n",
              "      <th>50%</th>\n",
              "      <td>1996.000000</td>\n",
              "      <td>7.000000</td>\n",
              "      <td>0.237500</td>\n",
              "      <td>361.735000</td>\n",
              "      <td>1764.040000</td>\n",
              "      <td>311.507000</td>\n",
              "      <td>258.344000</td>\n",
              "      <td>528.356000</td>\n",
              "      <td>1365.980900</td>\n",
              "      <td>0.005750</td>\n",
              "      <td>0.248000</td>\n",
              "    </tr>\n",
              "    <tr>\n",
              "      <th>75%</th>\n",
              "      <td>2002.000000</td>\n",
              "      <td>10.000000</td>\n",
              "      <td>0.830500</td>\n",
              "      <td>373.455000</td>\n",
              "      <td>1786.885000</td>\n",
              "      <td>316.979000</td>\n",
              "      <td>267.031000</td>\n",
              "      <td>540.524250</td>\n",
              "      <td>1366.363250</td>\n",
              "      <td>0.012600</td>\n",
              "      <td>0.407250</td>\n",
              "    </tr>\n",
              "    <tr>\n",
              "      <th>max</th>\n",
              "      <td>2008.000000</td>\n",
              "      <td>12.000000</td>\n",
              "      <td>3.001000</td>\n",
              "      <td>388.500000</td>\n",
              "      <td>1814.180000</td>\n",
              "      <td>322.182000</td>\n",
              "      <td>271.494000</td>\n",
              "      <td>543.813000</td>\n",
              "      <td>1367.316200</td>\n",
              "      <td>0.149400</td>\n",
              "      <td>0.739000</td>\n",
              "    </tr>\n",
              "  </tbody>\n",
              "</table>\n",
              "</div>\n",
              "      <button class=\"colab-df-convert\" onclick=\"convertToInteractive('df-23c9270a-d33c-4a27-8807-5cbd17d56e10')\"\n",
              "              title=\"Convert this dataframe to an interactive table.\"\n",
              "              style=\"display:none;\">\n",
              "        \n",
              "  <svg xmlns=\"http://www.w3.org/2000/svg\" height=\"24px\"viewBox=\"0 0 24 24\"\n",
              "       width=\"24px\">\n",
              "    <path d=\"M0 0h24v24H0V0z\" fill=\"none\"/>\n",
              "    <path d=\"M18.56 5.44l.94 2.06.94-2.06 2.06-.94-2.06-.94-.94-2.06-.94 2.06-2.06.94zm-11 1L8.5 8.5l.94-2.06 2.06-.94-2.06-.94L8.5 2.5l-.94 2.06-2.06.94zm10 10l.94 2.06.94-2.06 2.06-.94-2.06-.94-.94-2.06-.94 2.06-2.06.94z\"/><path d=\"M17.41 7.96l-1.37-1.37c-.4-.4-.92-.59-1.43-.59-.52 0-1.04.2-1.43.59L10.3 9.45l-7.72 7.72c-.78.78-.78 2.05 0 2.83L4 21.41c.39.39.9.59 1.41.59.51 0 1.02-.2 1.41-.59l7.78-7.78 2.81-2.81c.8-.78.8-2.07 0-2.86zM5.41 20L4 18.59l7.72-7.72 1.47 1.35L5.41 20z\"/>\n",
              "  </svg>\n",
              "      </button>\n",
              "      \n",
              "  <style>\n",
              "    .colab-df-container {\n",
              "      display:flex;\n",
              "      flex-wrap:wrap;\n",
              "      gap: 12px;\n",
              "    }\n",
              "\n",
              "    .colab-df-convert {\n",
              "      background-color: #E8F0FE;\n",
              "      border: none;\n",
              "      border-radius: 50%;\n",
              "      cursor: pointer;\n",
              "      display: none;\n",
              "      fill: #1967D2;\n",
              "      height: 32px;\n",
              "      padding: 0 0 0 0;\n",
              "      width: 32px;\n",
              "    }\n",
              "\n",
              "    .colab-df-convert:hover {\n",
              "      background-color: #E2EBFA;\n",
              "      box-shadow: 0px 1px 2px rgba(60, 64, 67, 0.3), 0px 1px 3px 1px rgba(60, 64, 67, 0.15);\n",
              "      fill: #174EA6;\n",
              "    }\n",
              "\n",
              "    [theme=dark] .colab-df-convert {\n",
              "      background-color: #3B4455;\n",
              "      fill: #D2E3FC;\n",
              "    }\n",
              "\n",
              "    [theme=dark] .colab-df-convert:hover {\n",
              "      background-color: #434B5C;\n",
              "      box-shadow: 0px 1px 3px 1px rgba(0, 0, 0, 0.15);\n",
              "      filter: drop-shadow(0px 1px 2px rgba(0, 0, 0, 0.3));\n",
              "      fill: #FFFFFF;\n",
              "    }\n",
              "  </style>\n",
              "\n",
              "      <script>\n",
              "        const buttonEl =\n",
              "          document.querySelector('#df-23c9270a-d33c-4a27-8807-5cbd17d56e10 button.colab-df-convert');\n",
              "        buttonEl.style.display =\n",
              "          google.colab.kernel.accessAllowed ? 'block' : 'none';\n",
              "\n",
              "        async function convertToInteractive(key) {\n",
              "          const element = document.querySelector('#df-23c9270a-d33c-4a27-8807-5cbd17d56e10');\n",
              "          const dataTable =\n",
              "            await google.colab.kernel.invokeFunction('convertToInteractive',\n",
              "                                                     [key], {});\n",
              "          if (!dataTable) return;\n",
              "\n",
              "          const docLinkHtml = 'Like what you see? Visit the ' +\n",
              "            '<a target=\"_blank\" href=https://colab.research.google.com/notebooks/data_table.ipynb>data table notebook</a>'\n",
              "            + ' to learn more about interactive tables.';\n",
              "          element.innerHTML = '';\n",
              "          dataTable['output_type'] = 'display_data';\n",
              "          await google.colab.output.renderOutput(dataTable, element);\n",
              "          const docLink = document.createElement('div');\n",
              "          docLink.innerHTML = docLinkHtml;\n",
              "          element.appendChild(docLink);\n",
              "        }\n",
              "      </script>\n",
              "    </div>\n",
              "  </div>\n",
              "  "
            ]
          },
          "metadata": {},
          "execution_count": 4
        }
      ]
    },
    {
      "cell_type": "code",
      "source": [
        "sns.catplot(x = \"Aerosols\", data = data, kind = 'box')"
      ],
      "metadata": {
        "colab": {
          "base_uri": "https://localhost:8080/",
          "height": 386
        },
        "id": "P17RyAUu5MqU",
        "outputId": "8af7a092-8a2b-4940-986c-2dfeee8bca62"
      },
      "execution_count": null,
      "outputs": [
        {
          "output_type": "execute_result",
          "data": {
            "text/plain": [
              "<seaborn.axisgrid.FacetGrid at 0x7ffa86a55b10>"
            ]
          },
          "metadata": {},
          "execution_count": 5
        },
        {
          "output_type": "display_data",
          "data": {
            "text/plain": [
              "<Figure size 360x360 with 1 Axes>"
            ],
            "image/png": "[encoded data removed]"
          },
          "metadata": {
            "needs_background": "light"
          }
        }
      ]
    },
    {
      "cell_type": "code",
      "source": [
        "sns.catplot(x = \"TSI\", data = data, kind = 'box')"
      ],
      "metadata": {
        "colab": {
          "base_uri": "https://localhost:8080/",
          "height": 386
        },
        "id": "8R4rpfrE5_4c",
        "outputId": "ff02c7eb-6520-4fd2-f6fc-22531abaaed3"
      },
      "execution_count": null,
      "outputs": [
        {
          "output_type": "execute_result",
          "data": {
            "text/plain": [
              "<seaborn.axisgrid.FacetGrid at 0x7ffa84150910>"
            ]
          },
          "metadata": {},
          "execution_count": 6
        },
        {
          "output_type": "display_data",
          "data": {
            "text/plain": [
              "<Figure size 360x360 with 1 Axes>"
            ],
            "image/png": "[encoded data removed]"
          },
          "metadata": {
            "needs_background": "light"
          }
        }
      ]
    },
    {
      "cell_type": "code",
      "source": [
        "sns.relplot(y = \"TSI\", x = \"Temp\", data = data)"
      ],
      "metadata": {
        "colab": {
          "base_uri": "https://localhost:8080/",
          "height": 386
        },
        "id": "oROeL2iB4C6T",
        "outputId": "8eeb260e-c8dc-4512-e15f-bcd75455d5f6"
      },
      "execution_count": null,
      "outputs": [
        {
          "output_type": "execute_result",
          "data": {
            "text/plain": [
              "<seaborn.axisgrid.FacetGrid at 0x7ffa83c72f10>"
            ]
          },
          "metadata": {},
          "execution_count": 7
        },
        {
          "output_type": "display_data",
          "data": {
            "text/plain": [
              "<Figure size 360x360 with 1 Axes>"
            ],
            "image/png": "[encoded data removed]"
          },
          "metadata": {
            "needs_background": "light"
          }
        }
      ]
    },
    {
      "cell_type": "code",
      "source": [
        "c = data.corr()\n",
        "sns.heatmap(c, cmap = 'BrBG', annot = True)"
      ],
      "metadata": {
        "colab": {
          "base_uri": "https://localhost:8080/",
          "height": 318
        },
        "id": "8J-HHi6c58aF",
        "outputId": "52e0a5c6-13ee-467f-c791-dbec76976e06"
      },
      "execution_count": null,
      "outputs": [
        {
          "output_type": "execute_result",
          "data": {
            "text/plain": [
              "<matplotlib.axes._subplots.AxesSubplot at 0x7ffa83bcdc10>"
            ]
          },
          "metadata": {},
          "execution_count": 8
        },
        {
          "output_type": "display_data",
          "data": {
            "text/plain": [
              "<Figure size 432x288 with 2 Axes>"
            ],
            "image/png": "[encoded data removed]"
          },
          "metadata": {
            "needs_background": "light"
          }
        }
      ]
    },
    {
      "cell_type": "code",
      "source": [
        "sns.distplot(data['CH4'],bins = 20)"
      ],
      "metadata": {
        "id": "oNlBch2v7lcz",
        "colab": {
          "base_uri": "https://localhost:8080/",
          "height": 354
        },
        "outputId": "875118b5-e77e-4562-e542-4cffbbe9430c"
      },
      "execution_count": null,
      "outputs": [
        {
          "output_type": "stream",
          "name": "stderr",
          "text": [
            "/usr/local/lib/python3.7/dist-packages/seaborn/distributions.py:2619: FutureWarning: `distplot` is a deprecated function and will be removed in a future version. Please adapt your code to use either `displot` (a figure-level function with similar flexibility) or `histplot` (an axes-level function for histograms).\n",
            "  warnings.warn(msg, FutureWarning)\n"
          ]
        },
        {
          "output_type": "execute_result",
          "data": {
            "text/plain": [
              "<matplotlib.axes._subplots.AxesSubplot at 0x7ffa839a47d0>"
            ]
          },
          "metadata": {},
          "execution_count": 9
        },
        {
          "output_type": "display_data",
          "data": {
            "text/plain": [
              "<Figure size 432x288 with 1 Axes>"
            ],
            "image/png": "[encoded data removed]"
          },
          "metadata": {
            "needs_background": "light"
          }
        }
      ]
    },
    {
      "cell_type": "code",
      "source": [
        "sns.distplot(data['N2O'],bins = 20)\n"
      ],
      "metadata": {
        "colab": {
          "base_uri": "https://localhost:8080/",
          "height": 351
        },
        "id": "qmN68nbh-apD",
        "outputId": "26c6072b-b754-4b16-a0bc-bd84601bafad"
      },
      "execution_count": null,
      "outputs": [
        {
          "output_type": "stream",
          "name": "stderr",
          "text": [
            "/usr/local/lib/python3.7/dist-packages/seaborn/distributions.py:2619: FutureWarning: `distplot` is a deprecated function and will be removed in a future version. Please adapt your code to use either `displot` (a figure-level function with similar flexibility) or `histplot` (an axes-level function for histograms).\n",
            "  warnings.warn(msg, FutureWarning)\n"
          ]
        },
        {
          "output_type": "execute_result",
          "data": {
            "text/plain": [
              "<matplotlib.axes._subplots.AxesSubplot at 0x7ffa839bd290>"
            ]
          },
          "metadata": {},
          "execution_count": 10
        },
        {
          "output_type": "display_data",
          "data": {
            "text/plain": [
              "<Figure size 432x288 with 1 Axes>"
            ],
            "image/png": "[encoded data removed]"
          },
          "metadata": {
            "needs_background": "light"
          }
        }
      ]
    },
    {
      "cell_type": "code",
      "source": [
        "\n",
        "#finding inter quartile range (IQR) to remove outliers (can also be done using Z score)\n",
        "Q1 = data.quantile(0.25)\n",
        "Q3 = data.quantile(0.75)\n",
        "IQR = Q3 - Q1\n",
        "data = data[~((data < (Q1 - 1.5 * IQR)) |(data > (Q3 + 1.5 * IQR))).any(axis=1)]\n",
        "print(IQR)"
      ],
      "metadata": {
        "colab": {
          "base_uri": "https://localhost:8080/"
        },
        "id": "5Wuq9sFRBmEO",
        "outputId": "9d04bf30-0cdb-4f34-f79b-d0d38a49d77e"
      },
      "execution_count": null,
      "outputs": [
        {
          "output_type": "stream",
          "name": "stdout",
          "text": [
            "Year        13.00000\n",
            "Month        6.00000\n",
            "MEI          1.22925\n",
            "CO2         20.43500\n",
            "CH4         64.70250\n",
            "N2O          8.86750\n",
            "CFC-11      20.73550\n",
            "CFC-12      68.11350\n",
            "TSI          0.64620\n",
            "Aerosols     0.00980\n",
            "Temp         0.28550\n",
            "dtype: float64\n"
          ]
        }
      ]
    },
    {
      "cell_type": "code",
      "source": [
        "n = len(data)\n",
        "print(n)"
      ],
      "metadata": {
        "colab": {
          "base_uri": "https://localhost:8080/"
        },
        "id": "kyojpJDEJgSs",
        "outputId": "1491ea77-f113-4d73-cfdd-c10a96ebcf71"
      },
      "execution_count": null,
      "outputs": [
        {
          "output_type": "stream",
          "name": "stdout",
          "text": [
            "243\n"
          ]
        }
      ]
    },
    {
      "cell_type": "code",
      "source": [
        "df1 = data[ data.iloc[:,0]<=2006]  \n",
        "import math\n",
        "# df1 = data[0:math.floor(0.67*n)]  \n",
        "df1.head()"
      ],
      "metadata": {
        "colab": {
          "base_uri": "https://localhost:8080/",
          "height": 206
        },
        "id": "MjC3XcXy5OV1",
        "outputId": "58281d55-4b47-4812-c22a-8b4f44250c73"
      },
      "execution_count": null,
      "outputs": [
        {
          "output_type": "execute_result",
          "data": {
            "text/plain": [
              "    Year  Month    MEI     CO2      CH4      N2O   CFC-11   CFC-12        TSI  \\\n",
              "29  1985     10 -0.140  343.08  1681.56  305.395  215.327  390.676  1365.5269   \n",
              "30  1985     11 -0.050  344.40  1680.68  305.530  216.282  392.714  1365.6289   \n",
              "31  1985     12 -0.293  345.82  1677.99  305.653  217.326  394.539  1365.6794   \n",
              "32  1986      1 -0.307  346.54  1675.82  305.775  218.382  396.082  1365.6746   \n",
              "33  1986      2 -0.191  347.13  1666.83  305.911  219.379  397.345  1365.5475   \n",
              "\n",
              "    Aerosols   Temp  \n",
              "29    0.0101 -0.008  \n",
              "30    0.0097 -0.093  \n",
              "31    0.0122 -0.002  \n",
              "32    0.0146  0.121  \n",
              "33    0.0158  0.065  "
            ],
            "text/html": [
              "\n",
              "  <div id=\"df-be0123cc-1d8e-4716-8533-649210ff1789\">\n",
              "    <div class=\"colab-df-container\">\n",
              "      <div>\n",
              "<style scoped>\n",
              "    .dataframe tbody tr th:only-of-type {\n",
              "        vertical-align: middle;\n",
              "    }\n",
              "\n",
              "    .dataframe tbody tr th {\n",
              "        vertical-align: top;\n",
              "    }\n",
              "\n",
              "    .dataframe thead th {\n",
              "        text-align: right;\n",
              "    }\n",
              "</style>\n",
              "<table border=\"1\" class=\"dataframe\">\n",
              "  <thead>\n",
              "    <tr style=\"text-align: right;\">\n",
              "      <th></th>\n",
              "      <th>Year</th>\n",
              "      <th>Month</th>\n",
              "      <th>MEI</th>\n",
              "      <th>CO2</th>\n",
              "      <th>CH4</th>\n",
              "      <th>N2O</th>\n",
              "      <th>CFC-11</th>\n",
              "      <th>CFC-12</th>\n",
              "      <th>TSI</th>\n",
              "      <th>Aerosols</th>\n",
              "      <th>Temp</th>\n",
              "    </tr>\n",
              "  </thead>\n",
              "  <tbody>\n",
              "    <tr>\n",
              "      <th>29</th>\n",
              "      <td>1985</td>\n",
              "      <td>10</td>\n",
              "      <td>-0.140</td>\n",
              "      <td>343.08</td>\n",
              "      <td>1681.56</td>\n",
              "      <td>305.395</td>\n",
              "      <td>215.327</td>\n",
              "      <td>390.676</td>\n",
              "      <td>1365.5269</td>\n",
              "      <td>0.0101</td>\n",
              "      <td>-0.008</td>\n",
              "    </tr>\n",
              "    <tr>\n",
              "      <th>30</th>\n",
              "      <td>1985</td>\n",
              "      <td>11</td>\n",
              "      <td>-0.050</td>\n",
              "      <td>344.40</td>\n",
              "      <td>1680.68</td>\n",
              "      <td>305.530</td>\n",
              "      <td>216.282</td>\n",
              "      <td>392.714</td>\n",
              "      <td>1365.6289</td>\n",
              "      <td>0.0097</td>\n",
              "      <td>-0.093</td>\n",
              "    </tr>\n",
              "    <tr>\n",
              "      <th>31</th>\n",
              "      <td>1985</td>\n",
              "      <td>12</td>\n",
              "      <td>-0.293</td>\n",
              "      <td>345.82</td>\n",
              "      <td>1677.99</td>\n",
              "      <td>305.653</td>\n",
              "      <td>217.326</td>\n",
              "      <td>394.539</td>\n",
              "      <td>1365.6794</td>\n",
              "      <td>0.0122</td>\n",
              "      <td>-0.002</td>\n",
              "    </tr>\n",
              "    <tr>\n",
              "      <th>32</th>\n",
              "      <td>1986</td>\n",
              "      <td>1</td>\n",
              "      <td>-0.307</td>\n",
              "      <td>346.54</td>\n",
              "      <td>1675.82</td>\n",
              "      <td>305.775</td>\n",
              "      <td>218.382</td>\n",
              "      <td>396.082</td>\n",
              "      <td>1365.6746</td>\n",
              "      <td>0.0146</td>\n",
              "      <td>0.121</td>\n",
              "    </tr>\n",
              "    <tr>\n",
              "      <th>33</th>\n",
              "      <td>1986</td>\n",
              "      <td>2</td>\n",
              "      <td>-0.191</td>\n",
              "      <td>347.13</td>\n",
              "      <td>1666.83</td>\n",
              "      <td>305.911</td>\n",
              "      <td>219.379</td>\n",
              "      <td>397.345</td>\n",
              "      <td>1365.5475</td>\n",
              "      <td>0.0158</td>\n",
              "      <td>0.065</td>\n",
              "    </tr>\n",
              "  </tbody>\n",
              "</table>\n",
              "</div>\n",
              "      <button class=\"colab-df-convert\" onclick=\"convertToInteractive('df-be0123cc-1d8e-4716-8533-649210ff1789')\"\n",
              "              title=\"Convert this dataframe to an interactive table.\"\n",
              "              style=\"display:none;\">\n",
              "        \n",
              "  <svg xmlns=\"http://www.w3.org/2000/svg\" height=\"24px\"viewBox=\"0 0 24 24\"\n",
              "       width=\"24px\">\n",
              "    <path d=\"M0 0h24v24H0V0z\" fill=\"none\"/>\n",
              "    <path d=\"M18.56 5.44l.94 2.06.94-2.06 2.06-.94-2.06-.94-.94-2.06-.94 2.06-2.06.94zm-11 1L8.5 8.5l.94-2.06 2.06-.94-2.06-.94L8.5 2.5l-.94 2.06-2.06.94zm10 10l.94 2.06.94-2.06 2.06-.94-2.06-.94-.94-2.06-.94 2.06-2.06.94z\"/><path d=\"M17.41 7.96l-1.37-1.37c-.4-.4-.92-.59-1.43-.59-.52 0-1.04.2-1.43.59L10.3 9.45l-7.72 7.72c-.78.78-.78 2.05 0 2.83L4 21.41c.39.39.9.59 1.41.59.51 0 1.02-.2 1.41-.59l7.78-7.78 2.81-2.81c.8-.78.8-2.07 0-2.86zM5.41 20L4 18.59l7.72-7.72 1.47 1.35L5.41 20z\"/>\n",
              "  </svg>\n",
              "      </button>\n",
              "      \n",
              "  <style>\n",
              "    .colab-df-container {\n",
              "      display:flex;\n",
              "      flex-wrap:wrap;\n",
              "      gap: 12px;\n",
              "    }\n",
              "\n",
              "    .colab-df-convert {\n",
              "      background-color: #E8F0FE;\n",
              "      border: none;\n",
              "      border-radius: 50%;\n",
              "      cursor: pointer;\n",
              "      display: none;\n",
              "      fill: #1967D2;\n",
              "      height: 32px;\n",
              "      padding: 0 0 0 0;\n",
              "      width: 32px;\n",
              "    }\n",
              "\n",
              "    .colab-df-convert:hover {\n",
              "      background-color: #E2EBFA;\n",
              "      box-shadow: 0px 1px 2px rgba(60, 64, 67, 0.3), 0px 1px 3px 1px rgba(60, 64, 67, 0.15);\n",
              "      fill: #174EA6;\n",
              "    }\n",
              "\n",
              "    [theme=dark] .colab-df-convert {\n",
              "      background-color: #3B4455;\n",
              "      fill: #D2E3FC;\n",
              "    }\n",
              "\n",
              "    [theme=dark] .colab-df-convert:hover {\n",
              "      background-color: #434B5C;\n",
              "      box-shadow: 0px 1px 3px 1px rgba(0, 0, 0, 0.15);\n",
              "      filter: drop-shadow(0px 1px 2px rgba(0, 0, 0, 0.3));\n",
              "      fill: #FFFFFF;\n",
              "    }\n",
              "  </style>\n",
              "\n",
              "      <script>\n",
              "        const buttonEl =\n",
              "          document.querySelector('#df-be0123cc-1d8e-4716-8533-649210ff1789 button.colab-df-convert');\n",
              "        buttonEl.style.display =\n",
              "          google.colab.kernel.accessAllowed ? 'block' : 'none';\n",
              "\n",
              "        async function convertToInteractive(key) {\n",
              "          const element = document.querySelector('#df-be0123cc-1d8e-4716-8533-649210ff1789');\n",
              "          const dataTable =\n",
              "            await google.colab.kernel.invokeFunction('convertToInteractive',\n",
              "                                                     [key], {});\n",
              "          if (!dataTable) return;\n",
              "\n",
              "          const docLinkHtml = 'Like what you see? Visit the ' +\n",
              "            '<a target=\"_blank\" href=https://colab.research.google.com/notebooks/data_table.ipynb>data table notebook</a>'\n",
              "            + ' to learn more about interactive tables.';\n",
              "          element.innerHTML = '';\n",
              "          dataTable['output_type'] = 'display_data';\n",
              "          await google.colab.output.renderOutput(dataTable, element);\n",
              "          const docLink = document.createElement('div');\n",
              "          docLink.innerHTML = docLinkHtml;\n",
              "          element.appendChild(docLink);\n",
              "        }\n",
              "      </script>\n",
              "    </div>\n",
              "  </div>\n",
              "  "
            ]
          },
          "metadata": {},
          "execution_count": 13
        }
      ]
    },
    {
      "cell_type": "code",
      "source": [
        "df1.shape"
      ],
      "metadata": {
        "colab": {
          "base_uri": "https://localhost:8080/"
        },
        "id": "MpxO2tX6B8ez",
        "outputId": "fadbc36b-7a97-4006-802e-b91f909a08f8"
      },
      "execution_count": null,
      "outputs": [
        {
          "output_type": "execute_result",
          "data": {
            "text/plain": [
              "(219, 11)"
            ]
          },
          "metadata": {},
          "execution_count": 14
        }
      ]
    },
    {
      "cell_type": "code",
      "source": [
        "# df1 = data[0:math.floor(0.33*n)]  \n",
        "df2 = data[ data.iloc[:,0]>2006]\n",
        "df2.shape"
      ],
      "metadata": {
        "colab": {
          "base_uri": "https://localhost:8080/"
        },
        "id": "2T6tVCJt81Wq",
        "outputId": "2d2d21c3-2d4d-4dcb-9c29-105e135417fd"
      },
      "execution_count": null,
      "outputs": [
        {
          "output_type": "execute_result",
          "data": {
            "text/plain": [
              "(24, 11)"
            ]
          },
          "metadata": {},
          "execution_count": 15
        }
      ]
    },
    {
      "cell_type": "code",
      "source": [
        "x = np.array(df1[\"Year\"])\n",
        "y = np.array(df1[\"Temp\"])\n",
        "n = np.size(x)\n",
        " \n",
        "# mean of x and y vector\n",
        "m_x = np.nanmean(x)\n",
        "m_y = np.nanmean(y)\n",
        "\n",
        "# calculating cross-deviation and deviation about x\n",
        "SS_xy = np.nansum(y*x) - n*m_y*m_x\n",
        "SS_xx = np.nansum(x*x) - n*m_x*m_x\n",
        " \n",
        "# calculating regression coefficients\n",
        "b_1 = SS_xy / SS_xx\n",
        "b_0 = m_y - b_1*m_x\n",
        "print(\"b1 = \" + str(b_1) + \" b0 = \" + str(b_0))"
      ],
      "metadata": {
        "id": "1Hxg-h4dCbgl",
        "colab": {
          "base_uri": "https://localhost:8080/"
        },
        "outputId": "3d7d7ac5-c42f-412e-c043-8302d513f2c8"
      },
      "execution_count": null,
      "outputs": [
        {
          "output_type": "stream",
          "name": "stdout",
          "text": [
            "b1 = 0.019320119913043932 b0 = -38.27689692229592\n"
          ]
        }
      ]
    },
    {
      "cell_type": "code",
      "source": [
        "plt.scatter(x, y, color = \"m\",marker = \"o\", s = 10)\n",
        "y_pred = b_0 + b_1*x\n",
        "plt.plot(x, y_pred, color = \"g\")"
      ],
      "metadata": {
        "colab": {
          "base_uri": "https://localhost:8080/",
          "height": 282
        },
        "id": "whroMxlJ43Mm",
        "outputId": "45459b1b-e082-44ce-8e73-ce71ea65d879"
      },
      "execution_count": null,
      "outputs": [
        {
          "output_type": "execute_result",
          "data": {
            "text/plain": [
              "[<matplotlib.lines.Line2D at 0x7ffa7ffcee90>]"
            ]
          },
          "metadata": {},
          "execution_count": 17
        },
        {
          "output_type": "display_data",
          "data": {
            "text/plain": [
              "<Figure size 432x288 with 1 Axes>"
            ],
            "image/png": "[encoded data removed]"
          },
          "metadata": {
            "needs_background": "light"
          }
        }
      ]
    },
    {
      "cell_type": "code",
      "source": [
        "r = r2_score(y, y_pred)\n",
        "print(\"The R-squared value is: \")\n",
        "print(r)"
      ],
      "metadata": {
        "colab": {
          "base_uri": "https://localhost:8080/"
        },
        "id": "-649boVn45lK",
        "outputId": "0cf6b1ce-8a8e-4525-998c-5e6d940dd751"
      },
      "execution_count": null,
      "outputs": [
        {
          "output_type": "stream",
          "name": "stdout",
          "text": [
            "The R-squared value is: \n",
            "0.5998241256298624\n"
          ]
        }
      ]
    },
    {
      "cell_type": "code",
      "source": [
        "x = np.array(df1[\"MEI\"])\n",
        "y = np.array(df1[\"Temp\"])\n",
        "n = np.size(x)\n",
        " \n",
        "# mean of x and y vector\n",
        "m_x = np.nanmean(x)\n",
        "m_y = np.nanmean(y)\n",
        "\n",
        "# calculating cross-deviation and deviation about x\n",
        "SS_xy = np.nansum(y*x) - n*m_y*m_x\n",
        "SS_xx = np.nansum(x*x) - n*m_x*m_x\n",
        " \n",
        "# calculating regression coefficients\n",
        "b_1 = SS_xy / SS_xx\n",
        "b_0 = m_y - b_1*m_x\n",
        "print(\"b1 = \" + str(b_1) + \" b0 = \" + str(b_0))"
      ],
      "metadata": {
        "colab": {
          "base_uri": "https://localhost:8080/"
        },
        "id": "nJ0yibHV6Jp5",
        "outputId": "666d0cda-9abd-485b-f56c-447b787ccf41"
      },
      "execution_count": null,
      "outputs": [
        {
          "output_type": "stream",
          "name": "stdout",
          "text": [
            "b1 = 0.03767944623406098 b0 = 0.28486183782595254\n"
          ]
        }
      ]
    },
    {
      "cell_type": "code",
      "source": [
        "plt.scatter(x, y, color = \"m\",marker = \"o\", s = 10)\n",
        "y_pred = b_0 + b_1*x\n",
        "plt.plot(x, y_pred, color = \"g\")"
      ],
      "metadata": {
        "colab": {
          "base_uri": "https://localhost:8080/",
          "height": 282
        },
        "id": "URmM2RYdCSgO",
        "outputId": "adf46585-912e-495b-d840-b268a1fd84b3"
      },
      "execution_count": null,
      "outputs": [
        {
          "output_type": "execute_result",
          "data": {
            "text/plain": [
              "[<matplotlib.lines.Line2D at 0x7ffa7ff42750>]"
            ]
          },
          "metadata": {},
          "execution_count": 20
        },
        {
          "output_type": "display_data",
          "data": {
            "text/plain": [
              "<Figure size 432x288 with 1 Axes>"
            ],
            "image/png": "[encoded data removed]"
          },
          "metadata": {
            "needs_background": "light"
          }
        }
      ]
    },
    {
      "cell_type": "code",
      "source": [
        "r = r2_score(y, y_pred)\n",
        "print(\"The R-squared value is: \")\n",
        "print(r)"
      ],
      "metadata": {
        "colab": {
          "base_uri": "https://localhost:8080/"
        },
        "id": "xnWXjdR_CZlh",
        "outputId": "389a66e6-bf42-494a-9769-59e5c97584a2"
      },
      "execution_count": null,
      "outputs": [
        {
          "output_type": "stream",
          "name": "stdout",
          "text": [
            "The R-squared value is: \n",
            "0.03991166620773612\n"
          ]
        }
      ]
    },
    {
      "cell_type": "code",
      "source": [
        "x = np.array(df1[\"CO2\"])\n",
        "y = np.array(df1[\"Temp\"])\n",
        "n = np.size(x)\n",
        " \n",
        "# mean of x and y vector\n",
        "m_x = np.nanmean(x)\n",
        "m_y = np.nanmean(y)\n",
        "\n",
        "# calculating cross-deviation and deviation about x\n",
        "SS_xy = np.nansum(y*x) - n*m_y*m_x\n",
        "SS_xx = np.nansum(x*x) - n*m_x*m_x\n",
        " \n",
        "# calculating regression coefficients\n",
        "b_1 = SS_xy / SS_xx\n",
        "b_0 = m_y - b_1*m_x\n",
        "print(\"b1 = \" + str(b_1) + \" b0 = \" + str(b_0))"
      ],
      "metadata": {
        "colab": {
          "base_uri": "https://localhost:8080/"
        },
        "id": "Z0VEhR5CCcyN",
        "outputId": "6e90c853-3aa4-491b-ea85-05fccf63c631"
      },
      "execution_count": null,
      "outputs": [
        {
          "output_type": "stream",
          "name": "stdout",
          "text": [
            "b1 = 0.011412431626899214 b0 = -3.8647697327329276\n"
          ]
        }
      ]
    },
    {
      "cell_type": "code",
      "source": [
        "plt.scatter(x, y, color = \"m\",marker = \"o\", s = 10)\n",
        "y_pred = b_0 + b_1*x\n",
        "plt.plot(x, y_pred, color = \"g\")"
      ],
      "metadata": {
        "colab": {
          "base_uri": "https://localhost:8080/",
          "height": 282
        },
        "id": "KuvMtYriCiQf",
        "outputId": "59ad4d5d-963b-4c5a-c5d9-2ceca878503b"
      },
      "execution_count": null,
      "outputs": [
        {
          "output_type": "execute_result",
          "data": {
            "text/plain": [
              "[<matplotlib.lines.Line2D at 0x7ffa7fead9d0>]"
            ]
          },
          "metadata": {},
          "execution_count": 23
        },
        {
          "output_type": "display_data",
          "data": {
            "text/plain": [
              "<Figure size 432x288 with 1 Axes>"
            ],
            "image/png": "[encoded data removed]"
          },
          "metadata": {
            "needs_background": "light"
          }
        }
      ]
    },
    {
      "cell_type": "code",
      "source": [
        "r = r2_score(y, y_pred)\n",
        "print(\"The R-squared value is: \")\n",
        "print(r)"
      ],
      "metadata": {
        "colab": {
          "base_uri": "https://localhost:8080/"
        },
        "id": "yvhDYhZRCkzA",
        "outputId": "52b7b952-9998-439d-de5a-e17b683e7e92"
      },
      "execution_count": null,
      "outputs": [
        {
          "output_type": "stream",
          "name": "stdout",
          "text": [
            "The R-squared value is: \n",
            "0.5952953189552133\n"
          ]
        }
      ]
    },
    {
      "cell_type": "code",
      "source": [
        "x = np.array(df1[\"CH4\"])\n",
        "y = np.array(df1[\"Temp\"])\n",
        "n = np.size(x)\n",
        " \n",
        "# mean of x and y vector\n",
        "m_x = np.nanmean(x)\n",
        "m_y = np.nanmean(y)\n",
        "\n",
        "# calculating cross-deviation and deviation about x\n",
        "SS_xy = np.nansum(y*x) - n*m_y*m_x\n",
        "SS_xx = np.nansum(x*x) - n*m_x*m_x\n",
        " \n",
        "# calculating regression coefficients\n",
        "b_1 = SS_xy / SS_xx\n",
        "b_0 = m_y - b_1*m_x\n",
        "print(\"b1 = \" + str(b_1) + \" b0 = \" + str(b_0))"
      ],
      "metadata": {
        "colab": {
          "base_uri": "https://localhost:8080/"
        },
        "id": "v4eQfc4CCla2",
        "outputId": "9bbaf7ba-6fcf-4e68-f333-7e52a2873fde"
      },
      "execution_count": null,
      "outputs": [
        {
          "output_type": "stream",
          "name": "stdout",
          "text": [
            "b1 = 0.002965333307539993 b0 = -4.918226367580401\n"
          ]
        }
      ]
    },
    {
      "cell_type": "code",
      "source": [
        "plt.scatter(x, y, color = \"m\",marker = \"o\", s = 10)\n",
        "y_pred = b_0 + b_1*x\n",
        "plt.plot(x, y_pred, color = \"g\")"
      ],
      "metadata": {
        "colab": {
          "base_uri": "https://localhost:8080/",
          "height": 282
        },
        "id": "dH6jET4qCtmD",
        "outputId": "814dfb48-9f3d-4af9-f0dc-21ceeaba73e4"
      },
      "execution_count": null,
      "outputs": [
        {
          "output_type": "execute_result",
          "data": {
            "text/plain": [
              "[<matplotlib.lines.Line2D at 0x7ffa7fe30290>]"
            ]
          },
          "metadata": {},
          "execution_count": 26
        },
        {
          "output_type": "display_data",
          "data": {
            "text/plain": [
              "<Figure size 432x288 with 1 Axes>"
            ],
            "image/png": "[encoded data removed]"
          },
          "metadata": {
            "needs_background": "light"
          }
        }
      ]
    },
    {
      "cell_type": "code",
      "source": [
        "r = r2_score(y, y_pred)\n",
        "print(\"The R-squared value is: \")\n",
        "print(r)"
      ],
      "metadata": {
        "colab": {
          "base_uri": "https://localhost:8080/"
        },
        "id": "fzi3QgWqD6fG",
        "outputId": "026268bd-22e4-451e-daa0-c07461efabd4"
      },
      "execution_count": null,
      "outputs": [
        {
          "output_type": "stream",
          "name": "stdout",
          "text": [
            "The R-squared value is: \n",
            "0.4885937583065536\n"
          ]
        }
      ]
    },
    {
      "cell_type": "markdown",
      "source": [
        "#Multiple Linear Regression\n"
      ],
      "metadata": {
        "id": "dLwldhadD9J5"
      }
    },
    {
      "cell_type": "markdown",
      "source": [
        "##Train\n"
      ],
      "metadata": {
        "id": "pMMtfFfrEC9q"
      }
    },
    {
      "cell_type": "code",
      "source": [
        "x = data[['MEI','CO2','CH4','N2O','CFC-11','CFC-12','TSI','Aerosols']]\n",
        "y = data['Temp']\n",
        "data"
      ],
      "metadata": {
        "id": "Dc0uVuMoD7hW",
        "colab": {
          "base_uri": "https://localhost:8080/",
          "height": 424
        },
        "outputId": "937896af-798a-40af-ee0b-1fea0259875d"
      },
      "execution_count": null,
      "outputs": [
        {
          "output_type": "execute_result",
          "data": {
            "text/plain": [
              "     Year  Month    MEI     CO2      CH4      N2O   CFC-11   CFC-12  \\\n",
              "29   1985     10 -0.140  343.08  1681.56  305.395  215.327  390.676   \n",
              "30   1985     11 -0.050  344.40  1680.68  305.530  216.282  392.714   \n",
              "31   1985     12 -0.293  345.82  1677.99  305.653  217.326  394.539   \n",
              "32   1986      1 -0.307  346.54  1675.82  305.775  218.382  396.082   \n",
              "33   1986      2 -0.191  347.13  1666.83  305.911  219.379  397.345   \n",
              "..    ...    ...    ...     ...      ...      ...      ...      ...   \n",
              "303  2008      8 -0.266  384.15  1779.88  321.405  244.200  535.072   \n",
              "304  2008      9 -0.643  383.09  1795.08  321.529  244.083  535.048   \n",
              "305  2008     10 -0.780  382.99  1814.18  321.796  244.080  534.927   \n",
              "306  2008     11 -0.621  384.13  1812.37  322.013  244.225  534.906   \n",
              "307  2008     12 -0.666  385.56  1812.88  322.182  244.204  535.005   \n",
              "\n",
              "           TSI  Aerosols   Temp  \n",
              "29   1365.5269    0.0101 -0.008  \n",
              "30   1365.6289    0.0097 -0.093  \n",
              "31   1365.6794    0.0122 -0.002  \n",
              "32   1365.6746    0.0146  0.121  \n",
              "33   1365.5475    0.0158  0.065  \n",
              "..         ...       ...    ...  \n",
              "303  1365.6570    0.0036  0.407  \n",
              "304  1365.6647    0.0043  0.378  \n",
              "305  1365.6759    0.0046  0.440  \n",
              "306  1365.7065    0.0048  0.394  \n",
              "307  1365.6926    0.0046  0.330  \n",
              "\n",
              "[243 rows x 11 columns]"
            ],
            "text/html": [
              "\n",
              "  <div id=\"df-044bc557-3426-4411-813c-9d94b37daeec\">\n",
              "    <div class=\"colab-df-container\">\n",
              "      <div>\n",
              "<style scoped>\n",
              "    .dataframe tbody tr th:only-of-type {\n",
              "        vertical-align: middle;\n",
              "    }\n",
              "\n",
              "    .dataframe tbody tr th {\n",
              "        vertical-align: top;\n",
              "    }\n",
              "\n",
              "    .dataframe thead th {\n",
              "        text-align: right;\n",
              "    }\n",
              "</style>\n",
              "<table border=\"1\" class=\"dataframe\">\n",
              "  <thead>\n",
              "    <tr style=\"text-align: right;\">\n",
              "      <th></th>\n",
              "      <th>Year</th>\n",
              "      <th>Month</th>\n",
              "      <th>MEI</th>\n",
              "      <th>CO2</th>\n",
              "      <th>CH4</th>\n",
              "      <th>N2O</th>\n",
              "      <th>CFC-11</th>\n",
              "      <th>CFC-12</th>\n",
              "      <th>TSI</th>\n",
              "      <th>Aerosols</th>\n",
              "      <th>Temp</th>\n",
              "    </tr>\n",
              "  </thead>\n",
              "  <tbody>\n",
              "    <tr>\n",
              "      <th>29</th>\n",
              "      <td>1985</td>\n",
              "      <td>10</td>\n",
              "      <td>-0.140</td>\n",
              "      <td>343.08</td>\n",
              "      <td>1681.56</td>\n",
              "      <td>305.395</td>\n",
              "      <td>215.327</td>\n",
              "      <td>390.676</td>\n",
              "      <td>1365.5269</td>\n",
              "      <td>0.0101</td>\n",
              "      <td>-0.008</td>\n",
              "    </tr>\n",
              "    <tr>\n",
              "      <th>30</th>\n",
              "      <td>1985</td>\n",
              "      <td>11</td>\n",
              "      <td>-0.050</td>\n",
              "      <td>344.40</td>\n",
              "      <td>1680.68</td>\n",
              "      <td>305.530</td>\n",
              "      <td>216.282</td>\n",
              "      <td>392.714</td>\n",
              "      <td>1365.6289</td>\n",
              "      <td>0.0097</td>\n",
              "      <td>-0.093</td>\n",
              "    </tr>\n",
              "    <tr>\n",
              "      <th>31</th>\n",
              "      <td>1985</td>\n",
              "      <td>12</td>\n",
              "      <td>-0.293</td>\n",
              "      <td>345.82</td>\n",
              "      <td>1677.99</td>\n",
              "      <td>305.653</td>\n",
              "      <td>217.326</td>\n",
              "      <td>394.539</td>\n",
              "      <td>1365.6794</td>\n",
              "      <td>0.0122</td>\n",
              "      <td>-0.002</td>\n",
              "    </tr>\n",
              "    <tr>\n",
              "      <th>32</th>\n",
              "      <td>1986</td>\n",
              "      <td>1</td>\n",
              "      <td>-0.307</td>\n",
              "      <td>346.54</td>\n",
              "      <td>1675.82</td>\n",
              "      <td>305.775</td>\n",
              "      <td>218.382</td>\n",
              "      <td>396.082</td>\n",
              "      <td>1365.6746</td>\n",
              "      <td>0.0146</td>\n",
              "      <td>0.121</td>\n",
              "    </tr>\n",
              "    <tr>\n",
              "      <th>33</th>\n",
              "      <td>1986</td>\n",
              "      <td>2</td>\n",
              "      <td>-0.191</td>\n",
              "      <td>347.13</td>\n",
              "      <td>1666.83</td>\n",
              "      <td>305.911</td>\n",
              "      <td>219.379</td>\n",
              "      <td>397.345</td>\n",
              "      <td>1365.5475</td>\n",
              "      <td>0.0158</td>\n",
              "      <td>0.065</td>\n",
              "    </tr>\n",
              "    <tr>\n",
              "      <th>...</th>\n",
              "      <td>...</td>\n",
              "      <td>...</td>\n",
              "      <td>...</td>\n",
              "      <td>...</td>\n",
              "      <td>...</td>\n",
              "      <td>...</td>\n",
              "      <td>...</td>\n",
              "      <td>...</td>\n",
              "      <td>...</td>\n",
              "      <td>...</td>\n",
              "      <td>...</td>\n",
              "    </tr>\n",
              "    <tr>\n",
              "      <th>303</th>\n",
              "      <td>2008</td>\n",
              "      <td>8</td>\n",
              "      <td>-0.266</td>\n",
              "      <td>384.15</td>\n",
              "      <td>1779.88</td>\n",
              "      <td>321.405</td>\n",
              "      <td>244.200</td>\n",
              "      <td>535.072</td>\n",
              "      <td>1365.6570</td>\n",
              "      <td>0.0036</td>\n",
              "      <td>0.407</td>\n",
              "    </tr>\n",
              "    <tr>\n",
              "      <th>304</th>\n",
              "      <td>2008</td>\n",
              "      <td>9</td>\n",
              "      <td>-0.643</td>\n",
              "      <td>383.09</td>\n",
              "      <td>1795.08</td>\n",
              "      <td>321.529</td>\n",
              "      <td>244.083</td>\n",
              "      <td>535.048</td>\n",
              "      <td>1365.6647</td>\n",
              "      <td>0.0043</td>\n",
              "      <td>0.378</td>\n",
              "    </tr>\n",
              "    <tr>\n",
              "      <th>305</th>\n",
              "      <td>2008</td>\n",
              "      <td>10</td>\n",
              "      <td>-0.780</td>\n",
              "      <td>382.99</td>\n",
              "      <td>1814.18</td>\n",
              "      <td>321.796</td>\n",
              "      <td>244.080</td>\n",
              "      <td>534.927</td>\n",
              "      <td>1365.6759</td>\n",
              "      <td>0.0046</td>\n",
              "      <td>0.440</td>\n",
              "    </tr>\n",
              "    <tr>\n",
              "      <th>306</th>\n",
              "      <td>2008</td>\n",
              "      <td>11</td>\n",
              "      <td>-0.621</td>\n",
              "      <td>384.13</td>\n",
              "      <td>1812.37</td>\n",
              "      <td>322.013</td>\n",
              "      <td>244.225</td>\n",
              "      <td>534.906</td>\n",
              "      <td>1365.7065</td>\n",
              "      <td>0.0048</td>\n",
              "      <td>0.394</td>\n",
              "    </tr>\n",
              "    <tr>\n",
              "      <th>307</th>\n",
              "      <td>2008</td>\n",
              "      <td>12</td>\n",
              "      <td>-0.666</td>\n",
              "      <td>385.56</td>\n",
              "      <td>1812.88</td>\n",
              "      <td>322.182</td>\n",
              "      <td>244.204</td>\n",
              "      <td>535.005</td>\n",
              "      <td>1365.6926</td>\n",
              "      <td>0.0046</td>\n",
              "      <td>0.330</td>\n",
              "    </tr>\n",
              "  </tbody>\n",
              "</table>\n",
              "<p>243 rows × 11 columns</p>\n",
              "</div>\n",
              "      <button class=\"colab-df-convert\" onclick=\"convertToInteractive('df-044bc557-3426-4411-813c-9d94b37daeec')\"\n",
              "              title=\"Convert this dataframe to an interactive table.\"\n",
              "              style=\"display:none;\">\n",
              "        \n",
              "  <svg xmlns=\"http://www.w3.org/2000/svg\" height=\"24px\"viewBox=\"0 0 24 24\"\n",
              "       width=\"24px\">\n",
              "    <path d=\"M0 0h24v24H0V0z\" fill=\"none\"/>\n",
              "    <path d=\"M18.56 5.44l.94 2.06.94-2.06 2.06-.94-2.06-.94-.94-2.06-.94 2.06-2.06.94zm-11 1L8.5 8.5l.94-2.06 2.06-.94-2.06-.94L8.5 2.5l-.94 2.06-2.06.94zm10 10l.94 2.06.94-2.06 2.06-.94-2.06-.94-.94-2.06-.94 2.06-2.06.94z\"/><path d=\"M17.41 7.96l-1.37-1.37c-.4-.4-.92-.59-1.43-.59-.52 0-1.04.2-1.43.59L10.3 9.45l-7.72 7.72c-.78.78-.78 2.05 0 2.83L4 21.41c.39.39.9.59 1.41.59.51 0 1.02-.2 1.41-.59l7.78-7.78 2.81-2.81c.8-.78.8-2.07 0-2.86zM5.41 20L4 18.59l7.72-7.72 1.47 1.35L5.41 20z\"/>\n",
              "  </svg>\n",
              "      </button>\n",
              "      \n",
              "  <style>\n",
              "    .colab-df-container {\n",
              "      display:flex;\n",
              "      flex-wrap:wrap;\n",
              "      gap: 12px;\n",
              "    }\n",
              "\n",
              "    .colab-df-convert {\n",
              "      background-color: #E8F0FE;\n",
              "      border: none;\n",
              "      border-radius: 50%;\n",
              "      cursor: pointer;\n",
              "      display: none;\n",
              "      fill: #1967D2;\n",
              "      height: 32px;\n",
              "      padding: 0 0 0 0;\n",
              "      width: 32px;\n",
              "    }\n",
              "\n",
              "    .colab-df-convert:hover {\n",
              "      background-color: #E2EBFA;\n",
              "      box-shadow: 0px 1px 2px rgba(60, 64, 67, 0.3), 0px 1px 3px 1px rgba(60, 64, 67, 0.15);\n",
              "      fill: #174EA6;\n",
              "    }\n",
              "\n",
              "    [theme=dark] .colab-df-convert {\n",
              "      background-color: #3B4455;\n",
              "      fill: #D2E3FC;\n",
              "    }\n",
              "\n",
              "    [theme=dark] .colab-df-convert:hover {\n",
              "      background-color: #434B5C;\n",
              "      box-shadow: 0px 1px 3px 1px rgba(0, 0, 0, 0.15);\n",
              "      filter: drop-shadow(0px 1px 2px rgba(0, 0, 0, 0.3));\n",
              "      fill: #FFFFFF;\n",
              "    }\n",
              "  </style>\n",
              "\n",
              "      <script>\n",
              "        const buttonEl =\n",
              "          document.querySelector('#df-044bc557-3426-4411-813c-9d94b37daeec button.colab-df-convert');\n",
              "        buttonEl.style.display =\n",
              "          google.colab.kernel.accessAllowed ? 'block' : 'none';\n",
              "\n",
              "        async function convertToInteractive(key) {\n",
              "          const element = document.querySelector('#df-044bc557-3426-4411-813c-9d94b37daeec');\n",
              "          const dataTable =\n",
              "            await google.colab.kernel.invokeFunction('convertToInteractive',\n",
              "                                                     [key], {});\n",
              "          if (!dataTable) return;\n",
              "\n",
              "          const docLinkHtml = 'Like what you see? Visit the ' +\n",
              "            '<a target=\"_blank\" href=https://colab.research.google.com/notebooks/data_table.ipynb>data table notebook</a>'\n",
              "            + ' to learn more about interactive tables.';\n",
              "          element.innerHTML = '';\n",
              "          dataTable['output_type'] = 'display_data';\n",
              "          await google.colab.output.renderOutput(dataTable, element);\n",
              "          const docLink = document.createElement('div');\n",
              "          docLink.innerHTML = docLinkHtml;\n",
              "          element.appendChild(docLink);\n",
              "        }\n",
              "      </script>\n",
              "    </div>\n",
              "  </div>\n",
              "  "
            ]
          },
          "metadata": {},
          "execution_count": 28
        }
      ]
    },
    {
      "cell_type": "code",
      "source": [
        "df1 = data[ data.iloc[:,0]<=2006] \n",
        "x = df1[['MEI','CO2','CH4','N2O','CFC-11','CFC-12','TSI','Aerosols']]\n",
        "y = df1['Temp']\n",
        "# x_train,x_test,y_train,y_test = train_test_split(x,y,test_size = 0.2)\n",
        "df1.head()"
      ],
      "metadata": {
        "colab": {
          "base_uri": "https://localhost:8080/",
          "height": 206
        },
        "id": "ggeC0wpB9cwh",
        "outputId": "c88faabc-cf8d-4b57-9dd4-4278e9eb77dd"
      },
      "execution_count": null,
      "outputs": [
        {
          "output_type": "execute_result",
          "data": {
            "text/plain": [
              "    Year  Month    MEI     CO2      CH4      N2O   CFC-11   CFC-12        TSI  \\\n",
              "29  1985     10 -0.140  343.08  1681.56  305.395  215.327  390.676  1365.5269   \n",
              "30  1985     11 -0.050  344.40  1680.68  305.530  216.282  392.714  1365.6289   \n",
              "31  1985     12 -0.293  345.82  1677.99  305.653  217.326  394.539  1365.6794   \n",
              "32  1986      1 -0.307  346.54  1675.82  305.775  218.382  396.082  1365.6746   \n",
              "33  1986      2 -0.191  347.13  1666.83  305.911  219.379  397.345  1365.5475   \n",
              "\n",
              "    Aerosols   Temp  \n",
              "29    0.0101 -0.008  \n",
              "30    0.0097 -0.093  \n",
              "31    0.0122 -0.002  \n",
              "32    0.0146  0.121  \n",
              "33    0.0158  0.065  "
            ],
            "text/html": [
              "\n",
              "  <div id=\"df-47437f62-d5e2-436b-8c4d-8b95a2cfc5e2\">\n",
              "    <div class=\"colab-df-container\">\n",
              "      <div>\n",
              "<style scoped>\n",
              "    .dataframe tbody tr th:only-of-type {\n",
              "        vertical-align: middle;\n",
              "    }\n",
              "\n",
              "    .dataframe tbody tr th {\n",
              "        vertical-align: top;\n",
              "    }\n",
              "\n",
              "    .dataframe thead th {\n",
              "        text-align: right;\n",
              "    }\n",
              "</style>\n",
              "<table border=\"1\" class=\"dataframe\">\n",
              "  <thead>\n",
              "    <tr style=\"text-align: right;\">\n",
              "      <th></th>\n",
              "      <th>Year</th>\n",
              "      <th>Month</th>\n",
              "      <th>MEI</th>\n",
              "      <th>CO2</th>\n",
              "      <th>CH4</th>\n",
              "      <th>N2O</th>\n",
              "      <th>CFC-11</th>\n",
              "      <th>CFC-12</th>\n",
              "      <th>TSI</th>\n",
              "      <th>Aerosols</th>\n",
              "      <th>Temp</th>\n",
              "    </tr>\n",
              "  </thead>\n",
              "  <tbody>\n",
              "    <tr>\n",
              "      <th>29</th>\n",
              "      <td>1985</td>\n",
              "      <td>10</td>\n",
              "      <td>-0.140</td>\n",
              "      <td>343.08</td>\n",
              "      <td>1681.56</td>\n",
              "      <td>305.395</td>\n",
              "      <td>215.327</td>\n",
              "      <td>390.676</td>\n",
              "      <td>1365.5269</td>\n",
              "      <td>0.0101</td>\n",
              "      <td>-0.008</td>\n",
              "    </tr>\n",
              "    <tr>\n",
              "      <th>30</th>\n",
              "      <td>1985</td>\n",
              "      <td>11</td>\n",
              "      <td>-0.050</td>\n",
              "      <td>344.40</td>\n",
              "      <td>1680.68</td>\n",
              "      <td>305.530</td>\n",
              "      <td>216.282</td>\n",
              "      <td>392.714</td>\n",
              "      <td>1365.6289</td>\n",
              "      <td>0.0097</td>\n",
              "      <td>-0.093</td>\n",
              "    </tr>\n",
              "    <tr>\n",
              "      <th>31</th>\n",
              "      <td>1985</td>\n",
              "      <td>12</td>\n",
              "      <td>-0.293</td>\n",
              "      <td>345.82</td>\n",
              "      <td>1677.99</td>\n",
              "      <td>305.653</td>\n",
              "      <td>217.326</td>\n",
              "      <td>394.539</td>\n",
              "      <td>1365.6794</td>\n",
              "      <td>0.0122</td>\n",
              "      <td>-0.002</td>\n",
              "    </tr>\n",
              "    <tr>\n",
              "      <th>32</th>\n",
              "      <td>1986</td>\n",
              "      <td>1</td>\n",
              "      <td>-0.307</td>\n",
              "      <td>346.54</td>\n",
              "      <td>1675.82</td>\n",
              "      <td>305.775</td>\n",
              "      <td>218.382</td>\n",
              "      <td>396.082</td>\n",
              "      <td>1365.6746</td>\n",
              "      <td>0.0146</td>\n",
              "      <td>0.121</td>\n",
              "    </tr>\n",
              "    <tr>\n",
              "      <th>33</th>\n",
              "      <td>1986</td>\n",
              "      <td>2</td>\n",
              "      <td>-0.191</td>\n",
              "      <td>347.13</td>\n",
              "      <td>1666.83</td>\n",
              "      <td>305.911</td>\n",
              "      <td>219.379</td>\n",
              "      <td>397.345</td>\n",
              "      <td>1365.5475</td>\n",
              "      <td>0.0158</td>\n",
              "      <td>0.065</td>\n",
              "    </tr>\n",
              "  </tbody>\n",
              "</table>\n",
              "</div>\n",
              "      <button class=\"colab-df-convert\" onclick=\"convertToInteractive('df-47437f62-d5e2-436b-8c4d-8b95a2cfc5e2')\"\n",
              "              title=\"Convert this dataframe to an interactive table.\"\n",
              "              style=\"display:none;\">\n",
              "        \n",
              "  <svg xmlns=\"http://www.w3.org/2000/svg\" height=\"24px\"viewBox=\"0 0 24 24\"\n",
              "       width=\"24px\">\n",
              "    <path d=\"M0 0h24v24H0V0z\" fill=\"none\"/>\n",
              "    <path d=\"M18.56 5.44l.94 2.06.94-2.06 2.06-.94-2.06-.94-.94-2.06-.94 2.06-2.06.94zm-11 1L8.5 8.5l.94-2.06 2.06-.94-2.06-.94L8.5 2.5l-.94 2.06-2.06.94zm10 10l.94 2.06.94-2.06 2.06-.94-2.06-.94-.94-2.06-.94 2.06-2.06.94z\"/><path d=\"M17.41 7.96l-1.37-1.37c-.4-.4-.92-.59-1.43-.59-.52 0-1.04.2-1.43.59L10.3 9.45l-7.72 7.72c-.78.78-.78 2.05 0 2.83L4 21.41c.39.39.9.59 1.41.59.51 0 1.02-.2 1.41-.59l7.78-7.78 2.81-2.81c.8-.78.8-2.07 0-2.86zM5.41 20L4 18.59l7.72-7.72 1.47 1.35L5.41 20z\"/>\n",
              "  </svg>\n",
              "      </button>\n",
              "      \n",
              "  <style>\n",
              "    .colab-df-container {\n",
              "      display:flex;\n",
              "      flex-wrap:wrap;\n",
              "      gap: 12px;\n",
              "    }\n",
              "\n",
              "    .colab-df-convert {\n",
              "      background-color: #E8F0FE;\n",
              "      border: none;\n",
              "      border-radius: 50%;\n",
              "      cursor: pointer;\n",
              "      display: none;\n",
              "      fill: #1967D2;\n",
              "      height: 32px;\n",
              "      padding: 0 0 0 0;\n",
              "      width: 32px;\n",
              "    }\n",
              "\n",
              "    .colab-df-convert:hover {\n",
              "      background-color: #E2EBFA;\n",
              "      box-shadow: 0px 1px 2px rgba(60, 64, 67, 0.3), 0px 1px 3px 1px rgba(60, 64, 67, 0.15);\n",
              "      fill: #174EA6;\n",
              "    }\n",
              "\n",
              "    [theme=dark] .colab-df-convert {\n",
              "      background-color: #3B4455;\n",
              "      fill: #D2E3FC;\n",
              "    }\n",
              "\n",
              "    [theme=dark] .colab-df-convert:hover {\n",
              "      background-color: #434B5C;\n",
              "      box-shadow: 0px 1px 3px 1px rgba(0, 0, 0, 0.15);\n",
              "      filter: drop-shadow(0px 1px 2px rgba(0, 0, 0, 0.3));\n",
              "      fill: #FFFFFF;\n",
              "    }\n",
              "  </style>\n",
              "\n",
              "      <script>\n",
              "        const buttonEl =\n",
              "          document.querySelector('#df-47437f62-d5e2-436b-8c4d-8b95a2cfc5e2 button.colab-df-convert');\n",
              "        buttonEl.style.display =\n",
              "          google.colab.kernel.accessAllowed ? 'block' : 'none';\n",
              "\n",
              "        async function convertToInteractive(key) {\n",
              "          const element = document.querySelector('#df-47437f62-d5e2-436b-8c4d-8b95a2cfc5e2');\n",
              "          const dataTable =\n",
              "            await google.colab.kernel.invokeFunction('convertToInteractive',\n",
              "                                                     [key], {});\n",
              "          if (!dataTable) return;\n",
              "\n",
              "          const docLinkHtml = 'Like what you see? Visit the ' +\n",
              "            '<a target=\"_blank\" href=https://colab.research.google.com/notebooks/data_table.ipynb>data table notebook</a>'\n",
              "            + ' to learn more about interactive tables.';\n",
              "          element.innerHTML = '';\n",
              "          dataTable['output_type'] = 'display_data';\n",
              "          await google.colab.output.renderOutput(dataTable, element);\n",
              "          const docLink = document.createElement('div');\n",
              "          docLink.innerHTML = docLinkHtml;\n",
              "          element.appendChild(docLink);\n",
              "        }\n",
              "      </script>\n",
              "    </div>\n",
              "  </div>\n",
              "  "
            ]
          },
          "metadata": {},
          "execution_count": 29
        }
      ]
    },
    {
      "cell_type": "code",
      "source": [
        "df2 = data[ data.iloc[:,0]>2006]  \n",
        "# x =df2[['MEI','CO2','CH4','N2O','CFC-11','CFC-12','TSI','Aerosols']]\n",
        "# y = df2['Temp']\n",
        "\n",
        "df2.head()"
      ],
      "metadata": {
        "colab": {
          "base_uri": "https://localhost:8080/",
          "height": 206
        },
        "id": "ybPxeJ0o98FL",
        "outputId": "b1b91f46-cf8a-4c7c-b3ed-d7faa39a8698"
      },
      "execution_count": null,
      "outputs": [
        {
          "output_type": "execute_result",
          "data": {
            "text/plain": [
              "     Year  Month    MEI     CO2      CH4      N2O   CFC-11   CFC-12  \\\n",
              "284  2007      1  0.974  382.93  1799.66  320.561  248.372  539.206   \n",
              "285  2007      2  0.510  383.81  1803.08  320.571  248.264  538.973   \n",
              "286  2007      3  0.074  384.56  1803.10  320.548  247.997  538.811   \n",
              "287  2007      4 -0.049  386.40  1802.11  320.518  247.574  538.586   \n",
              "288  2007      5  0.183  386.58  1795.65  320.445  247.224  538.130   \n",
              "\n",
              "           TSI  Aerosols   Temp  \n",
              "284  1365.7173    0.0054  0.601  \n",
              "285  1365.7145    0.0051  0.498  \n",
              "286  1365.7544    0.0045  0.435  \n",
              "287  1365.7228    0.0045  0.466  \n",
              "288  1365.6932    0.0041  0.372  "
            ],
            "text/html": [
              "\n",
              "  <div id=\"df-c9305100-ab1a-4f18-b88e-9f375a259340\">\n",
              "    <div class=\"colab-df-container\">\n",
              "      <div>\n",
              "<style scoped>\n",
              "    .dataframe tbody tr th:only-of-type {\n",
              "        vertical-align: middle;\n",
              "    }\n",
              "\n",
              "    .dataframe tbody tr th {\n",
              "        vertical-align: top;\n",
              "    }\n",
              "\n",
              "    .dataframe thead th {\n",
              "        text-align: right;\n",
              "    }\n",
              "</style>\n",
              "<table border=\"1\" class=\"dataframe\">\n",
              "  <thead>\n",
              "    <tr style=\"text-align: right;\">\n",
              "      <th></th>\n",
              "      <th>Year</th>\n",
              "      <th>Month</th>\n",
              "      <th>MEI</th>\n",
              "      <th>CO2</th>\n",
              "      <th>CH4</th>\n",
              "      <th>N2O</th>\n",
              "      <th>CFC-11</th>\n",
              "      <th>CFC-12</th>\n",
              "      <th>TSI</th>\n",
              "      <th>Aerosols</th>\n",
              "      <th>Temp</th>\n",
              "    </tr>\n",
              "  </thead>\n",
              "  <tbody>\n",
              "    <tr>\n",
              "      <th>284</th>\n",
              "      <td>2007</td>\n",
              "      <td>1</td>\n",
              "      <td>0.974</td>\n",
              "      <td>382.93</td>\n",
              "      <td>1799.66</td>\n",
              "      <td>320.561</td>\n",
              "      <td>248.372</td>\n",
              "      <td>539.206</td>\n",
              "      <td>1365.7173</td>\n",
              "      <td>0.0054</td>\n",
              "      <td>0.601</td>\n",
              "    </tr>\n",
              "    <tr>\n",
              "      <th>285</th>\n",
              "      <td>2007</td>\n",
              "      <td>2</td>\n",
              "      <td>0.510</td>\n",
              "      <td>383.81</td>\n",
              "      <td>1803.08</td>\n",
              "      <td>320.571</td>\n",
              "      <td>248.264</td>\n",
              "      <td>538.973</td>\n",
              "      <td>1365.7145</td>\n",
              "      <td>0.0051</td>\n",
              "      <td>0.498</td>\n",
              "    </tr>\n",
              "    <tr>\n",
              "      <th>286</th>\n",
              "      <td>2007</td>\n",
              "      <td>3</td>\n",
              "      <td>0.074</td>\n",
              "      <td>384.56</td>\n",
              "      <td>1803.10</td>\n",
              "      <td>320.548</td>\n",
              "      <td>247.997</td>\n",
              "      <td>538.811</td>\n",
              "      <td>1365.7544</td>\n",
              "      <td>0.0045</td>\n",
              "      <td>0.435</td>\n",
              "    </tr>\n",
              "    <tr>\n",
              "      <th>287</th>\n",
              "      <td>2007</td>\n",
              "      <td>4</td>\n",
              "      <td>-0.049</td>\n",
              "      <td>386.40</td>\n",
              "      <td>1802.11</td>\n",
              "      <td>320.518</td>\n",
              "      <td>247.574</td>\n",
              "      <td>538.586</td>\n",
              "      <td>1365.7228</td>\n",
              "      <td>0.0045</td>\n",
              "      <td>0.466</td>\n",
              "    </tr>\n",
              "    <tr>\n",
              "      <th>288</th>\n",
              "      <td>2007</td>\n",
              "      <td>5</td>\n",
              "      <td>0.183</td>\n",
              "      <td>386.58</td>\n",
              "      <td>1795.65</td>\n",
              "      <td>320.445</td>\n",
              "      <td>247.224</td>\n",
              "      <td>538.130</td>\n",
              "      <td>1365.6932</td>\n",
              "      <td>0.0041</td>\n",
              "      <td>0.372</td>\n",
              "    </tr>\n",
              "  </tbody>\n",
              "</table>\n",
              "</div>\n",
              "      <button class=\"colab-df-convert\" onclick=\"convertToInteractive('df-c9305100-ab1a-4f18-b88e-9f375a259340')\"\n",
              "              title=\"Convert this dataframe to an interactive table.\"\n",
              "              style=\"display:none;\">\n",
              "        \n",
              "  <svg xmlns=\"http://www.w3.org/2000/svg\" height=\"24px\"viewBox=\"0 0 24 24\"\n",
              "       width=\"24px\">\n",
              "    <path d=\"M0 0h24v24H0V0z\" fill=\"none\"/>\n",
              "    <path d=\"M18.56 5.44l.94 2.06.94-2.06 2.06-.94-2.06-.94-.94-2.06-.94 2.06-2.06.94zm-11 1L8.5 8.5l.94-2.06 2.06-.94-2.06-.94L8.5 2.5l-.94 2.06-2.06.94zm10 10l.94 2.06.94-2.06 2.06-.94-2.06-.94-.94-2.06-.94 2.06-2.06.94z\"/><path d=\"M17.41 7.96l-1.37-1.37c-.4-.4-.92-.59-1.43-.59-.52 0-1.04.2-1.43.59L10.3 9.45l-7.72 7.72c-.78.78-.78 2.05 0 2.83L4 21.41c.39.39.9.59 1.41.59.51 0 1.02-.2 1.41-.59l7.78-7.78 2.81-2.81c.8-.78.8-2.07 0-2.86zM5.41 20L4 18.59l7.72-7.72 1.47 1.35L5.41 20z\"/>\n",
              "  </svg>\n",
              "      </button>\n",
              "      \n",
              "  <style>\n",
              "    .colab-df-container {\n",
              "      display:flex;\n",
              "      flex-wrap:wrap;\n",
              "      gap: 12px;\n",
              "    }\n",
              "\n",
              "    .colab-df-convert {\n",
              "      background-color: #E8F0FE;\n",
              "      border: none;\n",
              "      border-radius: 50%;\n",
              "      cursor: pointer;\n",
              "      display: none;\n",
              "      fill: #1967D2;\n",
              "      height: 32px;\n",
              "      padding: 0 0 0 0;\n",
              "      width: 32px;\n",
              "    }\n",
              "\n",
              "    .colab-df-convert:hover {\n",
              "      background-color: #E2EBFA;\n",
              "      box-shadow: 0px 1px 2px rgba(60, 64, 67, 0.3), 0px 1px 3px 1px rgba(60, 64, 67, 0.15);\n",
              "      fill: #174EA6;\n",
              "    }\n",
              "\n",
              "    [theme=dark] .colab-df-convert {\n",
              "      background-color: #3B4455;\n",
              "      fill: #D2E3FC;\n",
              "    }\n",
              "\n",
              "    [theme=dark] .colab-df-convert:hover {\n",
              "      background-color: #434B5C;\n",
              "      box-shadow: 0px 1px 3px 1px rgba(0, 0, 0, 0.15);\n",
              "      filter: drop-shadow(0px 1px 2px rgba(0, 0, 0, 0.3));\n",
              "      fill: #FFFFFF;\n",
              "    }\n",
              "  </style>\n",
              "\n",
              "      <script>\n",
              "        const buttonEl =\n",
              "          document.querySelector('#df-c9305100-ab1a-4f18-b88e-9f375a259340 button.colab-df-convert');\n",
              "        buttonEl.style.display =\n",
              "          google.colab.kernel.accessAllowed ? 'block' : 'none';\n",
              "\n",
              "        async function convertToInteractive(key) {\n",
              "          const element = document.querySelector('#df-c9305100-ab1a-4f18-b88e-9f375a259340');\n",
              "          const dataTable =\n",
              "            await google.colab.kernel.invokeFunction('convertToInteractive',\n",
              "                                                     [key], {});\n",
              "          if (!dataTable) return;\n",
              "\n",
              "          const docLinkHtml = 'Like what you see? Visit the ' +\n",
              "            '<a target=\"_blank\" href=https://colab.research.google.com/notebooks/data_table.ipynb>data table notebook</a>'\n",
              "            + ' to learn more about interactive tables.';\n",
              "          element.innerHTML = '';\n",
              "          dataTable['output_type'] = 'display_data';\n",
              "          await google.colab.output.renderOutput(dataTable, element);\n",
              "          const docLink = document.createElement('div');\n",
              "          docLink.innerHTML = docLinkHtml;\n",
              "          element.appendChild(docLink);\n",
              "        }\n",
              "      </script>\n",
              "    </div>\n",
              "  </div>\n",
              "  "
            ]
          },
          "metadata": {},
          "execution_count": 30
        }
      ]
    },
    {
      "cell_type": "code",
      "source": [
        "df1.shape"
      ],
      "metadata": {
        "colab": {
          "base_uri": "https://localhost:8080/"
        },
        "id": "7ElBz3qv_AYo",
        "outputId": "85b363c4-20a1-48ca-92dc-64209a86f139"
      },
      "execution_count": null,
      "outputs": [
        {
          "output_type": "execute_result",
          "data": {
            "text/plain": [
              "(219, 11)"
            ]
          },
          "metadata": {},
          "execution_count": 31
        }
      ]
    },
    {
      "cell_type": "code",
      "source": [
        "from sklearn.linear_model import LinearRegression\n",
        "mlr = LinearRegression()  \n",
        "mlr.fit(x, y)"
      ],
      "metadata": {
        "colab": {
          "base_uri": "https://localhost:8080/"
        },
        "id": "AarLfE7D_GNt",
        "outputId": "fadb1cf7-7d6d-4674-aa68-fc2ee151ab06"
      },
      "execution_count": null,
      "outputs": [
        {
          "output_type": "execute_result",
          "data": {
            "text/plain": [
              "LinearRegression()"
            ]
          },
          "metadata": {},
          "execution_count": 32
        }
      ]
    },
    {
      "cell_type": "code",
      "source": [
        "print(\"Intercept: \", mlr.intercept_)\n",
        "print(\"Coefficients:\")\n",
        "list(zip(x, mlr.coef_))"
      ],
      "metadata": {
        "colab": {
          "base_uri": "https://localhost:8080/"
        },
        "id": "kriWVZu-_8hO",
        "outputId": "6e286750-921f-43aa-d91a-32db906879e8"
      },
      "execution_count": null,
      "outputs": [
        {
          "output_type": "stream",
          "name": "stdout",
          "text": [
            "Intercept:  -51.031969159858036\n",
            "Coefficients:\n"
          ]
        },
        {
          "output_type": "execute_result",
          "data": {
            "text/plain": [
              "[('MEI', 0.06223569777302381),\n",
              " ('CO2', 0.0049606987940408465),\n",
              " ('CH4', -0.00038810727802363575),\n",
              " ('N2O', 0.0018262419311547184),\n",
              " ('CFC-11', -0.0011344993284555694),\n",
              " ('CFC-12', 0.0014013277032073551),\n",
              " ('TSI', 0.03604734063953119),\n",
              " ('Aerosols', -8.435947559286046)]"
            ]
          },
          "metadata": {},
          "execution_count": 33
        }
      ]
    },
    {
      "cell_type": "code",
      "source": [
        "import pandas as pd\n",
        "import numpy as np\n",
        "from sklearn import datasets, linear_model\n",
        "from sklearn.linear_model import LinearRegression\n",
        "import statsmodels.api as sm\n",
        "from scipy import stats\n",
        "\n",
        "X2 = sm.add_constant(x)\n",
        "est = sm.OLS(y, X2)\n",
        "est2 = est.fit()\n",
        "print(est2.summary())"
      ],
      "metadata": {
        "colab": {
          "base_uri": "https://localhost:8080/"
        },
        "id": "6o86GR7AEIGi",
        "outputId": "f4c1994b-2209-4d0f-eaaa-eecad54ff44e"
      },
      "execution_count": null,
      "outputs": [
        {
          "output_type": "stream",
          "name": "stderr",
          "text": [
            "/usr/local/lib/python3.7/dist-packages/statsmodels/tools/_testing.py:19: FutureWarning: pandas.util.testing is deprecated. Use the functions in the public API at pandas.testing instead.\n",
            "  import pandas.util.testing as tm\n"
          ]
        },
        {
          "output_type": "stream",
          "name": "stdout",
          "text": [
            "                            OLS Regression Results                            \n",
            "==============================================================================\n",
            "Dep. Variable:                   Temp   R-squared:                       0.722\n",
            "Model:                            OLS   Adj. R-squared:                  0.711\n",
            "Method:                 Least Squares   F-statistic:                     68.15\n",
            "Date:                Sun, 22 May 2022   Prob (F-statistic):           3.37e-54\n",
            "Time:                        18:24:58   Log-Likelihood:                 229.49\n",
            "No. Observations:                 219   AIC:                            -441.0\n",
            "Df Residuals:                     210   BIC:                            -410.5\n",
            "Df Model:                           8                                         \n",
            "Covariance Type:            nonrobust                                         \n",
            "==============================================================================\n",
            "                 coef    std err          t      P>|t|      [0.025      0.975]\n",
            "------------------------------------------------------------------------------\n",
            "const        -51.0320     24.469     -2.086      0.038     -99.268      -2.796\n",
            "MEI            0.0622      0.007      8.508      0.000       0.048       0.077\n",
            "CO2            0.0050      0.002      1.995      0.047    5.82e-05       0.010\n",
            "CH4           -0.0004      0.001     -0.689      0.491      -0.001       0.001\n",
            "N2O            0.0018      0.012      0.156      0.876      -0.021       0.025\n",
            "CFC-11        -0.0011      0.003     -0.406      0.685      -0.007       0.004\n",
            "CFC-12         0.0014      0.001      0.940      0.348      -0.002       0.004\n",
            "TSI            0.0360      0.019      1.931      0.055      -0.001       0.073\n",
            "Aerosols      -8.4359      2.024     -4.167      0.000     -12.427      -4.445\n",
            "==============================================================================\n",
            "Omnibus:                        6.330   Durbin-Watson:                   0.994\n",
            "Prob(Omnibus):                  0.042   Jarque-Bera (JB):                6.027\n",
            "Skew:                           0.363   Prob(JB):                       0.0491\n",
            "Kurtosis:                       3.366   Cond. No.                     9.82e+06\n",
            "==============================================================================\n",
            "\n",
            "Warnings:\n",
            "[1] Standard Errors assume that the covariance matrix of the errors is correctly specified.\n",
            "[2] The condition number is large, 9.82e+06. This might indicate that there are\n",
            "strong multicollinearity or other numerical problems.\n"
          ]
        },
        {
          "output_type": "stream",
          "name": "stderr",
          "text": [
            "/usr/local/lib/python3.7/dist-packages/statsmodels/tsa/tsatools.py:117: FutureWarning: In a future version of pandas all arguments of concat except for the argument 'objs' will be keyword-only\n",
            "  x = pd.concat(x[::order], 1)\n"
          ]
        }
      ]
    },
    {
      "cell_type": "code",
      "source": [
        "x_test = df2[['MEI','CFC-12','TSI','Aerosols']]\n",
        "y_test = df2['Temp']\n",
        "# x_train = df1[['MEI','CFC-12','TSI','Aerosols']]\n",
        "# y_train = df1['Temp']"
      ],
      "metadata": {
        "id": "TXa3DL5oBHtW"
      },
      "execution_count": null,
      "outputs": []
    },
    {
      "cell_type": "code",
      "source": [
        "mlr_pred = LinearRegression()  \n",
        "mlr_pred.fit(x_test, y_test)\n",
        "y_pred_mlr= mlr_pred.predict(x_test)\n",
        "# y_pred_mlr.summary"
      ],
      "metadata": {
        "id": "5-nXkkYbBdOZ"
      },
      "execution_count": null,
      "outputs": []
    },
    {
      "cell_type": "code",
      "source": [
        "print(\"Prediction for test set: {}\".format(y_pred_mlr))"
      ],
      "metadata": {
        "colab": {
          "base_uri": "https://localhost:8080/"
        },
        "id": "AyhW8kL8Bhol",
        "outputId": "a825a5ce-04bd-4552-e5fe-b6f34f94ca7f"
      },
      "execution_count": null,
      "outputs": [
        {
          "output_type": "stream",
          "name": "stdout",
          "text": [
            "Prediction for test set: [0.56487964 0.50982722 0.41833238 0.4219374  0.4233936  0.34750379\n",
            " 0.35712998 0.35038138 0.31947771 0.30459831 0.33791073 0.31441562\n",
            " 0.3025587  0.25062379 0.24506255 0.27323876 0.30233673 0.35701416\n",
            " 0.36205117 0.36896603 0.38660211 0.39278788 0.40638529 0.39458505]\n"
          ]
        }
      ]
    },
    {
      "cell_type": "code",
      "source": [
        "mlr_diff = pd.DataFrame({'Actual value': y_test, 'Predicted value': y_pred_mlr})\n",
        "mlr_diff.head()"
      ],
      "metadata": {
        "colab": {
          "base_uri": "https://localhost:8080/",
          "height": 206
        },
        "id": "TJ0zg_8aBlDH",
        "outputId": "0c7c848c-0f43-4509-e2a1-155bf4f5b149"
      },
      "execution_count": null,
      "outputs": [
        {
          "output_type": "execute_result",
          "data": {
            "text/plain": [
              "     Actual value  Predicted value\n",
              "284         0.601         0.564880\n",
              "285         0.498         0.509827\n",
              "286         0.435         0.418332\n",
              "287         0.466         0.421937\n",
              "288         0.372         0.423394"
            ],
            "text/html": [
              "\n",
              "  <div id=\"df-04a3020c-1a07-4183-a412-9378a5af6c34\">\n",
              "    <div class=\"colab-df-container\">\n",
              "      <div>\n",
              "<style scoped>\n",
              "    .dataframe tbody tr th:only-of-type {\n",
              "        vertical-align: middle;\n",
              "    }\n",
              "\n",
              "    .dataframe tbody tr th {\n",
              "        vertical-align: top;\n",
              "    }\n",
              "\n",
              "    .dataframe thead th {\n",
              "        text-align: right;\n",
              "    }\n",
              "</style>\n",
              "<table border=\"1\" class=\"dataframe\">\n",
              "  <thead>\n",
              "    <tr style=\"text-align: right;\">\n",
              "      <th></th>\n",
              "      <th>Actual value</th>\n",
              "      <th>Predicted value</th>\n",
              "    </tr>\n",
              "  </thead>\n",
              "  <tbody>\n",
              "    <tr>\n",
              "      <th>284</th>\n",
              "      <td>0.601</td>\n",
              "      <td>0.564880</td>\n",
              "    </tr>\n",
              "    <tr>\n",
              "      <th>285</th>\n",
              "      <td>0.498</td>\n",
              "      <td>0.509827</td>\n",
              "    </tr>\n",
              "    <tr>\n",
              "      <th>286</th>\n",
              "      <td>0.435</td>\n",
              "      <td>0.418332</td>\n",
              "    </tr>\n",
              "    <tr>\n",
              "      <th>287</th>\n",
              "      <td>0.466</td>\n",
              "      <td>0.421937</td>\n",
              "    </tr>\n",
              "    <tr>\n",
              "      <th>288</th>\n",
              "      <td>0.372</td>\n",
              "      <td>0.423394</td>\n",
              "    </tr>\n",
              "  </tbody>\n",
              "</table>\n",
              "</div>\n",
              "      <button class=\"colab-df-convert\" onclick=\"convertToInteractive('df-04a3020c-1a07-4183-a412-9378a5af6c34')\"\n",
              "              title=\"Convert this dataframe to an interactive table.\"\n",
              "              style=\"display:none;\">\n",
              "        \n",
              "  <svg xmlns=\"http://www.w3.org/2000/svg\" height=\"24px\"viewBox=\"0 0 24 24\"\n",
              "       width=\"24px\">\n",
              "    <path d=\"M0 0h24v24H0V0z\" fill=\"none\"/>\n",
              "    <path d=\"M18.56 5.44l.94 2.06.94-2.06 2.06-.94-2.06-.94-.94-2.06-.94 2.06-2.06.94zm-11 1L8.5 8.5l.94-2.06 2.06-.94-2.06-.94L8.5 2.5l-.94 2.06-2.06.94zm10 10l.94 2.06.94-2.06 2.06-.94-2.06-.94-.94-2.06-.94 2.06-2.06.94z\"/><path d=\"M17.41 7.96l-1.37-1.37c-.4-.4-.92-.59-1.43-.59-.52 0-1.04.2-1.43.59L10.3 9.45l-7.72 7.72c-.78.78-.78 2.05 0 2.83L4 21.41c.39.39.9.59 1.41.59.51 0 1.02-.2 1.41-.59l7.78-7.78 2.81-2.81c.8-.78.8-2.07 0-2.86zM5.41 20L4 18.59l7.72-7.72 1.47 1.35L5.41 20z\"/>\n",
              "  </svg>\n",
              "      </button>\n",
              "      \n",
              "  <style>\n",
              "    .colab-df-container {\n",
              "      display:flex;\n",
              "      flex-wrap:wrap;\n",
              "      gap: 12px;\n",
              "    }\n",
              "\n",
              "    .colab-df-convert {\n",
              "      background-color: #E8F0FE;\n",
              "      border: none;\n",
              "      border-radius: 50%;\n",
              "      cursor: pointer;\n",
              "      display: none;\n",
              "      fill: #1967D2;\n",
              "      height: 32px;\n",
              "      padding: 0 0 0 0;\n",
              "      width: 32px;\n",
              "    }\n",
              "\n",
              "    .colab-df-convert:hover {\n",
              "      background-color: #E2EBFA;\n",
              "      box-shadow: 0px 1px 2px rgba(60, 64, 67, 0.3), 0px 1px 3px 1px rgba(60, 64, 67, 0.15);\n",
              "      fill: #174EA6;\n",
              "    }\n",
              "\n",
              "    [theme=dark] .colab-df-convert {\n",
              "      background-color: #3B4455;\n",
              "      fill: #D2E3FC;\n",
              "    }\n",
              "\n",
              "    [theme=dark] .colab-df-convert:hover {\n",
              "      background-color: #434B5C;\n",
              "      box-shadow: 0px 1px 3px 1px rgba(0, 0, 0, 0.15);\n",
              "      filter: drop-shadow(0px 1px 2px rgba(0, 0, 0, 0.3));\n",
              "      fill: #FFFFFF;\n",
              "    }\n",
              "  </style>\n",
              "\n",
              "      <script>\n",
              "        const buttonEl =\n",
              "          document.querySelector('#df-04a3020c-1a07-4183-a412-9378a5af6c34 button.colab-df-convert');\n",
              "        buttonEl.style.display =\n",
              "          google.colab.kernel.accessAllowed ? 'block' : 'none';\n",
              "\n",
              "        async function convertToInteractive(key) {\n",
              "          const element = document.querySelector('#df-04a3020c-1a07-4183-a412-9378a5af6c34');\n",
              "          const dataTable =\n",
              "            await google.colab.kernel.invokeFunction('convertToInteractive',\n",
              "                                                     [key], {});\n",
              "          if (!dataTable) return;\n",
              "\n",
              "          const docLinkHtml = 'Like what you see? Visit the ' +\n",
              "            '<a target=\"_blank\" href=https://colab.research.google.com/notebooks/data_table.ipynb>data table notebook</a>'\n",
              "            + ' to learn more about interactive tables.';\n",
              "          element.innerHTML = '';\n",
              "          dataTable['output_type'] = 'display_data';\n",
              "          await google.colab.output.renderOutput(dataTable, element);\n",
              "          const docLink = document.createElement('div');\n",
              "          docLink.innerHTML = docLinkHtml;\n",
              "          element.appendChild(docLink);\n",
              "        }\n",
              "      </script>\n",
              "    </div>\n",
              "  </div>\n",
              "  "
            ]
          },
          "metadata": {},
          "execution_count": 38
        }
      ]
    },
    {
      "cell_type": "code",
      "source": [
        "mlr = LinearRegression()  \n",
        "mlr.fit(x, y)"
      ],
      "metadata": {
        "colab": {
          "base_uri": "https://localhost:8080/"
        },
        "id": "fFe3S8HOHKWD",
        "outputId": "f80ff971-6aaa-4c1c-8b56-a963a7d7c035"
      },
      "execution_count": null,
      "outputs": [
        {
          "output_type": "execute_result",
          "data": {
            "text/plain": [
              "LinearRegression()"
            ]
          },
          "metadata": {},
          "execution_count": 39
        }
      ]
    },
    {
      "cell_type": "code",
      "source": [
        "from sklearn import metrics\n",
        "meanAbErr = metrics.mean_absolute_error(y_test, y_pred_mlr)\n",
        "meanSqErr = metrics.mean_squared_error(y_test, y_pred_mlr)\n",
        "rootMeanSqErr = np.sqrt(metrics.mean_squared_error(y_test, y_pred_mlr))\n",
        "print('R squared: {:.2f}'.format(mlr.score(x,y)*100))\n",
        "print('Mean Absolute Error:', meanAbErr)\n",
        "print('Mean Square Error:', meanSqErr)\n",
        "print('Root Mean Square Error:', rootMeanSqErr)"
      ],
      "metadata": {
        "colab": {
          "base_uri": "https://localhost:8080/"
        },
        "id": "VvBNyrVsBqIy",
        "outputId": "b1306088-c864-4f1d-d04c-73c096babd9a"
      },
      "execution_count": null,
      "outputs": [
        {
          "output_type": "stream",
          "name": "stdout",
          "text": [
            "R squared: 72.19\n",
            "Mean Absolute Error: 0.0543044181922556\n",
            "Mean Square Error: 0.005831687806321661\n",
            "Root Mean Square Error: 0.07636548831980099\n"
          ]
        }
      ]
    },
    {
      "cell_type": "code",
      "source": [
        "import numpy as np\n"
      ],
      "metadata": {
        "id": "edsvOxEYKs2w"
      },
      "execution_count": null,
      "outputs": []
    },
    {
      "cell_type": "code",
      "source": [
        "r = np.corrcoef(df1['N2O'], df1['MEI'])\n",
        "print(r[1][0])"
      ],
      "metadata": {
        "colab": {
          "base_uri": "https://localhost:8080/"
        },
        "id": "YhLykCZk58bS",
        "outputId": "06f09e4a-97c1-4c4e-d19f-b6af8a536902"
      },
      "execution_count": null,
      "outputs": [
        {
          "output_type": "stream",
          "name": "stdout",
          "text": [
            "-0.06177124908370091\n"
          ]
        }
      ]
    },
    {
      "cell_type": "code",
      "source": [
        "r = np.corrcoef(df1['N2O'], df1['CO2'])\n",
        "print(r[1][0])"
      ],
      "metadata": {
        "colab": {
          "base_uri": "https://localhost:8080/"
        },
        "id": "GtVUIZ0Q8frz",
        "outputId": "ef56e360-126f-4b87-ac94-11daeefa7426"
      },
      "execution_count": null,
      "outputs": [
        {
          "output_type": "stream",
          "name": "stdout",
          "text": [
            "0.9749926361365618\n"
          ]
        }
      ]
    },
    {
      "cell_type": "code",
      "source": [
        "r = np.corrcoef(df1['N2O'], df1['CH4'])\n",
        "print(r[1][0])"
      ],
      "metadata": {
        "colab": {
          "base_uri": "https://localhost:8080/"
        },
        "id": "ooKPHr1D84qJ",
        "outputId": "a37b34b2-1b75-463b-eb6c-c4452dac0cab"
      },
      "execution_count": null,
      "outputs": [
        {
          "output_type": "stream",
          "name": "stdout",
          "text": [
            "0.8903124993701752\n"
          ]
        }
      ]
    },
    {
      "cell_type": "code",
      "source": [
        "r = np.corrcoef(df1['N2O'], df1['CFC-11'])\n",
        "print(r[1][0])"
      ],
      "metadata": {
        "colab": {
          "base_uri": "https://localhost:8080/"
        },
        "id": "wQloUInf86yb",
        "outputId": "bd0fb856-3137-467e-edea-e2fd50e71950"
      },
      "execution_count": null,
      "outputs": [
        {
          "output_type": "stream",
          "name": "stdout",
          "text": [
            "0.3273891567210462\n"
          ]
        }
      ]
    },
    {
      "cell_type": "code",
      "source": [
        "r = np.corrcoef(df1['N2O'], df1['CFC-12'])\n",
        "print(r[1][0])"
      ],
      "metadata": {
        "colab": {
          "base_uri": "https://localhost:8080/"
        },
        "id": "ZcwGQdrY8-yJ",
        "outputId": "53534cf6-86da-47ad-8106-64068b4a4d60"
      },
      "execution_count": null,
      "outputs": [
        {
          "output_type": "stream",
          "name": "stdout",
          "text": [
            "0.8645200386566597\n"
          ]
        }
      ]
    },
    {
      "cell_type": "code",
      "source": [
        "r = np.corrcoef(df1['N2O'], df1['TSI'])\n",
        "print(r[1][0])"
      ],
      "metadata": {
        "colab": {
          "base_uri": "https://localhost:8080/"
        },
        "id": "aAWUgKKc9DLu",
        "outputId": "19d147cd-09cb-4198-d0ea-8dbabc2cd3d3"
      },
      "execution_count": null,
      "outputs": [
        {
          "output_type": "stream",
          "name": "stdout",
          "text": [
            "0.15958759016062263\n"
          ]
        }
      ]
    },
    {
      "cell_type": "code",
      "source": [
        "r = np.corrcoef(df1['N2O'], df1['Aerosols'])\n",
        "print(r[1][0])"
      ],
      "metadata": {
        "colab": {
          "base_uri": "https://localhost:8080/"
        },
        "id": "ZUVEZtSp9GPE",
        "outputId": "37d57a1f-221d-4881-9a3e-e9e8f545de43"
      },
      "execution_count": null,
      "outputs": [
        {
          "output_type": "stream",
          "name": "stdout",
          "text": [
            "-0.6609381809526801\n"
          ]
        }
      ]
    },
    {
      "cell_type": "code",
      "source": [
        "r = np.corrcoef(df1['CFC-11'], df1['N2O'])\n",
        "print(r[1][0])"
      ],
      "metadata": {
        "colab": {
          "base_uri": "https://localhost:8080/"
        },
        "id": "NJCHWGfW9Jol",
        "outputId": "f070a384-a6e8-40c6-ef39-94927f7e411c"
      },
      "execution_count": null,
      "outputs": [
        {
          "output_type": "stream",
          "name": "stdout",
          "text": [
            "0.3273891567210462\n"
          ]
        }
      ]
    },
    {
      "cell_type": "code",
      "source": [
        "r = np.corrcoef(df1['CFC-11'], df1['CO2'])\n",
        "print(r[1][0])"
      ],
      "metadata": {
        "colab": {
          "base_uri": "https://localhost:8080/"
        },
        "id": "08_3gybW9Q6D",
        "outputId": "d333319e-76e9-465c-de97-678d8539df2f"
      },
      "execution_count": null,
      "outputs": [
        {
          "output_type": "stream",
          "name": "stdout",
          "text": [
            "0.34154482148525867\n"
          ]
        }
      ]
    },
    {
      "cell_type": "code",
      "source": [
        "r = np.corrcoef(df1['CFC-11'], df1['MEI'])\n",
        "print(r[1][0])"
      ],
      "metadata": {
        "colab": {
          "base_uri": "https://localhost:8080/"
        },
        "id": "jkxo9asw9Sxq",
        "outputId": "99e7fd6b-39a3-43da-855d-10ccf826dbed"
      },
      "execution_count": null,
      "outputs": [
        {
          "output_type": "stream",
          "name": "stdout",
          "text": [
            "-0.16610201966431865\n"
          ]
        }
      ]
    },
    {
      "cell_type": "code",
      "source": [
        "r = np.corrcoef(df1['CFC-11'], df1['CH4'])\n",
        "print(r[1][0])"
      ],
      "metadata": {
        "colab": {
          "base_uri": "https://localhost:8080/"
        },
        "id": "dl5ydJ819VBB",
        "outputId": "22379f0a-85df-44d2-c851-8295baeabb6c"
      },
      "execution_count": null,
      "outputs": [
        {
          "output_type": "stream",
          "name": "stdout",
          "text": [
            "0.627913787898016\n"
          ]
        }
      ]
    },
    {
      "cell_type": "code",
      "source": [
        "r = np.corrcoef(df1['CFC-11'], df1['CFC-12'])\n",
        "print(r[1][0])"
      ],
      "metadata": {
        "colab": {
          "base_uri": "https://localhost:8080/"
        },
        "id": "tmUxjy__9WpV",
        "outputId": "d908d342-856e-47e4-b82e-b6b7dc4c21be"
      },
      "execution_count": null,
      "outputs": [
        {
          "output_type": "stream",
          "name": "stdout",
          "text": [
            "0.7493680735584559\n"
          ]
        }
      ]
    },
    {
      "cell_type": "code",
      "source": [
        "r = np.corrcoef(df1['CFC-11'], df1['TSI'])\n",
        "print(r[1][0])"
      ],
      "metadata": {
        "colab": {
          "base_uri": "https://localhost:8080/"
        },
        "id": "IH13VCfQ9b7I",
        "outputId": "9e4fe4ef-794b-44b5-92ba-f7648dbf011e"
      },
      "execution_count": null,
      "outputs": [
        {
          "output_type": "stream",
          "name": "stdout",
          "text": [
            "0.2571940874708528\n"
          ]
        }
      ]
    },
    {
      "cell_type": "code",
      "source": [
        "r = np.corrcoef(df1['CFC-11'], df1['Aerosols'])\n",
        "print(r[1][0])"
      ],
      "metadata": {
        "colab": {
          "base_uri": "https://localhost:8080/"
        },
        "id": "tvkkEUig9doD",
        "outputId": "044dbe2c-1e8c-4461-fff3-2d7b5422c959"
      },
      "execution_count": null,
      "outputs": [
        {
          "output_type": "stream",
          "name": "stdout",
          "text": [
            "-0.23054354377641395\n"
          ]
        }
      ]
    },
    {
      "cell_type": "code",
      "source": [
        "x = df1[['MEI','N2O','TSI','Aerosols']]\n",
        "y = df1['Temp']\n",
        "df1"
      ],
      "metadata": {
        "colab": {
          "base_uri": "https://localhost:8080/",
          "height": 424
        },
        "id": "bRyIWYeh9hCI",
        "outputId": "94aa9f5c-d476-4e37-de94-eb4e31f60b6e"
      },
      "execution_count": null,
      "outputs": [
        {
          "output_type": "execute_result",
          "data": {
            "text/plain": [
              "     Year  Month    MEI     CO2      CH4      N2O   CFC-11   CFC-12  \\\n",
              "29   1985     10 -0.140  343.08  1681.56  305.395  215.327  390.676   \n",
              "30   1985     11 -0.050  344.40  1680.68  305.530  216.282  392.714   \n",
              "31   1985     12 -0.293  345.82  1677.99  305.653  217.326  394.539   \n",
              "32   1986      1 -0.307  346.54  1675.82  305.775  218.382  396.082   \n",
              "33   1986      2 -0.191  347.13  1666.83  305.911  219.379  397.345   \n",
              "..    ...    ...    ...     ...      ...      ...      ...      ...   \n",
              "279  2006      8  0.759  380.45  1762.66  319.930  248.981  539.682   \n",
              "280  2006      9  0.793  378.92  1776.04  320.010  248.775  539.566   \n",
              "281  2006     10  0.892  379.16  1789.02  320.125  248.666  539.488   \n",
              "282  2006     11  1.292  380.18  1791.91  320.321  248.605  539.500   \n",
              "283  2006     12  0.951  381.79  1795.04  320.451  248.480  539.377   \n",
              "\n",
              "           TSI  Aerosols   Temp  \n",
              "29   1365.5269    0.0101 -0.008  \n",
              "30   1365.6289    0.0097 -0.093  \n",
              "31   1365.6794    0.0122 -0.002  \n",
              "32   1365.6746    0.0146  0.121  \n",
              "33   1365.5475    0.0158  0.065  \n",
              "..         ...       ...    ...  \n",
              "279  1365.7067    0.0041  0.482  \n",
              "280  1365.8419    0.0043  0.425  \n",
              "281  1365.8270    0.0044  0.472  \n",
              "282  1365.7039    0.0049  0.440  \n",
              "283  1365.7087    0.0054  0.518  \n",
              "\n",
              "[219 rows x 11 columns]"
            ],
            "text/html": [
              "\n",
              "  <div id=\"df-6a968d87-c474-4288-aa98-ec96430d16fb\">\n",
              "    <div class=\"colab-df-container\">\n",
              "      <div>\n",
              "<style scoped>\n",
              "    .dataframe tbody tr th:only-of-type {\n",
              "        vertical-align: middle;\n",
              "    }\n",
              "\n",
              "    .dataframe tbody tr th {\n",
              "        vertical-align: top;\n",
              "    }\n",
              "\n",
              "    .dataframe thead th {\n",
              "        text-align: right;\n",
              "    }\n",
              "</style>\n",
              "<table border=\"1\" class=\"dataframe\">\n",
              "  <thead>\n",
              "    <tr style=\"text-align: right;\">\n",
              "      <th></th>\n",
              "      <th>Year</th>\n",
              "      <th>Month</th>\n",
              "      <th>MEI</th>\n",
              "      <th>CO2</th>\n",
              "      <th>CH4</th>\n",
              "      <th>N2O</th>\n",
              "      <th>CFC-11</th>\n",
              "      <th>CFC-12</th>\n",
              "      <th>TSI</th>\n",
              "      <th>Aerosols</th>\n",
              "      <th>Temp</th>\n",
              "    </tr>\n",
              "  </thead>\n",
              "  <tbody>\n",
              "    <tr>\n",
              "      <th>29</th>\n",
              "      <td>1985</td>\n",
              "      <td>10</td>\n",
              "      <td>-0.140</td>\n",
              "      <td>343.08</td>\n",
              "      <td>1681.56</td>\n",
              "      <td>305.395</td>\n",
              "      <td>215.327</td>\n",
              "      <td>390.676</td>\n",
              "      <td>1365.5269</td>\n",
              "      <td>0.0101</td>\n",
              "      <td>-0.008</td>\n",
              "    </tr>\n",
              "    <tr>\n",
              "      <th>30</th>\n",
              "      <td>1985</td>\n",
              "      <td>11</td>\n",
              "      <td>-0.050</td>\n",
              "      <td>344.40</td>\n",
              "      <td>1680.68</td>\n",
              "      <td>305.530</td>\n",
              "      <td>216.282</td>\n",
              "      <td>392.714</td>\n",
              "      <td>1365.6289</td>\n",
              "      <td>0.0097</td>\n",
              "      <td>-0.093</td>\n",
              "    </tr>\n",
              "    <tr>\n",
              "      <th>31</th>\n",
              "      <td>1985</td>\n",
              "      <td>12</td>\n",
              "      <td>-0.293</td>\n",
              "      <td>345.82</td>\n",
              "      <td>1677.99</td>\n",
              "      <td>305.653</td>\n",
              "      <td>217.326</td>\n",
              "      <td>394.539</td>\n",
              "      <td>1365.6794</td>\n",
              "      <td>0.0122</td>\n",
              "      <td>-0.002</td>\n",
              "    </tr>\n",
              "    <tr>\n",
              "      <th>32</th>\n",
              "      <td>1986</td>\n",
              "      <td>1</td>\n",
              "      <td>-0.307</td>\n",
              "      <td>346.54</td>\n",
              "      <td>1675.82</td>\n",
              "      <td>305.775</td>\n",
              "      <td>218.382</td>\n",
              "      <td>396.082</td>\n",
              "      <td>1365.6746</td>\n",
              "      <td>0.0146</td>\n",
              "      <td>0.121</td>\n",
              "    </tr>\n",
              "    <tr>\n",
              "      <th>33</th>\n",
              "      <td>1986</td>\n",
              "      <td>2</td>\n",
              "      <td>-0.191</td>\n",
              "      <td>347.13</td>\n",
              "      <td>1666.83</td>\n",
              "      <td>305.911</td>\n",
              "      <td>219.379</td>\n",
              "      <td>397.345</td>\n",
              "      <td>1365.5475</td>\n",
              "      <td>0.0158</td>\n",
              "      <td>0.065</td>\n",
              "    </tr>\n",
              "    <tr>\n",
              "      <th>...</th>\n",
              "      <td>...</td>\n",
              "      <td>...</td>\n",
              "      <td>...</td>\n",
              "      <td>...</td>\n",
              "      <td>...</td>\n",
              "      <td>...</td>\n",
              "      <td>...</td>\n",
              "      <td>...</td>\n",
              "      <td>...</td>\n",
              "      <td>...</td>\n",
              "      <td>...</td>\n",
              "    </tr>\n",
              "    <tr>\n",
              "      <th>279</th>\n",
              "      <td>2006</td>\n",
              "      <td>8</td>\n",
              "      <td>0.759</td>\n",
              "      <td>380.45</td>\n",
              "      <td>1762.66</td>\n",
              "      <td>319.930</td>\n",
              "      <td>248.981</td>\n",
              "      <td>539.682</td>\n",
              "      <td>1365.7067</td>\n",
              "      <td>0.0041</td>\n",
              "      <td>0.482</td>\n",
              "    </tr>\n",
              "    <tr>\n",
              "      <th>280</th>\n",
              "      <td>2006</td>\n",
              "      <td>9</td>\n",
              "      <td>0.793</td>\n",
              "      <td>378.92</td>\n",
              "      <td>1776.04</td>\n",
              "      <td>320.010</td>\n",
              "      <td>248.775</td>\n",
              "      <td>539.566</td>\n",
              "      <td>1365.8419</td>\n",
              "      <td>0.0043</td>\n",
              "      <td>0.425</td>\n",
              "    </tr>\n",
              "    <tr>\n",
              "      <th>281</th>\n",
              "      <td>2006</td>\n",
              "      <td>10</td>\n",
              "      <td>0.892</td>\n",
              "      <td>379.16</td>\n",
              "      <td>1789.02</td>\n",
              "      <td>320.125</td>\n",
              "      <td>248.666</td>\n",
              "      <td>539.488</td>\n",
              "      <td>1365.8270</td>\n",
              "      <td>0.0044</td>\n",
              "      <td>0.472</td>\n",
              "    </tr>\n",
              "    <tr>\n",
              "      <th>282</th>\n",
              "      <td>2006</td>\n",
              "      <td>11</td>\n",
              "      <td>1.292</td>\n",
              "      <td>380.18</td>\n",
              "      <td>1791.91</td>\n",
              "      <td>320.321</td>\n",
              "      <td>248.605</td>\n",
              "      <td>539.500</td>\n",
              "      <td>1365.7039</td>\n",
              "      <td>0.0049</td>\n",
              "      <td>0.440</td>\n",
              "    </tr>\n",
              "    <tr>\n",
              "      <th>283</th>\n",
              "      <td>2006</td>\n",
              "      <td>12</td>\n",
              "      <td>0.951</td>\n",
              "      <td>381.79</td>\n",
              "      <td>1795.04</td>\n",
              "      <td>320.451</td>\n",
              "      <td>248.480</td>\n",
              "      <td>539.377</td>\n",
              "      <td>1365.7087</td>\n",
              "      <td>0.0054</td>\n",
              "      <td>0.518</td>\n",
              "    </tr>\n",
              "  </tbody>\n",
              "</table>\n",
              "<p>219 rows × 11 columns</p>\n",
              "</div>\n",
              "      <button class=\"colab-df-convert\" onclick=\"convertToInteractive('df-6a968d87-c474-4288-aa98-ec96430d16fb')\"\n",
              "              title=\"Convert this dataframe to an interactive table.\"\n",
              "              style=\"display:none;\">\n",
              "        \n",
              "  <svg xmlns=\"http://www.w3.org/2000/svg\" height=\"24px\"viewBox=\"0 0 24 24\"\n",
              "       width=\"24px\">\n",
              "    <path d=\"M0 0h24v24H0V0z\" fill=\"none\"/>\n",
              "    <path d=\"M18.56 5.44l.94 2.06.94-2.06 2.06-.94-2.06-.94-.94-2.06-.94 2.06-2.06.94zm-11 1L8.5 8.5l.94-2.06 2.06-.94-2.06-.94L8.5 2.5l-.94 2.06-2.06.94zm10 10l.94 2.06.94-2.06 2.06-.94-2.06-.94-.94-2.06-.94 2.06-2.06.94z\"/><path d=\"M17.41 7.96l-1.37-1.37c-.4-.4-.92-.59-1.43-.59-.52 0-1.04.2-1.43.59L10.3 9.45l-7.72 7.72c-.78.78-.78 2.05 0 2.83L4 21.41c.39.39.9.59 1.41.59.51 0 1.02-.2 1.41-.59l7.78-7.78 2.81-2.81c.8-.78.8-2.07 0-2.86zM5.41 20L4 18.59l7.72-7.72 1.47 1.35L5.41 20z\"/>\n",
              "  </svg>\n",
              "      </button>\n",
              "      \n",
              "  <style>\n",
              "    .colab-df-container {\n",
              "      display:flex;\n",
              "      flex-wrap:wrap;\n",
              "      gap: 12px;\n",
              "    }\n",
              "\n",
              "    .colab-df-convert {\n",
              "      background-color: #E8F0FE;\n",
              "      border: none;\n",
              "      border-radius: 50%;\n",
              "      cursor: pointer;\n",
              "      display: none;\n",
              "      fill: #1967D2;\n",
              "      height: 32px;\n",
              "      padding: 0 0 0 0;\n",
              "      width: 32px;\n",
              "    }\n",
              "\n",
              "    .colab-df-convert:hover {\n",
              "      background-color: #E2EBFA;\n",
              "      box-shadow: 0px 1px 2px rgba(60, 64, 67, 0.3), 0px 1px 3px 1px rgba(60, 64, 67, 0.15);\n",
              "      fill: #174EA6;\n",
              "    }\n",
              "\n",
              "    [theme=dark] .colab-df-convert {\n",
              "      background-color: #3B4455;\n",
              "      fill: #D2E3FC;\n",
              "    }\n",
              "\n",
              "    [theme=dark] .colab-df-convert:hover {\n",
              "      background-color: #434B5C;\n",
              "      box-shadow: 0px 1px 3px 1px rgba(0, 0, 0, 0.15);\n",
              "      filter: drop-shadow(0px 1px 2px rgba(0, 0, 0, 0.3));\n",
              "      fill: #FFFFFF;\n",
              "    }\n",
              "  </style>\n",
              "\n",
              "      <script>\n",
              "        const buttonEl =\n",
              "          document.querySelector('#df-6a968d87-c474-4288-aa98-ec96430d16fb button.colab-df-convert');\n",
              "        buttonEl.style.display =\n",
              "          google.colab.kernel.accessAllowed ? 'block' : 'none';\n",
              "\n",
              "        async function convertToInteractive(key) {\n",
              "          const element = document.querySelector('#df-6a968d87-c474-4288-aa98-ec96430d16fb');\n",
              "          const dataTable =\n",
              "            await google.colab.kernel.invokeFunction('convertToInteractive',\n",
              "                                                     [key], {});\n",
              "          if (!dataTable) return;\n",
              "\n",
              "          const docLinkHtml = 'Like what you see? Visit the ' +\n",
              "            '<a target=\"_blank\" href=https://colab.research.google.com/notebooks/data_table.ipynb>data table notebook</a>'\n",
              "            + ' to learn more about interactive tables.';\n",
              "          element.innerHTML = '';\n",
              "          dataTable['output_type'] = 'display_data';\n",
              "          await google.colab.output.renderOutput(dataTable, element);\n",
              "          const docLink = document.createElement('div');\n",
              "          docLink.innerHTML = docLinkHtml;\n",
              "          element.appendChild(docLink);\n",
              "        }\n",
              "      </script>\n",
              "    </div>\n",
              "  </div>\n",
              "  "
            ]
          },
          "metadata": {},
          "execution_count": 56
        }
      ]
    },
    {
      "cell_type": "code",
      "source": [
        "x"
      ],
      "metadata": {
        "colab": {
          "base_uri": "https://localhost:8080/",
          "height": 424
        },
        "id": "XENstRJW-88r",
        "outputId": "aaac0f72-0ab7-4620-bd2b-c91d0bcda5ac"
      },
      "execution_count": null,
      "outputs": [
        {
          "output_type": "execute_result",
          "data": {
            "text/plain": [
              "       MEI      N2O        TSI  Aerosols\n",
              "29  -0.140  305.395  1365.5269    0.0101\n",
              "30  -0.050  305.530  1365.6289    0.0097\n",
              "31  -0.293  305.653  1365.6794    0.0122\n",
              "32  -0.307  305.775  1365.6746    0.0146\n",
              "33  -0.191  305.911  1365.5475    0.0158\n",
              "..     ...      ...        ...       ...\n",
              "279  0.759  319.930  1365.7067    0.0041\n",
              "280  0.793  320.010  1365.8419    0.0043\n",
              "281  0.892  320.125  1365.8270    0.0044\n",
              "282  1.292  320.321  1365.7039    0.0049\n",
              "283  0.951  320.451  1365.7087    0.0054\n",
              "\n",
              "[219 rows x 4 columns]"
            ],
            "text/html": [
              "\n",
              "  <div id=\"df-cb5d7919-f7cb-4c8b-8f6b-5ef8cbe619db\">\n",
              "    <div class=\"colab-df-container\">\n",
              "      <div>\n",
              "<style scoped>\n",
              "    .dataframe tbody tr th:only-of-type {\n",
              "        vertical-align: middle;\n",
              "    }\n",
              "\n",
              "    .dataframe tbody tr th {\n",
              "        vertical-align: top;\n",
              "    }\n",
              "\n",
              "    .dataframe thead th {\n",
              "        text-align: right;\n",
              "    }\n",
              "</style>\n",
              "<table border=\"1\" class=\"dataframe\">\n",
              "  <thead>\n",
              "    <tr style=\"text-align: right;\">\n",
              "      <th></th>\n",
              "      <th>MEI</th>\n",
              "      <th>N2O</th>\n",
              "      <th>TSI</th>\n",
              "      <th>Aerosols</th>\n",
              "    </tr>\n",
              "  </thead>\n",
              "  <tbody>\n",
              "    <tr>\n",
              "      <th>29</th>\n",
              "      <td>-0.140</td>\n",
              "      <td>305.395</td>\n",
              "      <td>1365.5269</td>\n",
              "      <td>0.0101</td>\n",
              "    </tr>\n",
              "    <tr>\n",
              "      <th>30</th>\n",
              "      <td>-0.050</td>\n",
              "      <td>305.530</td>\n",
              "      <td>1365.6289</td>\n",
              "      <td>0.0097</td>\n",
              "    </tr>\n",
              "    <tr>\n",
              "      <th>31</th>\n",
              "      <td>-0.293</td>\n",
              "      <td>305.653</td>\n",
              "      <td>1365.6794</td>\n",
              "      <td>0.0122</td>\n",
              "    </tr>\n",
              "    <tr>\n",
              "      <th>32</th>\n",
              "      <td>-0.307</td>\n",
              "      <td>305.775</td>\n",
              "      <td>1365.6746</td>\n",
              "      <td>0.0146</td>\n",
              "    </tr>\n",
              "    <tr>\n",
              "      <th>33</th>\n",
              "      <td>-0.191</td>\n",
              "      <td>305.911</td>\n",
              "      <td>1365.5475</td>\n",
              "      <td>0.0158</td>\n",
              "    </tr>\n",
              "    <tr>\n",
              "      <th>...</th>\n",
              "      <td>...</td>\n",
              "      <td>...</td>\n",
              "      <td>...</td>\n",
              "      <td>...</td>\n",
              "    </tr>\n",
              "    <tr>\n",
              "      <th>279</th>\n",
              "      <td>0.759</td>\n",
              "      <td>319.930</td>\n",
              "      <td>1365.7067</td>\n",
              "      <td>0.0041</td>\n",
              "    </tr>\n",
              "    <tr>\n",
              "      <th>280</th>\n",
              "      <td>0.793</td>\n",
              "      <td>320.010</td>\n",
              "      <td>1365.8419</td>\n",
              "      <td>0.0043</td>\n",
              "    </tr>\n",
              "    <tr>\n",
              "      <th>281</th>\n",
              "      <td>0.892</td>\n",
              "      <td>320.125</td>\n",
              "      <td>1365.8270</td>\n",
              "      <td>0.0044</td>\n",
              "    </tr>\n",
              "    <tr>\n",
              "      <th>282</th>\n",
              "      <td>1.292</td>\n",
              "      <td>320.321</td>\n",
              "      <td>1365.7039</td>\n",
              "      <td>0.0049</td>\n",
              "    </tr>\n",
              "    <tr>\n",
              "      <th>283</th>\n",
              "      <td>0.951</td>\n",
              "      <td>320.451</td>\n",
              "      <td>1365.7087</td>\n",
              "      <td>0.0054</td>\n",
              "    </tr>\n",
              "  </tbody>\n",
              "</table>\n",
              "<p>219 rows × 4 columns</p>\n",
              "</div>\n",
              "      <button class=\"colab-df-convert\" onclick=\"convertToInteractive('df-cb5d7919-f7cb-4c8b-8f6b-5ef8cbe619db')\"\n",
              "              title=\"Convert this dataframe to an interactive table.\"\n",
              "              style=\"display:none;\">\n",
              "        \n",
              "  <svg xmlns=\"http://www.w3.org/2000/svg\" height=\"24px\"viewBox=\"0 0 24 24\"\n",
              "       width=\"24px\">\n",
              "    <path d=\"M0 0h24v24H0V0z\" fill=\"none\"/>\n",
              "    <path d=\"M18.56 5.44l.94 2.06.94-2.06 2.06-.94-2.06-.94-.94-2.06-.94 2.06-2.06.94zm-11 1L8.5 8.5l.94-2.06 2.06-.94-2.06-.94L8.5 2.5l-.94 2.06-2.06.94zm10 10l.94 2.06.94-2.06 2.06-.94-2.06-.94-.94-2.06-.94 2.06-2.06.94z\"/><path d=\"M17.41 7.96l-1.37-1.37c-.4-.4-.92-.59-1.43-.59-.52 0-1.04.2-1.43.59L10.3 9.45l-7.72 7.72c-.78.78-.78 2.05 0 2.83L4 21.41c.39.39.9.59 1.41.59.51 0 1.02-.2 1.41-.59l7.78-7.78 2.81-2.81c.8-.78.8-2.07 0-2.86zM5.41 20L4 18.59l7.72-7.72 1.47 1.35L5.41 20z\"/>\n",
              "  </svg>\n",
              "      </button>\n",
              "      \n",
              "  <style>\n",
              "    .colab-df-container {\n",
              "      display:flex;\n",
              "      flex-wrap:wrap;\n",
              "      gap: 12px;\n",
              "    }\n",
              "\n",
              "    .colab-df-convert {\n",
              "      background-color: #E8F0FE;\n",
              "      border: none;\n",
              "      border-radius: 50%;\n",
              "      cursor: pointer;\n",
              "      display: none;\n",
              "      fill: #1967D2;\n",
              "      height: 32px;\n",
              "      padding: 0 0 0 0;\n",
              "      width: 32px;\n",
              "    }\n",
              "\n",
              "    .colab-df-convert:hover {\n",
              "      background-color: #E2EBFA;\n",
              "      box-shadow: 0px 1px 2px rgba(60, 64, 67, 0.3), 0px 1px 3px 1px rgba(60, 64, 67, 0.15);\n",
              "      fill: #174EA6;\n",
              "    }\n",
              "\n",
              "    [theme=dark] .colab-df-convert {\n",
              "      background-color: #3B4455;\n",
              "      fill: #D2E3FC;\n",
              "    }\n",
              "\n",
              "    [theme=dark] .colab-df-convert:hover {\n",
              "      background-color: #434B5C;\n",
              "      box-shadow: 0px 1px 3px 1px rgba(0, 0, 0, 0.15);\n",
              "      filter: drop-shadow(0px 1px 2px rgba(0, 0, 0, 0.3));\n",
              "      fill: #FFFFFF;\n",
              "    }\n",
              "  </style>\n",
              "\n",
              "      <script>\n",
              "        const buttonEl =\n",
              "          document.querySelector('#df-cb5d7919-f7cb-4c8b-8f6b-5ef8cbe619db button.colab-df-convert');\n",
              "        buttonEl.style.display =\n",
              "          google.colab.kernel.accessAllowed ? 'block' : 'none';\n",
              "\n",
              "        async function convertToInteractive(key) {\n",
              "          const element = document.querySelector('#df-cb5d7919-f7cb-4c8b-8f6b-5ef8cbe619db');\n",
              "          const dataTable =\n",
              "            await google.colab.kernel.invokeFunction('convertToInteractive',\n",
              "                                                     [key], {});\n",
              "          if (!dataTable) return;\n",
              "\n",
              "          const docLinkHtml = 'Like what you see? Visit the ' +\n",
              "            '<a target=\"_blank\" href=https://colab.research.google.com/notebooks/data_table.ipynb>data table notebook</a>'\n",
              "            + ' to learn more about interactive tables.';\n",
              "          element.innerHTML = '';\n",
              "          dataTable['output_type'] = 'display_data';\n",
              "          await google.colab.output.renderOutput(dataTable, element);\n",
              "          const docLink = document.createElement('div');\n",
              "          docLink.innerHTML = docLinkHtml;\n",
              "          element.appendChild(docLink);\n",
              "        }\n",
              "      </script>\n",
              "    </div>\n",
              "  </div>\n",
              "  "
            ]
          },
          "metadata": {},
          "execution_count": 57
        }
      ]
    },
    {
      "cell_type": "code",
      "source": [
        "y"
      ],
      "metadata": {
        "colab": {
          "base_uri": "https://localhost:8080/"
        },
        "id": "fw1nLiBc_Cer",
        "outputId": "f4b397ff-e0e0-4e9b-e9b0-7ad1087ef34e"
      },
      "execution_count": null,
      "outputs": [
        {
          "output_type": "execute_result",
          "data": {
            "text/plain": [
              "29    -0.008\n",
              "30    -0.093\n",
              "31    -0.002\n",
              "32     0.121\n",
              "33     0.065\n",
              "       ...  \n",
              "279    0.482\n",
              "280    0.425\n",
              "281    0.472\n",
              "282    0.440\n",
              "283    0.518\n",
              "Name: Temp, Length: 219, dtype: float64"
            ]
          },
          "metadata": {},
          "execution_count": 58
        }
      ]
    },
    {
      "cell_type": "code",
      "source": [
        "X2 = sm.add_constant(x)\n",
        "est = sm.OLS(y, X2)\n",
        "est2 = est.fit()\n",
        "print(est2.summary())"
      ],
      "metadata": {
        "colab": {
          "base_uri": "https://localhost:8080/"
        },
        "id": "hM0oyOY8_EAW",
        "outputId": "d842c67e-cc09-422d-bdff-abeff9ce9dc4"
      },
      "execution_count": null,
      "outputs": [
        {
          "output_type": "stream",
          "name": "stdout",
          "text": [
            "                            OLS Regression Results                            \n",
            "==============================================================================\n",
            "Dep. Variable:                   Temp   R-squared:                       0.706\n",
            "Model:                            OLS   Adj. R-squared:                  0.701\n",
            "Method:                 Least Squares   F-statistic:                     128.7\n",
            "Date:                Sun, 22 May 2022   Prob (F-statistic):           8.92e-56\n",
            "Time:                        18:24:58   Log-Likelihood:                 223.51\n",
            "No. Observations:                 219   AIC:                            -437.0\n",
            "Df Residuals:                     214   BIC:                            -420.1\n",
            "Df Model:                           4                                         \n",
            "Covariance Type:            nonrobust                                         \n",
            "==============================================================================\n",
            "                 coef    std err          t      P>|t|      [0.025      0.975]\n",
            "------------------------------------------------------------------------------\n",
            "const        -53.1366     23.146     -2.296      0.023     -98.759      -7.514\n",
            "MEI            0.0606      0.007      8.212      0.000       0.046       0.075\n",
            "N2O            0.0217      0.002     12.113      0.000       0.018       0.025\n",
            "TSI            0.0342      0.017      2.028      0.044       0.001       0.067\n",
            "Aerosols      -8.3714      1.995     -4.197      0.000     -12.303      -4.439\n",
            "==============================================================================\n",
            "Omnibus:                        9.543   Durbin-Watson:                   0.940\n",
            "Prob(Omnibus):                  0.008   Jarque-Bera (JB):               10.250\n",
            "Skew:                           0.407   Prob(JB):                      0.00595\n",
            "Kurtosis:                       3.678   Cond. No.                     5.45e+06\n",
            "==============================================================================\n",
            "\n",
            "Warnings:\n",
            "[1] Standard Errors assume that the covariance matrix of the errors is correctly specified.\n",
            "[2] The condition number is large, 5.45e+06. This might indicate that there are\n",
            "strong multicollinearity or other numerical problems.\n"
          ]
        },
        {
          "output_type": "stream",
          "name": "stderr",
          "text": [
            "/usr/local/lib/python3.7/dist-packages/statsmodels/tsa/tsatools.py:117: FutureWarning: In a future version of pandas all arguments of concat except for the argument 'objs' will be keyword-only\n",
            "  x = pd.concat(x[::order], 1)\n"
          ]
        }
      ]
    },
    {
      "cell_type": "code",
      "source": [
        ""
      ],
      "metadata": {
        "id": "cSFrYfuhADni"
      },
      "execution_count": null,
      "outputs": []
    }
  ]
}